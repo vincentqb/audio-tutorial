{
 "cells": [
  {
   "cell_type": "code",
   "execution_count": 1,
   "metadata": {},
   "outputs": [],
   "source": [
    "# https://github.com/pytorch/pytorch/issues/13883\n",
    "import torch.multiprocessing as mp\n",
    "\n",
    "if __name__ == '__main__':\n",
    "    mp.set_start_method('forkserver')"
   ]
  },
  {
   "cell_type": "code",
   "execution_count": 2,
   "metadata": {},
   "outputs": [
    {
     "name": "stdout",
     "output_type": "stream",
     "text": [
      "start time: 2020-04-14 16:51:45.516330\n"
     ]
    }
   ],
   "source": [
    "import argparse\n",
    "import collections\n",
    "import cProfile\n",
    "import hashlib\n",
    "import itertools\n",
    "import math\n",
    "import os\n",
    "import pstats\n",
    "import re\n",
    "import shutil\n",
    "import signal\n",
    "import statistics\n",
    "import string\n",
    "from collections import defaultdict\n",
    "from datetime import datetime\n",
    "from io import StringIO\n",
    "\n",
    "import matplotlib\n",
    "import torch\n",
    "import torch.distributed as dist\n",
    "import torchaudio\n",
    "from matplotlib import pyplot as plt\n",
    "from tabulate import tabulate\n",
    "from torch import nn, topk\n",
    "from torch.optim import SGD, Adadelta, Adam\n",
    "from torch.optim.lr_scheduler import ExponentialLR, ReduceLROnPlateau\n",
    "from torch.utils.data import DataLoader\n",
    "from torchaudio.datasets import LIBRISPEECH, SPEECHCOMMANDS\n",
    "from torchaudio.transforms import MFCC, Resample\n",
    "from tqdm.notebook import tqdm as tqdm\n",
    "\n",
    "print(\"start time: {}\".format(str(datetime.now())), flush=True)\n",
    "\n",
    "try:\n",
    "    %matplotlib inline\n",
    "    in_notebook = True\n",
    "except NameError:\n",
    "    matplotlib.use(\"Agg\")\n",
    "    in_notebook = False\n",
    "\n",
    "# Empty CUDA cache\n",
    "torch.cuda.empty_cache()\n",
    "\n",
    "# Profiling performance\n",
    "pr = cProfile.Profile()\n",
    "pr.enable()"
   ]
  },
  {
   "cell_type": "code",
   "execution_count": 3,
   "metadata": {},
   "outputs": [
    {
     "name": "stdout",
     "output_type": "stream",
     "text": [
      "Namespace(arch='wav2letter', batch_size=64, dataset='librispeech', dist_backend='nccl', dist_url='tcp://224.66.41.62:23456', epochs=200, eps=1e-08, gradient=False, jit=False, learning_rate=1.0, print_freq=10, resume='', rho=0.95, start_epoch=0, weight_decay=1e-05, workers=0, world_size=1)\n"
     ]
    }
   ],
   "source": [
    "# Create argument parser\n",
    "parser = argparse.ArgumentParser()\n",
    "\n",
    "parser.add_argument('--workers', default=0, type=int,\n",
    "                    metavar='N', help='number of data loading workers')\n",
    "parser.add_argument('--resume', default='', type=str,\n",
    "                    metavar='PATH', help='path to latest checkpoint')\n",
    "\n",
    "parser.add_argument('--epochs', default=200, type=int,\n",
    "                    metavar='N', help='number of total epochs to run')\n",
    "parser.add_argument('--start-epoch', default=0, type=int,\n",
    "                    metavar='N', help='manual epoch number')\n",
    "parser.add_argument('--print-freq', default=10, type=int,\n",
    "                    metavar='N', help='print frequency in epochs')\n",
    "\n",
    "parser.add_argument('--arch', metavar='ARCH', default='wav2letter',\n",
    "                    choices=[\"wav2letter\", \"lstm\"], help='model architecture')\n",
    "parser.add_argument('--batch-size', default=64, type=int,\n",
    "                    metavar='N', help='mini-batch size')\n",
    "parser.add_argument('--learning-rate', default=1., type=float,\n",
    "                    metavar='LR', help='initial learning rate')\n",
    "# parser.add_argument('--momentum', default=0.9, type=float, metavar='M', help='momentum')\n",
    "parser.add_argument('--weight-decay', default=1e-5,\n",
    "                    type=float, metavar='W', help='weight decay')\n",
    "parser.add_argument(\"--eps\", metavar='EPS', type=float, default=1e-8)\n",
    "parser.add_argument(\"--rho\", metavar='RHO', type=float, default=.95)\n",
    "\n",
    "parser.add_argument('--world-size', default=1, type=int,\n",
    "                    help='number of distributed processes')\n",
    "parser.add_argument('--dist-url', default='tcp://224.66.41.62:23456',\n",
    "                    type=str, help='url used to set up distributed training')\n",
    "parser.add_argument('--dist-backend', default='nccl',\n",
    "                    type=str, help='distributed backend')\n",
    "parser.add_argument('--dataset', default='librispeech', type=str)\n",
    "parser.add_argument('--gradient', action=\"store_true\")\n",
    "parser.add_argument('--jit', action=\"store_true\")\n",
    "\n",
    "if in_notebook:\n",
    "    args, _ = parser.parse_known_args()\n",
    "else:\n",
    "    args = parser.parse_args()\n",
    "\n",
    "if 'SLURM_PROCID' not in os.environ or os.environ['SLURM_PROCID'] == '0':\n",
    "    print(args, flush=True)"
   ]
  },
  {
   "cell_type": "markdown",
   "metadata": {},
   "source": [
    "# Checkpoint"
   ]
  },
  {
   "cell_type": "code",
   "execution_count": 4,
   "metadata": {},
   "outputs": [
    {
     "name": "stdout",
     "output_type": "stream",
     "text": [
      "Signal handler installed\n"
     ]
    }
   ],
   "source": [
    "MAIN_PID = os.getpid()\n",
    "CHECKPOINT_filename = args.resume if args.resume else 'checkpoint.pth.tar'\n",
    "CHECKPOINT_tempfile = CHECKPOINT_filename + '.temp'\n",
    "HALT_filename = CHECKPOINT_filename + '.HALT'\n",
    "SIGNAL_RECEIVED = False\n",
    "\n",
    "# HALT file is used as a sign of job completion.\n",
    "# Make sure no HALT file left from previous runs.\n",
    "if os.path.isfile(HALT_filename):\n",
    "    os.remove(HALT_filename)\n",
    "\n",
    "# Remove CHECKPOINT_tempfile, in case the signal arrives in the\n",
    "# middle of copying from CHECKPOINT_tempfile to CHECKPOINT_filename\n",
    "if os.path.isfile(CHECKPOINT_tempfile):\n",
    "    os.remove(CHECKPOINT_tempfile)\n",
    "\n",
    "\n",
    "def SIGTERM_handler(a, b):\n",
    "    print('received sigterm')\n",
    "    pass\n",
    "\n",
    "\n",
    "def signal_handler(a, b):\n",
    "    global SIGNAL_RECEIVED\n",
    "    print('Signal received', a, datetime.now().strftime(\n",
    "        \"%y%m%d.%H%M%S\"), flush=True)\n",
    "    SIGNAL_RECEIVED = True\n",
    "\n",
    "    # If HALT file exists, which means the job is done, exit peacefully.\n",
    "    if os.path.isfile(HALT_filename):\n",
    "        print('Job is done, exiting')\n",
    "        exit(0)\n",
    "\n",
    "    return\n",
    "\n",
    "\n",
    "def trigger_job_requeue():\n",
    "    # Submit a new job to resume from checkpoint.\n",
    "    if os.path.isfile(CHECKPOINT_filename) and \\\n",
    "       os.environ['SLURM_PROCID'] == '0' and \\\n",
    "       os.getpid() == MAIN_PID:\n",
    "        print('pid: ', os.getpid(), ' ppid: ', os.getppid(), flush=True)\n",
    "        print('time is up, back to slurm queue', flush=True)\n",
    "        command = 'scontrol requeue ' + os.environ['SLURM_JOB_ID']\n",
    "        print(command)\n",
    "        if os.system(command):\n",
    "            raise RuntimeError('requeue failed')\n",
    "        print('New job submitted to the queue', flush=True)\n",
    "    exit(0)\n",
    "\n",
    "\n",
    "# Install signal handler\n",
    "signal.signal(signal.SIGUSR1, signal_handler)\n",
    "signal.signal(signal.SIGTERM, SIGTERM_handler)\n",
    "print('Signal handler installed', flush=True)\n",
    "\n",
    "\n",
    "def save_checkpoint(state, is_best, filename=CHECKPOINT_filename):\n",
    "    \"\"\"\n",
    "    Save the model to a temporary file first,\n",
    "    then copy it to filename, in case the signal interrupts\n",
    "    the torch.save() process.\n",
    "    \"\"\"\n",
    "    if not args.distributed or os.environ['SLURM_PROCID'] == '0':\n",
    "        torch.save(state, CHECKPOINT_tempfile)\n",
    "        if os.path.isfile(CHECKPOINT_tempfile):\n",
    "            os.rename(CHECKPOINT_tempfile, filename)\n",
    "        if is_best:\n",
    "            shutil.copyfile(filename, 'model_best.pth.tar')\n",
    "        print(\"Checkpoint: saved\")"
   ]
  },
  {
   "cell_type": "markdown",
   "metadata": {},
   "source": [
    "# Distributed"
   ]
  },
  {
   "cell_type": "code",
   "execution_count": 5,
   "metadata": {},
   "outputs": [],
   "source": [
    "# Use #nodes as world_size\n",
    "if 'SLURM_NNODES' in os.environ:\n",
    "    args.world_size = int(os.environ['SLURM_NNODES'])\n",
    "\n",
    "args.distributed = args.world_size > 1\n",
    "\n",
    "if args.distributed:\n",
    "    os.environ['RANK'] = os.environ['SLURM_PROCID']\n",
    "    os.environ['WORLD_SIZE'] = str(args.world_size)\n",
    "    print('in distributed', os.environ['RANK'],\n",
    "          os.environ['MASTER_ADDR'], os.environ['MASTER_PORT'], flush=True)\n",
    "    dist.init_process_group(backend=args.dist_backend,\n",
    "                            init_method=args.dist_url, world_size=args.world_size)\n",
    "\n",
    "    print('init process', flush=True)"
   ]
  },
  {
   "cell_type": "markdown",
   "metadata": {},
   "source": [
    "# Parameters"
   ]
  },
  {
   "cell_type": "code",
   "execution_count": 6,
   "metadata": {},
   "outputs": [
    {
     "name": "stdout",
     "output_type": "stream",
     "text": [
      "2 GPUs\n"
     ]
    }
   ],
   "source": [
    "audio_backend = \"soundfile\"\n",
    "torchaudio.set_audio_backend(audio_backend)\n",
    "\n",
    "root = \"/datasets01/\"\n",
    "folder_in_archive = \"librispeech/062419/\"\n",
    "\n",
    "device = \"cuda\" if torch.cuda.is_available() else \"cpu\"\n",
    "num_devices = torch.cuda.device_count()\n",
    "# num_devices = 1\n",
    "print(num_devices, \"GPUs\", flush=True)\n",
    "\n",
    "# max number of sentences per batch\n",
    "batch_size = args.batch_size\n",
    "# batch_size = 2048\n",
    "# batch_size = 512\n",
    "# batch_size = 256\n",
    "# batch_size = 64\n",
    "# batch_size = 1\n",
    "\n",
    "training_percentage = 90.\n",
    "validation_percentage = 5.\n",
    "\n",
    "data_loader_training_params = {\n",
    "    \"num_workers\": args.workers,\n",
    "    \"pin_memory\": True,\n",
    "    \"shuffle\": True,\n",
    "    \"drop_last\": True,\n",
    "}\n",
    "data_loader_validation_params = data_loader_training_params.copy()\n",
    "data_loader_validation_params[\"shuffle\"] = False\n",
    "\n",
    "non_blocking = True\n",
    "\n",
    "\n",
    "# text preprocessing\n",
    "\n",
    "char_null = \"-\"\n",
    "char_space = \" \"\n",
    "char_pad = \"*\"\n",
    "char_apostrophe = \"'\"\n",
    "\n",
    "labels = [char_null + char_pad + char_apostrophe + string.ascii_lowercase]\n",
    "\n",
    "# excluded_dir = [\"_background_noise_\"]\n",
    "# folder_speechcommands = './SpeechCommands/speech_commands_v0.02'\n",
    "# labels = [char_null, char_pad] + [d for d in next(os.walk(folder_speechcommands))[1] if d not in excluded_dir]\n",
    "\n",
    "\n",
    "# audio\n",
    "\n",
    "sample_rate_original = 16000\n",
    "sample_rate_new = 8000\n",
    "# resample = Resample(sample_rate_original, sample_rate_new).to(device)\n",
    "resample = None\n",
    "\n",
    "n_mfcc = 13\n",
    "melkwargs = {\n",
    "    'n_fft': 512,\n",
    "    'n_mels': 20,\n",
    "    'hop_length': 80,  # (160, 80)\n",
    "}\n",
    "mfcc = MFCC(sample_rate=sample_rate_original,\n",
    "            n_mfcc=n_mfcc, melkwargs=melkwargs).to(device)\n",
    "# mfcc = None\n",
    "\n",
    "\n",
    "# Optimizer\n",
    "\n",
    "optimizer_params_adadelta = {\n",
    "    \"lr\": args.learning_rate,\n",
    "    \"eps\": args.eps,\n",
    "    \"rho\": args.rho,\n",
    "    \"weight_decay\": args.weight_decay,\n",
    "}\n",
    "\n",
    "optimizer_params_adam = {\n",
    "    \"lr\": args.learning_rate,\n",
    "    \"eps\": args.eps,\n",
    "    \"weight_decay\": args.weight_decay,\n",
    "}\n",
    "\n",
    "optimizer_params_sgd = {\n",
    "    \"lr\": args.learning_rate,\n",
    "    \"weight_decay\": args.weight_decay,\n",
    "}\n",
    "\n",
    "optimizer_params_adadelta = {\n",
    "    \"lr\": args.learning_rate,\n",
    "    \"eps\": args.eps,\n",
    "    \"rho\": args.rho,\n",
    "    \"weight_decay\": args.weight_decay,\n",
    "}\n",
    "\n",
    "Optimizer = Adadelta\n",
    "optimizer_params = optimizer_params_sgd\n",
    "\n",
    "gamma = 0.95\n",
    "\n",
    "\n",
    "# Model\n",
    "\n",
    "num_features = n_mfcc if n_mfcc else 1\n",
    "\n",
    "lstm_params = {\n",
    "    \"hidden_size\": 600,\n",
    "    \"num_layers\": 2,\n",
    "    \"batch_first\": False,\n",
    "    \"bidirectional\": False,\n",
    "    \"dropout\": 0.,\n",
    "}\n",
    "\n",
    "clip_norm = 0.  # 10.\n",
    "\n",
    "zero_infinity = False\n",
    "\n",
    "start_epoch = args.start_epoch\n",
    "max_epoch = args.epochs\n",
    "mod_epoch = args.print_freq"
   ]
  },
  {
   "cell_type": "markdown",
   "metadata": {},
   "source": [
    "# Text encoding"
   ]
  },
  {
   "cell_type": "code",
   "execution_count": 7,
   "metadata": {},
   "outputs": [
    {
     "name": "stdout",
     "output_type": "stream",
     "text": [
      "vocab_size 29\n"
     ]
    }
   ],
   "source": [
    "class Coder:\n",
    "    def __init__(self, labels):\n",
    "        labels = list(collections.OrderedDict.fromkeys(list(\"\".join(labels))))\n",
    "        self.length = len(labels)\n",
    "        enumerated = list(enumerate(labels))\n",
    "        flipped = [(sub[1], sub[0]) for sub in enumerated]\n",
    "\n",
    "        d1 = collections.OrderedDict(enumerated)\n",
    "        d2 = collections.OrderedDict(flipped)\n",
    "        self.mapping = {**d1, **d2}\n",
    "        self.mapping[char_space] = self.mapping[char_pad]\n",
    "\n",
    "    def _map(self, iterable):\n",
    "        # iterable to iterable\n",
    "        return [self.mapping[i] for i in iterable]\n",
    "\n",
    "    def encode(self, iterable):\n",
    "        if isinstance(iterable[0], list):\n",
    "            return [self.encode(i) for i in iterable]\n",
    "        else:\n",
    "            return self._map(iterable)\n",
    "\n",
    "    def decode(self, tensor):\n",
    "        if isinstance(tensor[0], list):\n",
    "            return [self.decode(t) for t in tensor]\n",
    "        else:\n",
    "            # not idempotent, since clean string\n",
    "            return \"\".join(self._map(tensor)).replace(char_null, \"\").replace(char_pad, char_space).strip()\n",
    "\n",
    "\n",
    "coder = Coder(labels)\n",
    "encode = coder.encode\n",
    "decode = coder.decode\n",
    "vocab_size = coder.length\n",
    "print(\"vocab_size\", vocab_size, flush=True)"
   ]
  },
  {
   "cell_type": "markdown",
   "metadata": {},
   "source": [
    "# Dataset"
   ]
  },
  {
   "cell_type": "code",
   "execution_count": 8,
   "metadata": {},
   "outputs": [],
   "source": [
    "class IterableMemoryCache:\n",
    "\n",
    "    def __init__(self, iterable):\n",
    "        self.iterable = iterable\n",
    "        self._iter = iter(iterable)\n",
    "        self._done = False\n",
    "        self._values = []\n",
    "\n",
    "    def __iter__(self):\n",
    "        if self._done:\n",
    "            return iter(self._values)\n",
    "        return itertools.chain(self._values, self._gen_iter())\n",
    "\n",
    "    def _gen_iter(self):\n",
    "        for new_value in self._iter:\n",
    "            self._values.append(new_value)\n",
    "            yield new_value\n",
    "        self._done = True\n",
    "\n",
    "    def __len__(self):\n",
    "        return len(self._iterable)\n",
    "\n",
    "\n",
    "class MapMemoryCache(torch.utils.data.Dataset):\n",
    "    \"\"\"\n",
    "    Wrap a dataset so that, whenever a new item is returned, it is saved to memory.\n",
    "    \"\"\"\n",
    "\n",
    "    def __init__(self, dataset):\n",
    "        self.dataset = dataset\n",
    "        self._cache = [None] * len(dataset)\n",
    "\n",
    "    def __getitem__(self, n):\n",
    "        if self._cache[n]:\n",
    "            return self._cache[n]\n",
    "\n",
    "        item = self.dataset[n]\n",
    "        self._cache[n] = item\n",
    "\n",
    "        return item\n",
    "\n",
    "    def __len__(self):\n",
    "        return len(self.dataset)\n",
    "\n",
    "\n",
    "class Processed(torch.utils.data.Dataset):\n",
    "\n",
    "    def __init__(self, process_datapoint, dataset):\n",
    "        self.process_datapoint = process_datapoint\n",
    "        self.dataset = dataset\n",
    "\n",
    "    def __getitem__(self, n):\n",
    "        try:\n",
    "            item = self.dataset[n]\n",
    "            return self.process_datapoint(item)\n",
    "        except (FileNotFoundError, RuntimeError):\n",
    "            return None\n",
    "\n",
    "    def __next__(self):\n",
    "        try:\n",
    "            item = next(self.dataset)\n",
    "            return self.process_datapoint(item)\n",
    "        except (FileNotFoundError, RuntimeError):\n",
    "            return self.__next__()\n",
    "\n",
    "    def __len__(self):\n",
    "        return len(self.dataset)"
   ]
  },
  {
   "cell_type": "code",
   "execution_count": 9,
   "metadata": {},
   "outputs": [],
   "source": [
    "# @torch.jit.script\n",
    "def process_datapoint(item):\n",
    "    transformed = item[0].to(device, non_blocking=non_blocking)\n",
    "    target = item[2].lower().replace(char_space, char_pad)\n",
    "\n",
    "    # apply mfcc, tranpose for pad_sequence\n",
    "    if resample is not None:\n",
    "        transformed = resample(transformed)\n",
    "\n",
    "    if mfcc is not None:\n",
    "        transformed = mfcc(transformed)\n",
    "    else:\n",
    "        transformed = transformed.unsqueeze(1)\n",
    "\n",
    "    transformed = transformed[0, ...].transpose(0, -1)\n",
    "\n",
    "    target = \" \" + target + \" \"\n",
    "    target = encode(target)\n",
    "    target = torch.tensor(target, dtype=torch.long, device=transformed.device)\n",
    "\n",
    "    transformed = transformed.to(\"cpu\")\n",
    "    target = target.to(\"cpu\")\n",
    "    return transformed, target"
   ]
  },
  {
   "cell_type": "code",
   "execution_count": 10,
   "metadata": {},
   "outputs": [],
   "source": [
    "def gives_error(d, i):\n",
    "    try:\n",
    "        d[i]\n",
    "        return False\n",
    "    except:\n",
    "        return True\n",
    "\n",
    "\n",
    "if False:\n",
    "    a = LIBRISPEECH(root, \"dev-clean\",\n",
    "                    folder_in_archive=folder_in_archive, download=False)\n",
    "    la = [i for i in range(len(a)) if gives_error(a, i)]\n",
    "    print(la)\n",
    "\n",
    "    b = LIBRISPEECH(root, \"train-clean-100\",\n",
    "                    folder_in_archive=folder_in_archive, download=False)\n",
    "    lb = [i for i in range(len(b)) if gives_error(b, i)]\n",
    "    print(lb)"
   ]
  },
  {
   "cell_type": "code",
   "execution_count": 11,
   "metadata": {},
   "outputs": [],
   "source": [
    "def datasets_librispeech():\n",
    "\n",
    "    def create(tag):\n",
    "        data = LIBRISPEECH(\n",
    "            root, tag, folder_in_archive=folder_in_archive, download=False)\n",
    "        data = Processed(process_datapoint, data)\n",
    "        data = MapMemoryCache(data)\n",
    "        return data\n",
    "\n",
    "    return create(\"train-clean-100\"), create(\"dev-clean\"), None"
   ]
  },
  {
   "cell_type": "code",
   "execution_count": 12,
   "metadata": {},
   "outputs": [],
   "source": [
    "def which_set(filename, validation_percentage, testing_percentage):\n",
    "    \"\"\"Determines which data partition the file should belong to.\n",
    "\n",
    "    We want to keep files in the same training, validation, or testing sets even\n",
    "    if new ones are added over time. This makes it less likely that testing\n",
    "    samples will accidentally be reused in training when long runs are restarted\n",
    "    for example. To keep this stability, a hash of the filename is taken and used\n",
    "    to determine which set it should belong to. This determination only depends on\n",
    "    the name and the set proportions, so it won't change as other files are added.\n",
    "\n",
    "    It's also useful to associate particular files as related (for example words\n",
    "    spoken by the same person), so anything after '_nohash_' in a filename is\n",
    "    ignored for set determination. This ensures that 'bobby_nohash_0.wav' and\n",
    "    'bobby_nohash_1.wav' are always in the same set, for example.\n",
    "\n",
    "    Args:\n",
    "        filename: File path of the data sample.\n",
    "        validation_percentage: How much of the data set to use for validation.\n",
    "        testing_percentage: How much of the data set to use for testing.\n",
    "\n",
    "    Returns:\n",
    "        String, one of 'training', 'validation', or 'testing'.\n",
    "    \"\"\"\n",
    "\n",
    "    MAX_NUM_WAVS_PER_CLASS = 2**27 - 1  # ~134M\n",
    "\n",
    "    base_name = os.path.basename(filename)\n",
    "\n",
    "    # We want to ignore anything after '_nohash_' in the file name when\n",
    "    # deciding which set to put a wav in, so the data set creator has a way of\n",
    "    # grouping wavs that are close variations of each other.\n",
    "    hash_name = re.sub(r'_nohash_.*$', '', base_name).encode(\"utf-8\")\n",
    "\n",
    "    # This looks a bit magical, but we need to decide whether this file should\n",
    "    # go into the training, testing, or validation sets, and we want to keep\n",
    "    # existing files in the same set even if more files are subsequently\n",
    "    # added.\n",
    "    # To do that, we need a stable way of deciding based on just the file name\n",
    "    # itself, so we do a hash of that and then use that to generate a\n",
    "    # probability value that we use to assign it.\n",
    "    hash_name_hashed = hashlib.sha1(hash_name).hexdigest()\n",
    "    percentage_hash = ((int(hash_name_hashed, 16) % (\n",
    "        MAX_NUM_WAVS_PER_CLASS + 1)) * (100.0 / MAX_NUM_WAVS_PER_CLASS))\n",
    "\n",
    "    if percentage_hash < validation_percentage:\n",
    "        result = 'validation'\n",
    "    elif percentage_hash < (testing_percentage + validation_percentage):\n",
    "        result = 'testing'\n",
    "    else:\n",
    "        result = 'training'\n",
    "\n",
    "    return result\n",
    "\n",
    "\n",
    "def filter_speechcommands(tag, training_percentage, data):\n",
    "    if training_percentage < 100.:\n",
    "        testing_percentage = (\n",
    "            100. - training_percentage - validation_percentage)\n",
    "\n",
    "        def which_set_filter(x): return which_set(\n",
    "            x, validation_percentage, testing_percentage) == tag\n",
    "        data._walker = list(filter(which_set_filter, data._walker))\n",
    "    return data\n",
    "\n",
    "\n",
    "def datasets_speechcommands():\n",
    "\n",
    "    root = \"./\"\n",
    "\n",
    "    def create(tag):\n",
    "        data = SPEECHCOMMANDS(root, download=True)\n",
    "        data = filter_speechcommands(tag, training_percentage, data)\n",
    "        data = Processed(process_datapoint, data)\n",
    "        data = MapMemoryCache(data)\n",
    "        return data\n",
    "\n",
    "    return create(\"training\"), create(\"validation\"), create(\"testing\")"
   ]
  },
  {
   "cell_type": "code",
   "execution_count": 13,
   "metadata": {},
   "outputs": [],
   "source": [
    "if args.dataset == \"librispeech\":\n",
    "    training, validation, _ = datasets_librispeech()\n",
    "elif args.dataset == \"speechcommand\":\n",
    "    training, validation, _ = datasets_speechcommands()"
   ]
  },
  {
   "cell_type": "code",
   "execution_count": 14,
   "metadata": {},
   "outputs": [],
   "source": [
    "if False:\n",
    "\n",
    "    from collections import Counter\n",
    "    from collections import OrderedDict\n",
    "\n",
    "    training_unprocessed = SPEECHCOMMANDS(\"./\", download=True)\n",
    "    training_unprocessed = filter_speechcommands(\n",
    "        training_percentage, training_unprocessed)\n",
    "\n",
    "    counter = Counter([t[2] for t in training_unprocessed])\n",
    "    counter = OrderedDict(counter.most_common())\n",
    "\n",
    "    plt.bar(counter.keys(), counter.values(), align='center')\n",
    "\n",
    "    if resample is not None:\n",
    "        waveform, sample_rate = training_unprocessed[0][0], training_unprocessed[0][1]\n",
    "\n",
    "        fn = \"sound.wav\"\n",
    "        torchaudio.save(fn, waveform, sample_rate_new)\n",
    "        ipd.Audio(fn)"
   ]
  },
  {
   "cell_type": "markdown",
   "metadata": {},
   "source": [
    "# Model\n",
    "\n",
    "[Wav2Letter](https://github.com/LearnedVector/Wav2Letter/blob/master/Google%20Speech%20Command%20Example.ipynb)"
   ]
  },
  {
   "cell_type": "code",
   "execution_count": 15,
   "metadata": {},
   "outputs": [],
   "source": [
    "def weight_init(m):\n",
    "    if isinstance(m, nn.Linear):\n",
    "        size = m.weight.size()\n",
    "        fan_out = size[0]  # number of rows\n",
    "        fan_in = size[1]  # number of columns\n",
    "        variance = math.sqrt(2.0/(fan_in + fan_out))\n",
    "        m.weight.data.normal_(0.0, variance)\n",
    "\n",
    "\n",
    "class PrintLayer(nn.Module):\n",
    "    def __init__(self):\n",
    "        super().__init__()\n",
    "\n",
    "    def forward(self, x):\n",
    "        print(x, flush=True)\n",
    "        return x\n",
    "\n",
    "\n",
    "class Wav2Letter(nn.Module):\n",
    "    \"\"\"Wav2Letter Speech Recognition model\n",
    "        https://arxiv.org/pdf/1609.03193.pdf\n",
    "        This specific architecture accepts mfcc or power spectrums speech signals\n",
    "\n",
    "        Args:\n",
    "            num_features (int): number of mfcc features\n",
    "            num_classes (int): number of unique grapheme class labels\n",
    "    \"\"\"\n",
    "\n",
    "    def __init__(self, num_features, num_classes):\n",
    "        super().__init__()\n",
    "\n",
    "        # Conv1d(in_channels, out_channels, kernel_size, stride)\n",
    "        self.layers = nn.Sequential(\n",
    "            nn.Conv1d(in_channels=num_features, out_channels=250,\n",
    "                      kernel_size=48, stride=2, padding=23),\n",
    "            nn.ReLU(inplace=True),\n",
    "            nn.Conv1d(in_channels=250, out_channels=250,\n",
    "                      kernel_size=7, stride=1, padding=3),\n",
    "            nn.ReLU(inplace=True),\n",
    "            nn.Conv1d(in_channels=250, out_channels=250,\n",
    "                      kernel_size=7, stride=1, padding=3),\n",
    "            nn.ReLU(inplace=True),\n",
    "            nn.Conv1d(in_channels=250, out_channels=250,\n",
    "                      kernel_size=7, stride=1, padding=3),\n",
    "            nn.ReLU(inplace=True),\n",
    "            nn.Conv1d(in_channels=250, out_channels=250,\n",
    "                      kernel_size=7, stride=1, padding=3),\n",
    "            nn.ReLU(inplace=True),\n",
    "            nn.Conv1d(in_channels=250, out_channels=250,\n",
    "                      kernel_size=7, stride=1, padding=3),\n",
    "            nn.ReLU(inplace=True),\n",
    "            nn.Conv1d(in_channels=250, out_channels=250,\n",
    "                      kernel_size=7, stride=1, padding=3),\n",
    "            nn.ReLU(inplace=True),\n",
    "            nn.Conv1d(in_channels=250, out_channels=250,\n",
    "                      kernel_size=7, stride=1, padding=3),\n",
    "            nn.ReLU(inplace=True),\n",
    "            nn.Conv1d(in_channels=250, out_channels=2000,\n",
    "                      kernel_size=32, stride=1, padding=16),\n",
    "            nn.ReLU(inplace=True),\n",
    "            nn.Conv1d(in_channels=2000, out_channels=2000,\n",
    "                      kernel_size=1, stride=1, padding=0),\n",
    "            nn.ReLU(inplace=True),\n",
    "            nn.Conv1d(in_channels=2000, out_channels=num_classes,\n",
    "                      kernel_size=1, stride=1, padding=0),\n",
    "            nn.ReLU(inplace=True),\n",
    "        )\n",
    "\n",
    "    def forward(self, batch):\n",
    "        \"\"\"Forward pass through Wav2Letter network than\n",
    "            takes log probability of output\n",
    "        Args:\n",
    "            batch (int): mini batch of data\n",
    "            shape (batch, num_features, frame_len)\n",
    "        Returns:\n",
    "            Tensor with shape (batch_size, num_classes, output_len)\n",
    "        \"\"\"\n",
    "        # batch: (batch_size, num_features, seq_len)\n",
    "        y_pred = self.layers(batch)\n",
    "        # y_pred: (batch_size, num_classes, output_len)\n",
    "        y_pred = y_pred.transpose(-1, -2)\n",
    "        # y_pred: (batch_size, output_len, num_classes)\n",
    "        return nn.functional.log_softmax(y_pred, dim=-1)"
   ]
  },
  {
   "cell_type": "code",
   "execution_count": 16,
   "metadata": {},
   "outputs": [],
   "source": [
    "class LSTMModel(nn.Module):\n",
    "\n",
    "    def __init__(self, num_features, num_classes, hidden_size, num_layers, bidirectional, dropout, batch_first):\n",
    "        super().__init__()\n",
    "\n",
    "        directions = bidirectional + 1\n",
    "\n",
    "        self.layer = nn.LSTM(\n",
    "            num_features, hidden_size=hidden_size,\n",
    "            num_layers=num_layers, bidirectional=bidirectional, dropout=dropout, batch_first=batch_first\n",
    "        )\n",
    "        # self.activation = nn.ReLU(inplace=True)\n",
    "        self.hidden2class = nn.Linear(directions*hidden_size, num_classes)\n",
    "\n",
    "    def forward(self, batch):\n",
    "        self.layer.flatten_parameters()\n",
    "        # print(\"forward\", flush=True)\n",
    "        # batch: batch, num_features, seq_len\n",
    "        # print(batch.shape, flush=True)\n",
    "        batch = batch.transpose(-1, -2).contiguous()\n",
    "        # batch: batch, seq_len, num_features\n",
    "        # print(batch.shape, flush=True)\n",
    "        outputs, _ = self.layer(batch)\n",
    "        # outputs = self.activation(outputs)\n",
    "        # outputs: batch, seq_len, directions*num_features\n",
    "        outputs = self.hidden2class(outputs)\n",
    "        # outputs: batch, seq_len, num_features\n",
    "        # print(outputs.shape, flush=True)\n",
    "        return nn.functional.log_softmax(outputs, dim=-1)"
   ]
  },
  {
   "cell_type": "markdown",
   "metadata": {},
   "source": [
    "# Word Decoder"
   ]
  },
  {
   "cell_type": "code",
   "execution_count": 17,
   "metadata": {},
   "outputs": [],
   "source": [
    "def greedy_decode(outputs):\n",
    "    \"\"\"Greedy Decoder. Returns highest probability of class labels for each timestep\n",
    "\n",
    "    Args:\n",
    "        outputs (torch.Tensor): shape (input length, batch size, number of classes (including blank))\n",
    "\n",
    "    Returns:\n",
    "        torch.Tensor: class labels per time step.\n",
    "    \"\"\"\n",
    "    _, indices = topk(outputs, k=1, dim=-1)\n",
    "    return indices[..., 0]"
   ]
  },
  {
   "cell_type": "code",
   "execution_count": 18,
   "metadata": {
    "scrolled": true
   },
   "outputs": [],
   "source": [
    "def build_transitions():\n",
    "\n",
    "    from collections import Counter\n",
    "\n",
    "    c = None\n",
    "\n",
    "    for _, label in training:\n",
    "        # Count bigrams\n",
    "        count = [((a.item(), b.item())) for (a, b) in zip(label, label[1:])]\n",
    "        count = Counter(count)\n",
    "        if c is None:\n",
    "            c = count\n",
    "        else:\n",
    "            c = c + count\n",
    "\n",
    "    # Encode as transition matrix\n",
    "\n",
    "    ind = torch.tensor(list(zip(*[a for (a, b) in c.items()])))\n",
    "    val = torch.tensor([b for (a, b) in c.items()], dtype=torch.float)\n",
    "\n",
    "    transitions = torch.sparse_coo_tensor(indices=ind, values=val, size=[\n",
    "                                          vocab_size, vocab_size]).coalesce().to_dense()\n",
    "    transitions = (transitions/torch.max(torch.tensor(1.),\n",
    "                                         transitions.max(dim=1)[0]).unsqueeze(1))\n",
    "\n",
    "    return transitions\n",
    "\n",
    "\n",
    "transitions = build_transitions()"
   ]
  },
  {
   "cell_type": "code",
   "execution_count": 19,
   "metadata": {},
   "outputs": [],
   "source": [
    "# https://gist.github.com/PetrochukM/afaa3613a99a8e7213d2efdd02ae4762\n",
    "# https://github.com/napsternxg/pytorch-practice/blob/master/Viterbi%20decoding%20and%20CRF.ipynb\n",
    "\n",
    "\n",
    "def viterbi_decode(tag_sequence: torch.Tensor, transition_matrix: torch.Tensor, top_k: int = 5):\n",
    "    \"\"\"\n",
    "    Perform Viterbi decoding in log space over a sequence given a transition matrix\n",
    "    specifying pairwise (transition) potentials between tags and a matrix of shape\n",
    "    (sequence_length, num_tags) specifying unary potentials for possible tags per\n",
    "    timestep.\n",
    "    Parameters\n",
    "    ----------\n",
    "    tag_sequence : torch.Tensor, required.\n",
    "        A tensor of shape (sequence_length, num_tags) representing scores for\n",
    "        a set of tags over a given sequence.\n",
    "    transition_matrix : torch.Tensor, required.\n",
    "        A tensor of shape (num_tags, num_tags) representing the binary potentials\n",
    "        for transitioning between a given pair of tags.\n",
    "    top_k : int, required.\n",
    "        Integer defining the top number of paths to decode.\n",
    "    Returns\n",
    "    -------\n",
    "    viterbi_path : List[int]\n",
    "        The tag indices of the maximum likelihood tag sequence.\n",
    "    viterbi_score : float\n",
    "        The score of the viterbi path.\n",
    "    \"\"\"\n",
    "    sequence_length, num_tags = tag_sequence.size()\n",
    "\n",
    "    path_scores = []\n",
    "    path_indices = []\n",
    "    # At the beginning, the maximum number of permutations is 1; therefore, we unsqueeze(0)\n",
    "    # to allow for 1 permutation.\n",
    "    path_scores.append(tag_sequence[0, :].unsqueeze(0))\n",
    "    # assert path_scores[0].size() == (n_permutations, num_tags)\n",
    "\n",
    "    # Evaluate the scores for all possible paths.\n",
    "    for timestep in range(1, sequence_length):\n",
    "        # Add pairwise potentials to current scores.\n",
    "        # assert path_scores[timestep - 1].size() == (n_permutations, num_tags)\n",
    "        summed_potentials = path_scores[timestep -\n",
    "                                        1].unsqueeze(2) + transition_matrix\n",
    "        summed_potentials = summed_potentials.view(-1, num_tags)\n",
    "\n",
    "        # Best pairwise potential path score from the previous timestep.\n",
    "        max_k = min(summed_potentials.size()[0], top_k)\n",
    "        scores, paths = torch.topk(summed_potentials, k=max_k, dim=0)\n",
    "        # assert scores.size() == (n_permutations, num_tags)\n",
    "        # assert paths.size() == (n_permutations, num_tags)\n",
    "\n",
    "        scores = tag_sequence[timestep, :] + scores\n",
    "        # assert scores.size() == (n_permutations, num_tags)\n",
    "        path_scores.append(scores)\n",
    "        path_indices.append(paths.squeeze())\n",
    "\n",
    "    # Construct the most likely sequence backwards.\n",
    "    path_scores = path_scores[-1].view(-1)\n",
    "    max_k = min(path_scores.size()[0], top_k)\n",
    "    viterbi_scores, best_paths = torch.topk(path_scores, k=max_k, dim=0)\n",
    "\n",
    "    viterbi_paths = []\n",
    "    for i in range(max_k):\n",
    "\n",
    "        viterbi_path = [best_paths[i].item()]\n",
    "        for backward_timestep in reversed(path_indices):\n",
    "            viterbi_path.append(\n",
    "                int(backward_timestep.view(-1)[viterbi_path[-1]]))\n",
    "\n",
    "        # Reverse the backward path.\n",
    "        viterbi_path.reverse()\n",
    "\n",
    "        # Viterbi paths uses (num_tags * n_permutations) nodes; therefore, we need to modulo.\n",
    "        viterbi_path = [j % num_tags for j in viterbi_path]\n",
    "        viterbi_paths.append(viterbi_path)\n",
    "\n",
    "    return viterbi_paths, viterbi_scores\n",
    "\n",
    "\n",
    "def batch_viterbi_decode(tag_sequence: torch.Tensor, transition_matrix: torch.Tensor, top_k: int = 5):\n",
    "\n",
    "    outputs = []\n",
    "    scores = []\n",
    "    for i in range(tag_sequence.shape[1]):\n",
    "        paths, score = viterbi_decode(tag_sequence[:, i, :], transitions)\n",
    "        outputs.append(paths)\n",
    "        scores.append(score)\n",
    "\n",
    "    return torch.tensor(outputs).transpose(0, -1), torch.cat(scores)\n",
    "\n",
    "\n",
    "def top_batch_viterbi_decode(tag_sequence: torch.Tensor):\n",
    "    output, _ = batch_viterbi_decode(tag_sequence, transitions, top_k=1)\n",
    "    return output[:, 0, :]"
   ]
  },
  {
   "cell_type": "code",
   "execution_count": 20,
   "metadata": {},
   "outputs": [],
   "source": [
    "# https://martin-thoma.com/word-error-rate-calculation/\n",
    "\n",
    "\n",
    "def levenshtein_distance(r, h):\n",
    "\n",
    "    # initialisation\n",
    "    d = torch.zeros((len(r)+1, len(h)+1), dtype=torch.long)\n",
    "    d[0, :] = torch.arange(0, len(h)+1, dtype=torch.long)\n",
    "    d[:, 0] = torch.arange(0, len(r)+1, dtype=torch.long)\n",
    "\n",
    "    # computation\n",
    "    for i in range(1, len(r)+1):\n",
    "        for j in range(1, len(h)+1):\n",
    "\n",
    "            if r[i-1] == h[j-1]:\n",
    "                d[i, j] = d[i-1, j-1]\n",
    "            else:\n",
    "                substitution = d[i-1, j-1] + 1\n",
    "                insertion = d[i, j-1] + 1\n",
    "                deletion = d[i-1, j] + 1\n",
    "                d[i, j] = min(substitution, insertion, deletion)\n",
    "\n",
    "    dist = d[len(r)][len(h)].item()\n",
    "\n",
    "    return dist"
   ]
  },
  {
   "cell_type": "markdown",
   "metadata": {},
   "source": [
    "# Train"
   ]
  },
  {
   "cell_type": "code",
   "execution_count": 21,
   "metadata": {},
   "outputs": [],
   "source": [
    "if args.arch == \"wav2letter\":\n",
    "    model = Wav2Letter(num_features, vocab_size)\n",
    "elif args.arch == \"lstm\":\n",
    "    model = LSTMModel(num_features, vocab_size, **lstm_params)"
   ]
  },
  {
   "cell_type": "code",
   "execution_count": 22,
   "metadata": {},
   "outputs": [],
   "source": [
    "shape_after_model = {}\n",
    "\n",
    "\n",
    "def collate_fn(batch):\n",
    "\n",
    "    tensors = [b[0] for b in batch if b]\n",
    "\n",
    "    if False:\n",
    "        for tensor in tensors:\n",
    "            shape = int(tensor.shape[0])\n",
    "            if shape not in shape_after_model:\n",
    "                tensor = tensor.t().unsqueeze(0)\n",
    "                model.eval()\n",
    "                output = model(tensor)\n",
    "                shape_after_model[shape] = int(output.shape[1])\n",
    "\n",
    "        tensors_lengths = torch.tensor(\n",
    "            [shape_after_model[int(t.shape[0])] for t in tensors], dtype=torch.long, device=tensors[0].device\n",
    "        )\n",
    "    else:\n",
    "        # (batch, seq_len, num_directions * hidden_size)\n",
    "        tensors_lengths = torch.tensor(\n",
    "            [int(t.shape[-1]) for t in tensors], dtype=torch.long, device=tensors[0].device\n",
    "        )\n",
    "\n",
    "    tensors = torch.nn.utils.rnn.pad_sequence(tensors, batch_first=True)\n",
    "    tensors = tensors.transpose(1, -1)\n",
    "\n",
    "    targets = [b[1] for b in batch if b]\n",
    "    target_lengths = torch.tensor(\n",
    "        [target.shape[0] for target in targets], dtype=torch.long, device=tensors.device\n",
    "    )\n",
    "    targets = torch.nn.utils.rnn.pad_sequence(targets, batch_first=True)\n",
    "\n",
    "    # print(targets.shape, flush=True)\n",
    "    # print(decode(targets.tolist()), flush=True)\n",
    "\n",
    "    return tensors, targets, tensors_lengths, target_lengths"
   ]
  },
  {
   "cell_type": "code",
   "execution_count": 23,
   "metadata": {},
   "outputs": [
    {
     "name": "stdout",
     "output_type": "stream",
     "text": [
      "model cuda\n"
     ]
    }
   ],
   "source": [
    "if args.jit:\n",
    "    model = torch.jit.script(model)\n",
    "\n",
    "if not args.distributed:\n",
    "    model = torch.nn.DataParallel(model)\n",
    "else:\n",
    "    model.cuda()\n",
    "    model = torch.nn.parallel.DistributedDataParallel(model)\n",
    "    # model = torch.nn.parallel.DistributedDataParallel(model, find_unused_parameters=True)\n",
    "\n",
    "model = model.to(device, non_blocking=non_blocking)\n",
    "print('model cuda', flush=True)\n",
    "# model.apply(weight_init)"
   ]
  },
  {
   "cell_type": "code",
   "execution_count": 24,
   "metadata": {},
   "outputs": [],
   "source": [
    "optimizer = Optimizer(model.parameters(), **optimizer_params)\n",
    "# scheduler = ExponentialLR(optimizer, gamma=gamma)\n",
    "scheduler = ReduceLROnPlateau(optimizer)\n",
    "\n",
    "criterion = torch.nn.CTCLoss(zero_infinity=zero_infinity)\n",
    "# criterion = nn.MSELoss()\n",
    "# criterion = torch.nn.NLLLoss()\n",
    "\n",
    "best_loss = 1."
   ]
  },
  {
   "cell_type": "code",
   "execution_count": 25,
   "metadata": {},
   "outputs": [
    {
     "name": "stdout",
     "output_type": "stream",
     "text": [
      "445 42\n"
     ]
    }
   ],
   "source": [
    "loader_training = DataLoader(\n",
    "    training, batch_size=batch_size, collate_fn=collate_fn, **data_loader_training_params\n",
    ")\n",
    "\n",
    "loader_validation = DataLoader(\n",
    "    validation, batch_size=batch_size, collate_fn=collate_fn, **data_loader_validation_params\n",
    ")\n",
    "\n",
    "print(len(loader_training), len(loader_validation), flush=True)\n",
    "\n",
    "# num_features = next(iter(loader_training))[0].shape[1]\n",
    "# print(num_features, flush=True)"
   ]
  },
  {
   "cell_type": "code",
   "execution_count": 26,
   "metadata": {},
   "outputs": [],
   "source": [
    "def forward_loss(inputs, targets, tensors_lengths, target_lengths):\n",
    "\n",
    "    inputs = inputs.to(device, non_blocking=non_blocking)\n",
    "    targets = targets.to(device, non_blocking=non_blocking)\n",
    "\n",
    "    # keep batch first for data parallel\n",
    "    outputs = model(inputs).transpose(0, 1)\n",
    "\n",
    "    this_batch_size = outputs.shape[1]\n",
    "    seq_len = outputs.shape[0]\n",
    "    # input_lengths = torch.full((this_batch_size,), seq_len, dtype=torch.long, device=outputs.device)\n",
    "    input_lengths = tensors_lengths\n",
    "\n",
    "    # CTC\n",
    "    # outputs: input length, batch size, number of classes (including blank)\n",
    "    # targets: batch size, max target length\n",
    "    # input_lengths: batch size\n",
    "    # target_lengths: batch size\n",
    "\n",
    "    return criterion(outputs, targets, input_lengths, target_lengths)\n",
    "\n",
    "\n",
    "def forward_decode(output, targets, decoder):\n",
    "\n",
    "    output = model(inputs).to(\"cpu\")\n",
    "    output = decoder(output)\n",
    "\n",
    "    output = decode(output.tolist())\n",
    "    target = decode(targets.tolist())\n",
    "\n",
    "    print_length = 20\n",
    "    output_print = output[0].ljust(print_length)[:print_length]\n",
    "    target_print = target[0].ljust(print_length)[:print_length]\n",
    "    print(\n",
    "        f\"Epoch: {epoch:4}   Target: {target_print}   Output: {output_print}\", flush=True)\n",
    "\n",
    "    cers = [levenshtein_distance(a, b) for a, b in zip(target, output)]\n",
    "    cers_normalized = [d/len(a) for a, d in zip(target, cers)]\n",
    "    cers = statistics.mean(cers)\n",
    "    cers_normalized = statistics.mean(cers_normalized)\n",
    "\n",
    "    output = [o.split(char_space) for o in output]\n",
    "    target = [o.split(char_space) for o in target]\n",
    "\n",
    "    wers = [levenshtein_distance(a, b) for a, b in zip(target, output)]\n",
    "    wers_normalized = [d/len(a) for a, d in zip(target, wers)]\n",
    "    wers = statistics.mean(wers)\n",
    "    wers_normalized = statistics.mean(wers_normalized)\n",
    "\n",
    "    print(f\"Epoch: {epoch:4}   CER: {cers:1.5f}   WER: {wers:1.5f}\", flush=True)\n",
    "\n",
    "    return cers, wers, cers_normalized, wers_normalized"
   ]
  },
  {
   "cell_type": "code",
   "execution_count": 27,
   "metadata": {},
   "outputs": [
    {
     "name": "stdout",
     "output_type": "stream",
     "text": [
      "=> no checkpoint found\n",
      "Checkpoint done\n"
     ]
    }
   ],
   "source": [
    "history_training = defaultdict(list)\n",
    "history_validation = defaultdict(list)\n",
    "\n",
    "if args.resume and os.path.isfile(CHECKPOINT_filename):\n",
    "    print(\"Checkpoint: loading '{}'\".format(CHECKPOINT_filename))\n",
    "    checkpoint = torch.load(CHECKPOINT_filename)\n",
    "    \n",
    "    start_epoch = checkpoint['epoch']\n",
    "    best_loss = checkpoint['best_loss']\n",
    "    history_training = checkpoint['history_training']\n",
    "    history_validation = checkpoint['history_validation']\n",
    "    \n",
    "    model.load_state_dict(checkpoint['state_dict'])\n",
    "    optimizer.load_state_dict(checkpoint['optimizer'])\n",
    "    scheduler.load_state_dict(checkpoint['scheduler'])\n",
    "\n",
    "    print(\"Checkpoint: loaded '{}' at epoch {}\".format(\n",
    "        CHECKPOINT_filename, checkpoint['epoch']))\n",
    "    print(tabulate(history_training, headers=\"keys\"), flush=True)\n",
    "    print(tabulate(history_validation, headers=\"keys\"), flush=True)\n",
    "else:\n",
    "    print(\"Checkpoint: not found\")\n",
    "\n",
    "    save_checkpoint({\n",
    "        'epoch': start_epoch,\n",
    "        'state_dict': model.state_dict(),\n",
    "        'best_loss': best_loss,\n",
    "        'optimizer': optimizer.state_dict(),\n",
    "        'scheduler': scheduler.state_dict(),\n",
    "        'history_training': history_training,\n",
    "        'history_validation': history_validation,\n",
    "    }, False)"
   ]
  },
  {
   "cell_type": "code",
   "execution_count": 28,
   "metadata": {},
   "outputs": [
    {
     "data": {
      "application/vnd.jupyter.widget-view+json": {
       "model_id": "471612b11c884b3f94772e9667501b2d",
       "version_major": 2,
       "version_minor": 0
      },
      "text/plain": [
       "HBox(children=(FloatProgress(value=0.0, max=200.0), HTML(value='')))"
      ]
     },
     "metadata": {},
     "output_type": "display_data"
    },
    {
     "name": "stdout",
     "output_type": "stream",
     "text": [
      "Epoch:    0   Gradient: 0.00000\n",
      "Epoch:    0   Train: 317.82062   Validation: 3.03347\n",
      "greedy decoder\n",
      "Epoch:    0   Target: then back i turned m   Output: e                  e\n",
      "Epoch:    0   CER: 441.62500   WER: 460.82812\n",
      "viterbi decoder\n",
      "Epoch:    0   Target: then back i turned m   Output: ed                  \n",
      "Epoch:    0   CER: 564.10938   WER: 580.60938\n",
      "Checkpoint done\n",
      "Epoch:    1   Gradient: 0.00000\n",
      "Epoch:    2   Gradient: 0.00000\n"
     ]
    },
    {
     "name": "stderr",
     "output_type": "stream",
     "text": [
      "IOPub message rate exceeded.\n",
      "The notebook server will temporarily stop sending output\n",
      "to the client in order to avoid crashing it.\n",
      "To change this limit, set the config variable\n",
      "`--NotebookApp.iopub_msg_rate_limit`.\n",
      "\n",
      "Current values:\n",
      "NotebookApp.iopub_msg_rate_limit=1000.0 (msgs/sec)\n",
      "NotebookApp.rate_limit_window=3.0 (secs)\n",
      "\n"
     ]
    },
    {
     "name": "stdout",
     "output_type": "stream",
     "text": [
      "Epoch:    8   Gradient: 0.00000\n",
      "Epoch:    9   Gradient: 0.00000\n",
      "Epoch:   10   Gradient: 0.00000\n",
      "Epoch:   10   Train: 2.59187   Validation: 2.62248\n",
      "greedy decoder\n",
      "Epoch:   10   Target: then back i turned m   Output: e e e eee e e e     \n",
      "Epoch:   10   CER: 117.23438   WER: 104.07812\n",
      "viterbi decoder\n",
      "Epoch:   10   Target: then back i turned m   Output: e e e eene e e e    \n",
      "Epoch:   10   CER: 124.31250   WER: 104.90625\n",
      "Checkpoint done\n"
     ]
    },
    {
     "name": "stderr",
     "output_type": "stream",
     "text": [
      "IOPub message rate exceeded.\n",
      "The notebook server will temporarily stop sending output\n",
      "to the client in order to avoid crashing it.\n",
      "To change this limit, set the config variable\n",
      "`--NotebookApp.iopub_msg_rate_limit`.\n",
      "\n",
      "Current values:\n",
      "NotebookApp.iopub_msg_rate_limit=1000.0 (msgs/sec)\n",
      "NotebookApp.rate_limit_window=3.0 (secs)\n",
      "\n"
     ]
    },
    {
     "name": "stdout",
     "output_type": "stream",
     "text": [
      "Epoch:   14   Gradient: 0.00000\n",
      "Epoch:   15   Gradient: 0.00000\n"
     ]
    },
    {
     "name": "stderr",
     "output_type": "stream",
     "text": [
      "IOPub message rate exceeded.\n",
      "The notebook server will temporarily stop sending output\n",
      "to the client in order to avoid crashing it.\n",
      "To change this limit, set the config variable\n",
      "`--NotebookApp.iopub_msg_rate_limit`.\n",
      "\n",
      "Current values:\n",
      "NotebookApp.iopub_msg_rate_limit=1000.0 (msgs/sec)\n",
      "NotebookApp.rate_limit_window=3.0 (secs)\n",
      "\n"
     ]
    },
    {
     "name": "stdout",
     "output_type": "stream",
     "text": [
      "Epoch:   18   Gradient: 0.00000\n"
     ]
    },
    {
     "name": "stderr",
     "output_type": "stream",
     "text": [
      "IOPub message rate exceeded.\n",
      "The notebook server will temporarily stop sending output\n",
      "to the client in order to avoid crashing it.\n",
      "To change this limit, set the config variable\n",
      "`--NotebookApp.iopub_msg_rate_limit`.\n",
      "\n",
      "Current values:\n",
      "NotebookApp.iopub_msg_rate_limit=1000.0 (msgs/sec)\n",
      "NotebookApp.rate_limit_window=3.0 (secs)\n",
      "\n"
     ]
    },
    {
     "name": "stdout",
     "output_type": "stream",
     "text": [
      "Epoch:   22   Gradient: 0.00000\n",
      "Epoch:   23   Gradient: 0.00000\n"
     ]
    },
    {
     "name": "stderr",
     "output_type": "stream",
     "text": [
      "IOPub message rate exceeded.\n",
      "The notebook server will temporarily stop sending output\n",
      "to the client in order to avoid crashing it.\n",
      "To change this limit, set the config variable\n",
      "`--NotebookApp.iopub_msg_rate_limit`.\n",
      "\n",
      "Current values:\n",
      "NotebookApp.iopub_msg_rate_limit=1000.0 (msgs/sec)\n",
      "NotebookApp.rate_limit_window=3.0 (secs)\n",
      "\n"
     ]
    },
    {
     "name": "stdout",
     "output_type": "stream",
     "text": [
      "Epoch:   26   Gradient: 0.00000\n"
     ]
    },
    {
     "name": "stderr",
     "output_type": "stream",
     "text": [
      "IOPub message rate exceeded.\n",
      "The notebook server will temporarily stop sending output\n",
      "to the client in order to avoid crashing it.\n",
      "To change this limit, set the config variable\n",
      "`--NotebookApp.iopub_msg_rate_limit`.\n",
      "\n",
      "Current values:\n",
      "NotebookApp.iopub_msg_rate_limit=1000.0 (msgs/sec)\n",
      "NotebookApp.rate_limit_window=3.0 (secs)\n",
      "\n"
     ]
    },
    {
     "name": "stdout",
     "output_type": "stream",
     "text": [
      "Epoch:   30   Gradient: 0.00000\n",
      "Epoch:   30   Train: 0.89186   Validation: 1.09716\n",
      "greedy decoder\n",
      "Epoch:   30   Target: then back i turned m   Output: then  bac atennn t m\n",
      "Epoch:   30   CER: 61.01562   WER: 34.42188\n",
      "viterbi decoder\n",
      "Epoch:   30   Target: then back i turned m   Output: then  bac atennnd t \n",
      "Epoch:   30   CER: 64.12500   WER: 35.20312\n",
      "Checkpoint done\n",
      "Epoch:   31   Gradient: 0.00000\n"
     ]
    },
    {
     "name": "stderr",
     "output_type": "stream",
     "text": [
      "IOPub message rate exceeded.\n",
      "The notebook server will temporarily stop sending output\n",
      "to the client in order to avoid crashing it.\n",
      "To change this limit, set the config variable\n",
      "`--NotebookApp.iopub_msg_rate_limit`.\n",
      "\n",
      "Current values:\n",
      "NotebookApp.iopub_msg_rate_limit=1000.0 (msgs/sec)\n",
      "NotebookApp.rate_limit_window=3.0 (secs)\n",
      "\n"
     ]
    },
    {
     "name": "stdout",
     "output_type": "stream",
     "text": [
      "Epoch:   33   Gradient: 0.00000\n"
     ]
    },
    {
     "name": "stderr",
     "output_type": "stream",
     "text": [
      "IOPub message rate exceeded.\n",
      "The notebook server will temporarily stop sending output\n",
      "to the client in order to avoid crashing it.\n",
      "To change this limit, set the config variable\n",
      "`--NotebookApp.iopub_msg_rate_limit`.\n",
      "\n",
      "Current values:\n",
      "NotebookApp.iopub_msg_rate_limit=1000.0 (msgs/sec)\n",
      "NotebookApp.rate_limit_window=3.0 (secs)\n",
      "\n"
     ]
    },
    {
     "name": "stdout",
     "output_type": "stream",
     "text": [
      "Epoch:   38   Gradient: 0.00000\n",
      "Epoch:   39   Gradient: 0.00000\n"
     ]
    },
    {
     "name": "stderr",
     "output_type": "stream",
     "text": [
      "IOPub message rate exceeded.\n",
      "The notebook server will temporarily stop sending output\n",
      "to the client in order to avoid crashing it.\n",
      "To change this limit, set the config variable\n",
      "`--NotebookApp.iopub_msg_rate_limit`.\n",
      "\n",
      "Current values:\n",
      "NotebookApp.iopub_msg_rate_limit=1000.0 (msgs/sec)\n",
      "NotebookApp.rate_limit_window=3.0 (secs)\n",
      "\n"
     ]
    },
    {
     "name": "stdout",
     "output_type": "stream",
     "text": [
      "Epoch:   42   Gradient: 0.00000\n"
     ]
    },
    {
     "name": "stderr",
     "output_type": "stream",
     "text": [
      "IOPub message rate exceeded.\n",
      "The notebook server will temporarily stop sending output\n",
      "to the client in order to avoid crashing it.\n",
      "To change this limit, set the config variable\n",
      "`--NotebookApp.iopub_msg_rate_limit`.\n",
      "\n",
      "Current values:\n",
      "NotebookApp.iopub_msg_rate_limit=1000.0 (msgs/sec)\n",
      "NotebookApp.rate_limit_window=3.0 (secs)\n",
      "\n"
     ]
    },
    {
     "name": "stdout",
     "output_type": "stream",
     "text": [
      "Epoch:   46   Gradient: 0.00000\n",
      "Epoch:   47   Gradient: 0.00000\n"
     ]
    },
    {
     "name": "stderr",
     "output_type": "stream",
     "text": [
      "IOPub message rate exceeded.\n",
      "The notebook server will temporarily stop sending output\n",
      "to the client in order to avoid crashing it.\n",
      "To change this limit, set the config variable\n",
      "`--NotebookApp.iopub_msg_rate_limit`.\n",
      "\n",
      "Current values:\n",
      "NotebookApp.iopub_msg_rate_limit=1000.0 (msgs/sec)\n",
      "NotebookApp.rate_limit_window=3.0 (secs)\n",
      "\n"
     ]
    },
    {
     "name": "stdout",
     "output_type": "stream",
     "text": [
      "Epoch:   50   Gradient: 0.00000\n",
      "Epoch:   50   Train: 0.45545   Validation: 0.95241\n",
      "greedy decoder\n",
      "Epoch:   50   Target: then back i turned m   Output: then backa teeinnn  \n",
      "Epoch:   50   CER: 82.01562   WER: 52.42188\n",
      "viterbi decoder\n",
      "Epoch:   50   Target: then back i turned m   Output: then backa teeinnne \n",
      "Epoch:   50   CER: 85.37500   WER: 53.46875\n",
      "Checkpoint done\n"
     ]
    },
    {
     "name": "stderr",
     "output_type": "stream",
     "text": [
      "IOPub message rate exceeded.\n",
      "The notebook server will temporarily stop sending output\n",
      "to the client in order to avoid crashing it.\n",
      "To change this limit, set the config variable\n",
      "`--NotebookApp.iopub_msg_rate_limit`.\n",
      "\n",
      "Current values:\n",
      "NotebookApp.iopub_msg_rate_limit=1000.0 (msgs/sec)\n",
      "NotebookApp.rate_limit_window=3.0 (secs)\n",
      "\n"
     ]
    },
    {
     "name": "stdout",
     "output_type": "stream",
     "text": [
      "Epoch:   54   Gradient: 0.00000\n",
      "Epoch:   55   Gradient: 0.00000\n",
      "Epoch:   56   Gradient: 0.00000\n",
      "Epoch:   57   Gradient: 0.00000\n"
     ]
    },
    {
     "name": "stderr",
     "output_type": "stream",
     "text": [
      "IOPub message rate exceeded.\n",
      "The notebook server will temporarily stop sending output\n",
      "to the client in order to avoid crashing it.\n",
      "To change this limit, set the config variable\n",
      "`--NotebookApp.iopub_msg_rate_limit`.\n",
      "\n",
      "Current values:\n",
      "NotebookApp.iopub_msg_rate_limit=1000.0 (msgs/sec)\n",
      "NotebookApp.rate_limit_window=3.0 (secs)\n",
      "\n"
     ]
    },
    {
     "name": "stdout",
     "output_type": "stream",
     "text": [
      "Epoch:   62   Gradient: 0.00000\n",
      "Epoch:   63   Gradient: 0.00000\n",
      "Epoch:   64   Gradient: 0.00000\n",
      "Epoch:   65   Gradient: 0.00000\n"
     ]
    },
    {
     "name": "stderr",
     "output_type": "stream",
     "text": [
      "IOPub message rate exceeded.\n",
      "The notebook server will temporarily stop sending output\n",
      "to the client in order to avoid crashing it.\n",
      "To change this limit, set the config variable\n",
      "`--NotebookApp.iopub_msg_rate_limit`.\n",
      "\n",
      "Current values:\n",
      "NotebookApp.iopub_msg_rate_limit=1000.0 (msgs/sec)\n",
      "NotebookApp.rate_limit_window=3.0 (secs)\n",
      "\n"
     ]
    },
    {
     "name": "stdout",
     "output_type": "stream",
     "text": [
      "Epoch:   71   Gradient: 0.00000\n",
      "Epoch:   72   Gradient: 0.00000\n",
      "Epoch:   73   Gradient: 0.00000\n"
     ]
    },
    {
     "name": "stderr",
     "output_type": "stream",
     "text": [
      "IOPub message rate exceeded.\n",
      "The notebook server will temporarily stop sending output\n",
      "to the client in order to avoid crashing it.\n",
      "To change this limit, set the config variable\n",
      "`--NotebookApp.iopub_msg_rate_limit`.\n",
      "\n",
      "Current values:\n",
      "NotebookApp.iopub_msg_rate_limit=1000.0 (msgs/sec)\n",
      "NotebookApp.rate_limit_window=3.0 (secs)\n",
      "\n"
     ]
    },
    {
     "name": "stdout",
     "output_type": "stream",
     "text": [
      "Epoch:   79   Gradient: 0.00000\n",
      "Epoch:   80   Gradient: 0.00000\n",
      "Epoch:   80   Train: 0.20789   Validation: 1.30832\n",
      "greedy decoder\n",
      "Epoch:   80   Target: then back i turned m   Output: then  backea turnnne\n",
      "Epoch:   80   CER: 71.71875   WER: 43.76562\n",
      "viterbi decoder\n",
      "Epoch:   80   Target: then back i turned m   Output: then  backea turnnne\n",
      "Epoch:   80   CER: 73.18750   WER: 44.84375\n",
      "Checkpoint done\n",
      "Epoch:   81   Gradient: 0.00000\n"
     ]
    },
    {
     "name": "stderr",
     "output_type": "stream",
     "text": [
      "IOPub message rate exceeded.\n",
      "The notebook server will temporarily stop sending output\n",
      "to the client in order to avoid crashing it.\n",
      "To change this limit, set the config variable\n",
      "`--NotebookApp.iopub_msg_rate_limit`.\n",
      "\n",
      "Current values:\n",
      "NotebookApp.iopub_msg_rate_limit=1000.0 (msgs/sec)\n",
      "NotebookApp.rate_limit_window=3.0 (secs)\n",
      "\n"
     ]
    },
    {
     "name": "stdout",
     "output_type": "stream",
     "text": [
      "Epoch:   86   Gradient: 0.00000\n",
      "Epoch:   87   Gradient: 0.00000\n",
      "Epoch:   88   Gradient: 0.00000\n"
     ]
    },
    {
     "name": "stderr",
     "output_type": "stream",
     "text": [
      "IOPub message rate exceeded.\n",
      "The notebook server will temporarily stop sending output\n",
      "to the client in order to avoid crashing it.\n",
      "To change this limit, set the config variable\n",
      "`--NotebookApp.iopub_msg_rate_limit`.\n",
      "\n",
      "Current values:\n",
      "NotebookApp.iopub_msg_rate_limit=1000.0 (msgs/sec)\n",
      "NotebookApp.rate_limit_window=3.0 (secs)\n",
      "\n"
     ]
    },
    {
     "name": "stdout",
     "output_type": "stream",
     "text": [
      "Epoch:   94   Gradient: 0.00000\n",
      "Epoch:   95   Gradient: 0.00000\n",
      "Epoch:   96   Gradient: 0.00000\n"
     ]
    },
    {
     "name": "stderr",
     "output_type": "stream",
     "text": [
      "IOPub message rate exceeded.\n",
      "The notebook server will temporarily stop sending output\n",
      "to the client in order to avoid crashing it.\n",
      "To change this limit, set the config variable\n",
      "`--NotebookApp.iopub_msg_rate_limit`.\n",
      "\n",
      "Current values:\n",
      "NotebookApp.iopub_msg_rate_limit=1000.0 (msgs/sec)\n",
      "NotebookApp.rate_limit_window=3.0 (secs)\n",
      "\n"
     ]
    },
    {
     "name": "stdout",
     "output_type": "stream",
     "text": [
      "Epoch:  102   Gradient: 0.00000\n",
      "Epoch:  103   Gradient: 0.00000\n",
      "Epoch:  104   Gradient: 0.00000\n",
      "Epoch:  105   Gradient: 0.00000\n"
     ]
    },
    {
     "name": "stderr",
     "output_type": "stream",
     "text": [
      "IOPub message rate exceeded.\n",
      "The notebook server will temporarily stop sending output\n",
      "to the client in order to avoid crashing it.\n",
      "To change this limit, set the config variable\n",
      "`--NotebookApp.iopub_msg_rate_limit`.\n",
      "\n",
      "Current values:\n",
      "NotebookApp.iopub_msg_rate_limit=1000.0 (msgs/sec)\n",
      "NotebookApp.rate_limit_window=3.0 (secs)\n",
      "\n"
     ]
    },
    {
     "name": "stdout",
     "output_type": "stream",
     "text": [
      "Epoch:  110   Gradient: 0.00000\n",
      "Epoch:  110   Train: 0.12266   Validation: 1.58988\n",
      "greedy decoder\n",
      "Epoch:  110   Target: then back i turned m   Output: tthen  bacca tter nn\n",
      "Epoch:  110   CER: 83.54688   WER: 51.81250\n",
      "viterbi decoder\n",
      "Epoch:  110   Target: then back i turned m   Output: tthen  bacca tter nn\n",
      "Epoch:  110   CER: 84.42188   WER: 52.15625\n",
      "Checkpoint done\n",
      "Epoch:  111   Gradient: 0.00000\n",
      "Epoch:  112   Gradient: 0.00000\n",
      "Epoch:  113   Gradient: 0.00000\n"
     ]
    },
    {
     "name": "stderr",
     "output_type": "stream",
     "text": [
      "IOPub message rate exceeded.\n",
      "The notebook server will temporarily stop sending output\n",
      "to the client in order to avoid crashing it.\n",
      "To change this limit, set the config variable\n",
      "`--NotebookApp.iopub_msg_rate_limit`.\n",
      "\n",
      "Current values:\n",
      "NotebookApp.iopub_msg_rate_limit=1000.0 (msgs/sec)\n",
      "NotebookApp.rate_limit_window=3.0 (secs)\n",
      "\n"
     ]
    },
    {
     "name": "stdout",
     "output_type": "stream",
     "text": [
      "Epoch:  118   Gradient: 0.00000\n",
      "Epoch:  119   Gradient: 0.00000\n",
      "Epoch:  120   Gradient: 0.00000\n",
      "Epoch:  120   Train: 0.11007   Validation: 1.71209\n",
      "greedy decoder\n",
      "Epoch:  120   Target: then back i turned m   Output: then backo tt  ennnn\n",
      "Epoch:  120   CER: 86.78125   WER: 54.65625\n",
      "viterbi decoder\n",
      "Epoch:  120   Target: then back i turned m   Output: then backo tt  ennnn\n",
      "Epoch:  120   CER: 87.40625   WER: 54.98438\n",
      "Checkpoint done\n",
      "Epoch:  121   Gradient: 0.00000\n"
     ]
    },
    {
     "name": "stderr",
     "output_type": "stream",
     "text": [
      "IOPub message rate exceeded.\n",
      "The notebook server will temporarily stop sending output\n",
      "to the client in order to avoid crashing it.\n",
      "To change this limit, set the config variable\n",
      "`--NotebookApp.iopub_msg_rate_limit`.\n",
      "\n",
      "Current values:\n",
      "NotebookApp.iopub_msg_rate_limit=1000.0 (msgs/sec)\n",
      "NotebookApp.rate_limit_window=3.0 (secs)\n",
      "\n"
     ]
    },
    {
     "name": "stdout",
     "output_type": "stream",
     "text": [
      "Epoch:  126   Gradient: 0.00000\n",
      "Epoch:  127   Gradient: 0.00000\n",
      "Epoch:  128   Gradient: 0.00000\n"
     ]
    },
    {
     "name": "stderr",
     "output_type": "stream",
     "text": [
      "IOPub message rate exceeded.\n",
      "The notebook server will temporarily stop sending output\n",
      "to the client in order to avoid crashing it.\n",
      "To change this limit, set the config variable\n",
      "`--NotebookApp.iopub_msg_rate_limit`.\n",
      "\n",
      "Current values:\n",
      "NotebookApp.iopub_msg_rate_limit=1000.0 (msgs/sec)\n",
      "NotebookApp.rate_limit_window=3.0 (secs)\n",
      "\n"
     ]
    },
    {
     "name": "stdout",
     "output_type": "stream",
     "text": [
      "Epoch:  129   Gradient: 0.00000\n",
      "Epoch:  130   Gradient: 0.00000\n",
      "Epoch:  130   Train: 0.09635   Validation: 1.77248\n",
      "greedy decoder\n",
      "Epoch:  130   Target: then back i turned m   Output: then  backoy tte  en\n",
      "Epoch:  130   CER: 69.48438   WER: 42.18750\n",
      "viterbi decoder\n",
      "Epoch:  130   Target: then back i turned m   Output: then  backoy tte  en\n",
      "Epoch:  130   CER: 71.14062   WER: 43.20312\n",
      "Checkpoint done\n",
      "Epoch:  131   Gradient: 0.00000\n",
      "Epoch:  132   Gradient: 0.00000\n",
      "Epoch:  133   Gradient: 0.00000\n",
      "Epoch:  134   Gradient: 0.00000\n",
      "Epoch:  135   Gradient: 0.00000\n"
     ]
    },
    {
     "name": "stderr",
     "output_type": "stream",
     "text": [
      "IOPub message rate exceeded.\n",
      "The notebook server will temporarily stop sending output\n",
      "to the client in order to avoid crashing it.\n",
      "To change this limit, set the config variable\n",
      "`--NotebookApp.iopub_msg_rate_limit`.\n",
      "\n",
      "Current values:\n",
      "NotebookApp.iopub_msg_rate_limit=1000.0 (msgs/sec)\n",
      "NotebookApp.rate_limit_window=3.0 (secs)\n",
      "\n"
     ]
    },
    {
     "name": "stdout",
     "output_type": "stream",
     "text": [
      "Epoch:  138   Gradient: 0.00000\n",
      "Epoch:  139   Gradient: 0.00000\n",
      "Epoch:  140   Gradient: 0.00000\n",
      "Epoch:  140   Train: 0.09973   Validation: 1.72906\n",
      "greedy decoder\n",
      "Epoch:  140   Target: then back i turned m   Output: then  backe teennnst\n",
      "Epoch:  140   CER: 79.25000   WER: 50.34375\n",
      "viterbi decoder\n",
      "Epoch:  140   Target: then back i turned m   Output: then  backe teennnst\n",
      "Epoch:  140   CER: 80.65625   WER: 51.56250\n",
      "Checkpoint done\n"
     ]
    },
    {
     "name": "stderr",
     "output_type": "stream",
     "text": [
      "IOPub message rate exceeded.\n",
      "The notebook server will temporarily stop sending output\n",
      "to the client in order to avoid crashing it.\n",
      "To change this limit, set the config variable\n",
      "`--NotebookApp.iopub_msg_rate_limit`.\n",
      "\n",
      "Current values:\n",
      "NotebookApp.iopub_msg_rate_limit=1000.0 (msgs/sec)\n",
      "NotebookApp.rate_limit_window=3.0 (secs)\n",
      "\n"
     ]
    },
    {
     "name": "stdout",
     "output_type": "stream",
     "text": [
      "Epoch:  143   Gradient: 0.00000\n",
      "Epoch:  144   Gradient: 0.00000\n",
      "Epoch:  145   Gradient: 0.00000\n",
      "Epoch:  146   Gradient: 0.00000\n",
      "Epoch:  147   Gradient: 0.00000\n",
      "Epoch:  148   Gradient: 0.00000\n",
      "Epoch:  149   Gradient: 0.00000\n",
      "Epoch:  150   Gradient: 0.00000\n",
      "Epoch:  150   Train: 0.09432   Validation: 1.87319\n",
      "greedy decoder\n",
      "Epoch:  150   Target: then back i turned m   Output: thenn  backko tto nn\n",
      "Epoch:  150   CER: 74.57812   WER: 45.98438\n",
      "viterbi decoder\n",
      "Epoch:  150   Target: then back i turned m   Output: thenn  backko tto nn\n",
      "Epoch:  150   CER: 75.42188   WER: 46.43750\n",
      "Checkpoint done\n",
      "Epoch:  151   Gradient: 0.00000\n",
      "Epoch:  152   Gradient: 0.00000\n",
      "Epoch:  153   Gradient: 0.00000\n",
      "Epoch:  154   Gradient: 0.00000\n",
      "Epoch:  155   Gradient: 0.00000\n",
      "Epoch:  156   Gradient: 0.00000\n",
      "Epoch:  157   Gradient: 0.00000\n",
      "Epoch:  158   Gradient: 0.00000\n",
      "Epoch:  159   Gradient: 0.00000\n",
      "Epoch:  160   Gradient: 0.00000\n",
      "Epoch:  160   Train: 0.07899   Validation: 1.71059\n",
      "greedy decoder\n",
      "Epoch:  160   Target: then back i turned m   Output: then  bbac at nnt my\n",
      "Epoch:  160   CER: 66.20312   WER: 40.70312\n",
      "viterbi decoder\n",
      "Epoch:  160   Target: then back i turned m   Output: then  bbac at nnt my\n",
      "Epoch:  160   CER: 67.01562   WER: 41.40625\n",
      "Checkpoint done\n",
      "Epoch:  161   Gradient: 0.00000\n",
      "Epoch:  162   Gradient: 0.00000\n",
      "Epoch:  163   Gradient: 0.00000\n",
      "Epoch:  164   Gradient: 0.00000\n",
      "Epoch:  165   Gradient: 0.00000\n",
      "Epoch:  166   Gradient: 0.00000\n",
      "Epoch:  167   Gradient: 0.00000\n",
      "Epoch:  168   Gradient: 0.00000\n",
      "Epoch:  169   Gradient: 0.00000\n",
      "Epoch:  170   Gradient: 0.00000\n",
      "Epoch:  170   Train: 0.07450   Validation: 1.75792\n",
      "greedy decoder\n",
      "Epoch:  170   Target: then back i turned m   Output: then  bactoteennndtt\n",
      "Epoch:  170   CER: 82.71875   WER: 50.96875\n",
      "viterbi decoder\n",
      "Epoch:  170   Target: then back i turned m   Output: then  bactoteennndtt\n",
      "Epoch:  170   CER: 83.48438   WER: 51.35938\n",
      "Checkpoint done\n",
      "Epoch:  171   Gradient: 0.00000\n",
      "Epoch:  172   Gradient: 0.00000\n",
      "Epoch:  173   Gradient: 0.00000\n",
      "Epoch:  174   Gradient: 0.00000\n",
      "Epoch:  175   Gradient: 0.00000\n",
      "Epoch:  176   Gradient: 0.00000\n",
      "Epoch:  177   Gradient: 0.00000\n",
      "Epoch:  178   Gradient: 0.00000\n",
      "Epoch:  179   Gradient: 0.00000\n",
      "Epoch:  180   Gradient: 0.00000\n",
      "Epoch:  180   Train: 0.08050   Validation: 1.91009\n",
      "greedy decoder\n",
      "Epoch:  180   Target: then back i turned m   Output: then backte tinnnt m\n",
      "Epoch:  180   CER: 83.20312   WER: 51.39062\n",
      "viterbi decoder\n",
      "Epoch:  180   Target: then back i turned m   Output: then backte tinnnd t\n",
      "Epoch:  180   CER: 83.60938   WER: 51.60938\n",
      "Checkpoint done\n",
      "Epoch:  181   Gradient: 0.00000\n",
      "Epoch:  182   Gradient: 0.00000\n",
      "Epoch:  183   Gradient: 0.00000\n",
      "Epoch:  184   Gradient: 0.00000\n",
      "Epoch:  185   Gradient: 0.00000\n",
      "Epoch:  186   Gradient: 0.00000\n",
      "Epoch:  187   Gradient: 0.00000\n",
      "Epoch:  188   Gradient: 0.00000\n"
     ]
    },
    {
     "name": "stderr",
     "output_type": "stream",
     "text": [
      "IOPub message rate exceeded.\n",
      "The notebook server will temporarily stop sending output\n",
      "to the client in order to avoid crashing it.\n",
      "To change this limit, set the config variable\n",
      "`--NotebookApp.iopub_msg_rate_limit`.\n",
      "\n",
      "Current values:\n",
      "NotebookApp.iopub_msg_rate_limit=1000.0 (msgs/sec)\n",
      "NotebookApp.rate_limit_window=3.0 (secs)\n",
      "\n"
     ]
    },
    {
     "name": "stdout",
     "output_type": "stream",
     "text": [
      "Epoch:  194   Gradient: 0.00000\n",
      "Epoch:  195   Gradient: 0.00000\n",
      "Epoch:  196   Gradient: 0.00000\n"
     ]
    },
    {
     "name": "stderr",
     "output_type": "stream",
     "text": [
      "IOPub message rate exceeded.\n",
      "The notebook server will temporarily stop sending output\n",
      "to the client in order to avoid crashing it.\n",
      "To change this limit, set the config variable\n",
      "`--NotebookApp.iopub_msg_rate_limit`.\n",
      "\n",
      "Current values:\n",
      "NotebookApp.iopub_msg_rate_limit=1000.0 (msgs/sec)\n",
      "NotebookApp.rate_limit_window=3.0 (secs)\n",
      "\n"
     ]
    },
    {
     "name": "stdout",
     "output_type": "stream",
     "text": [
      "Epoch:  199   CER: 81.82812   WER: 50.51562\n",
      "Checkpoint done\n",
      "\n"
     ]
    }
   ],
   "source": [
    "with tqdm(total=max_epoch, unit_scale=1, disable=args.distributed) as pbar:\n",
    "    for epoch in range(start_epoch, max_epoch):\n",
    "        model.train()\n",
    "\n",
    "        sum_loss = 0.\n",
    "        total_norm = 0.\n",
    "        for inputs, targets, tensors_lengths, target_lengths in loader_training:\n",
    "\n",
    "            loss = forward_loss(\n",
    "                inputs, targets, tensors_lengths, target_lengths)\n",
    "            sum_loss += loss.item()\n",
    "\n",
    "            optimizer.zero_grad()\n",
    "            loss.backward()\n",
    "\n",
    "            norm = 0.\n",
    "            if clip_norm > 0:\n",
    "                norm = torch.nn.utils.clip_grad_norm_(\n",
    "                    model.parameters(), clip_norm)\n",
    "                total_norm += norm\n",
    "            elif args.gradient:\n",
    "                for p in list(filter(lambda p: p.grad is not None, model.parameters())):\n",
    "                    norm += p.grad.data.norm(2).item() ** 2\n",
    "                norm = norm ** .5\n",
    "                total_norm += norm\n",
    "\n",
    "            optimizer.step()\n",
    "\n",
    "            if SIGNAL_RECEIVED:\n",
    "                save_checkpoint({\n",
    "                    'epoch': epoch,\n",
    "                    'state_dict': model.state_dict(),\n",
    "                    'best_loss': best_loss,\n",
    "                    'optimizer': optimizer.state_dict(),\n",
    "                    'scheduler': scheduler.state_dict(),\n",
    "                    'history_training': history_training,\n",
    "                    'history_validation': history_validation,\n",
    "                }, False)\n",
    "                trigger_job_requeue()\n",
    "\n",
    "            pbar.update(1/len(loader_training))\n",
    "\n",
    "        total_norm = (total_norm ** .5) / len(loader_training)\n",
    "        if total_norm > 0:\n",
    "            print(f\"Epoch: {epoch:4}   Gradient: {total_norm:4.5f}\", flush=True)\n",
    "\n",
    "        # Average loss\n",
    "        sum_loss = sum_loss / len(loader_training)\n",
    "        sum_loss_str = f\"Epoch: {epoch:4}   Train: {sum_loss:4.5f}\"\n",
    "\n",
    "        # scheduler.step()\n",
    "\n",
    "        history_training[\"epoch\"].append(epoch)\n",
    "        history_training[\"gradient_norm\"].append(total_norm)\n",
    "        history_training[\"sum_loss\"].append(sum_loss)\n",
    "\n",
    "        with torch.no_grad():\n",
    "\n",
    "            if not epoch % mod_epoch or epoch == max_epoch-1:\n",
    "\n",
    "                # Switch to evaluation mode\n",
    "                model.eval()\n",
    "\n",
    "                sum_loss = 0.\n",
    "                for inputs, targets, tensors_lengths, target_lengths in loader_validation:\n",
    "                    sum_loss += forward_loss(inputs, targets,\n",
    "                                             tensors_lengths, target_lengths).item()\n",
    "\n",
    "                    if SIGNAL_RECEIVED:\n",
    "                        break\n",
    "\n",
    "                # Average loss\n",
    "                sum_loss = sum_loss / len(loader_validation)\n",
    "                sum_loss_str += f\"   Validation: {sum_loss:.5f}\"\n",
    "                print(sum_loss_str, flush=True)\n",
    "\n",
    "                print(\"greedy decoder\", flush=True)\n",
    "                cer1, wer1, cern1, wern1 = forward_decode(\n",
    "                    inputs, targets, greedy_decode)\n",
    "\n",
    "                print(\"viterbi decoder\", flush=True)\n",
    "                cer2, wer2, cern2, wern2 = forward_decode(\n",
    "                    inputs, targets, top_batch_viterbi_decode)\n",
    "\n",
    "                history_validation[\"epoch\"].append(epoch)\n",
    "                history_validation[\"sum_loss\"].append(sum_loss)\n",
    "                history_validation[\"greedy_cer\"].append(cer1)\n",
    "                history_validation[\"greedy_cer_normalized\"].append(cern1)\n",
    "                history_validation[\"greedy_wer\"].append(wer1)\n",
    "                history_validation[\"greedy_wer_normalized\"].append(wern1)\n",
    "                history_validation[\"viterbi_cer\"].append(cer2)\n",
    "                history_validation[\"viterbi_cer_normalized\"].append(cern2)\n",
    "                history_validation[\"viterbi_wer\"].append(wer2)\n",
    "                history_validation[\"viterbi_wer_normalized\"].append(wern2)\n",
    "\n",
    "                is_best = sum_loss < best_loss\n",
    "                best_loss = min(sum_loss, best_loss)\n",
    "                save_checkpoint({\n",
    "                    'epoch': epoch + 1,\n",
    "                    'state_dict': model.state_dict(),\n",
    "                    'best_loss': best_loss,\n",
    "                    'optimizer': optimizer.state_dict(),\n",
    "                    'scheduler': scheduler.state_dict(),\n",
    "                    'history_training': history_training,\n",
    "                    'history_validation': history_validation,\n",
    "                }, is_best)\n",
    "                \n",
    "                print(tabulate(history_training, headers=\"keys\"), flush=True)\n",
    "                print(tabulate(history_validation, headers=\"keys\"), flush=True)\n",
    "\n",
    "        scheduler.step(sum_loss)\n",
    "\n",
    "        # Create an empty file HALT_filename, mark the job as finished\n",
    "        if epoch == max_epoch - 1:\n",
    "            open(HALT_filename, 'a').close()"
   ]
  },
  {
   "cell_type": "code",
   "execution_count": 29,
   "metadata": {},
   "outputs": [
    {
     "name": "stdout",
     "output_type": "stream",
     "text": [
      "  epoch    gradient_norm     sum_loss\n",
      "-------  ---------------  -----------\n",
      "      0                0  317.821\n",
      "      1                0    2.94899\n",
      "      2                0    2.86193\n",
      "      3                0    2.80818\n",
      "      4                0    2.71816\n",
      "      5                0    2.6441\n",
      "      6                0    2.62457\n",
      "      7                0    2.62805\n",
      "      8                0    2.76244\n",
      "      9                0    2.59967\n",
      "     10                0    2.59187\n",
      "     11                0    2.53903\n",
      "     12                0    2.55005\n",
      "     13                0    2.49068\n",
      "     14                0    2.48529\n",
      "     15                0    2.37307\n",
      "     16                0    2.23138\n",
      "     17                0    2.08395\n",
      "     18                0    1.93397\n",
      "     19                0    1.80029\n",
      "     20                0    1.65459\n",
      "     21                0    1.52579\n",
      "     22                0    1.40501\n",
      "     23                0    1.31794\n",
      "     24                0    1.22395\n",
      "     25                0    1.1545\n",
      "     26                0    1.08837\n",
      "     27                0    1.03362\n",
      "     28                0    0.969492\n",
      "     29                0    0.929189\n",
      "     30                0    0.891857\n",
      "     31                0    0.848554\n",
      "     32                0    0.817895\n",
      "     33                0    0.799573\n",
      "     34                0    0.772759\n",
      "     35                0    0.735605\n",
      "     36                0    0.719598\n",
      "     37                0    0.685245\n",
      "     38                0    0.661138\n",
      "     39                0    0.643695\n",
      "     40                0    0.62318\n",
      "     41                0    0.601583\n",
      "     42                0    0.572481\n",
      "     43                0    0.555957\n",
      "     44                0    0.534972\n",
      "     45                0    0.523345\n",
      "     46                0    0.507016\n",
      "     47                0    0.492091\n",
      "     48                0    0.486654\n",
      "     49                0    0.463883\n",
      "     50                0    0.455446\n",
      "     51                0    0.432517\n",
      "     52                0    0.420685\n",
      "     53                0    0.409078\n",
      "     54                0    0.394764\n",
      "     55                0    0.380799\n",
      "     56                0    0.368952\n",
      "     57                0    0.366972\n",
      "     58                0    0.357847\n",
      "     59                0    0.346657\n",
      "     60                0    0.339766\n",
      "     61                0    0.324087\n",
      "     62                0    0.313975\n",
      "     63                0    0.302097\n",
      "     64                0    0.293419\n",
      "     65                0    0.29052\n",
      "     66                0    0.283635\n",
      "     67                0    0.27537\n",
      "     68                0    0.264472\n",
      "     69                0    0.26289\n",
      "     70                0    0.259619\n",
      "     71                0    0.251389\n",
      "     72                0    0.241086\n",
      "     73                0    0.242466\n",
      "     74                0    0.228886\n",
      "     75                0    0.226537\n",
      "     76                0    0.219562\n",
      "     77                0    0.211112\n",
      "     78                0    0.216128\n",
      "     79                0    0.20869\n",
      "     80                0    0.20789\n",
      "     81                0    0.19819\n",
      "     82                0    0.198725\n",
      "     83                0    0.188732\n",
      "     84                0    0.197893\n",
      "     85                0    0.181964\n",
      "     86                0    0.183136\n",
      "     87                0    0.172133\n",
      "     88                0    0.17566\n",
      "     89                0    0.171176\n",
      "     90                0    0.163234\n",
      "     91                0    0.162605\n",
      "     92                0    0.160907\n",
      "     93                0    0.158931\n",
      "     94                0    0.165282\n",
      "     95                0    0.149982\n",
      "     96                0    0.151009\n",
      "     97                0    0.14456\n",
      "     98                0    0.146791\n",
      "     99                0    0.148271\n",
      "    100                0    0.145518\n",
      "    101                0    0.137908\n",
      "    102                0    0.136113\n",
      "    103                0    0.137353\n",
      "    104                0    0.140888\n",
      "    105                0    0.13256\n",
      "    106                0    0.132619\n",
      "    107                0    0.132933\n",
      "    108                0    0.135009\n",
      "    109                0    0.125269\n",
      "    110                0    0.122662\n",
      "    111                0    0.122011\n",
      "    112                0    0.126871\n",
      "    113                0    0.125828\n",
      "    114                0    0.118066\n",
      "    115                0    0.115119\n",
      "    116                0    0.124175\n",
      "    117                0    0.120678\n",
      "    118                0    0.11916\n",
      "    119                0    0.112665\n",
      "    120                0    0.110074\n",
      "    121                0    0.112471\n",
      "    122                0    0.112905\n",
      "    123                0    0.111298\n",
      "    124                0    0.102852\n",
      "    125                0    0.109169\n",
      "    126                0    0.103938\n",
      "    127                0    0.111824\n",
      "    128                0    0.100644\n",
      "    129                0    0.102485\n",
      "    130                0    0.096347\n",
      "    131                0    0.0976633\n",
      "    132                0    0.104536\n",
      "    133                0    0.0963375\n",
      "    134                0    0.097775\n",
      "    135                0    0.103792\n",
      "    136                0    0.102606\n",
      "    137                0    0.0948402\n",
      "    138                0    0.0953128\n",
      "    139                0    0.0964539\n",
      "    140                0    0.0997268\n",
      "    141                0    0.0877258\n",
      "    142                0    0.101612\n",
      "    143                0    0.0859224\n",
      "    144                0    0.0892953\n",
      "    145                0    0.0871272\n",
      "    146                0    0.0897003\n",
      "    147                0    0.0877235\n",
      "    148                0    0.0879384\n",
      "    149                0    0.0898022\n",
      "    150                0    0.0943198\n",
      "    151                0    0.088776\n",
      "    152                0    0.0934455\n",
      "    153                0    0.0864753\n",
      "    154                0    0.0826906\n",
      "    155                0    0.0878833\n",
      "    156                0    0.0862199\n",
      "    157                0    0.0896254\n",
      "    158                0    0.0785764\n",
      "    159                0    0.0870096\n",
      "    160                0    0.0789865\n",
      "    161                0    0.0764176\n",
      "    162                0    0.0759992\n",
      "    163                0    0.0841746\n",
      "    164                0    0.077917\n",
      "    165                0    0.0794553\n",
      "    166                0    0.0721887\n",
      "    167                0    0.0765348\n",
      "    168                0    0.0785938\n",
      "    169                0    0.0785163\n",
      "    170                0    0.0744998\n",
      "    171                0    0.0759232\n",
      "    172                0    0.0701166\n",
      "    173                0    0.0816958\n",
      "    174                0    0.0731648\n",
      "    175                0    0.0696393\n",
      "    176                0    0.0818762\n",
      "    177                0    0.0726468\n",
      "    178                0    0.0715727\n",
      "    179                0    0.0777128\n",
      "    180                0    0.0804977\n",
      "    181                0    0.0754652\n",
      "    182                0    0.0722236\n",
      "    183                0    0.0780951\n",
      "    184                0    0.0699405\n",
      "    185                0    0.0672007\n",
      "    186                0    0.0693117\n",
      "    187                0    0.063743\n",
      "    188                0    0.0678126\n",
      "    189                0    0.0726305\n",
      "    190                0    0.0698871\n",
      "    191                0    0.0670553\n",
      "    192                0    0.0671231\n",
      "    193                0    0.066931\n",
      "    194                0    0.063417\n",
      "    195                0    0.0676132\n",
      "    196                0    0.0734041\n",
      "    197                0    0.0628519\n",
      "    198                0    0.0633573\n",
      "    199                0    0.0634319\n",
      "  epoch    sum_loss    greedy_cer    greedy_wer    greedy_normalized_cer    greedy_normalized_wer    viterbi_cer    viterbi_wer    viterbi_normalized_cer    viterbi_normalized_wer\n",
      "-------  ----------  ------------  ------------  -----------------------  -----------------------  -------------  -------------  ------------------------  ------------------------\n",
      "      0    3.03347       441.625       460.828                  3.14794                  16.9003        564.109        580.609                   4.22755                   22.5378\n",
      "     10    2.62248       117.234       104.078                  0.885382                  4.06679       124.312        104.906                   0.926041                   4.0954\n",
      "     20    1.70485        75.6406       31.7812                 0.554164                  1.23229        76.3281        32.1719                  0.557141                   1.2572\n",
      "     30    1.09716        61.0156       34.4219                 0.454673                  1.33469        64.125         35.2031                  0.47459                    1.36932\n",
      "     40    0.96942        69.7344       43.75                   0.54181                   1.78053        74.1094        44.3281                  0.574078                   1.80685\n",
      "     50    0.952408       82.0156       52.4219                 0.639714                  2.14325        85.375         53.4688                  0.664199                   2.19213\n",
      "     60    1.08433        58.8906       36.8125                 0.434263                  1.40361        60.6562        37.4531                  0.446965                   1.42851\n",
      "     70    1.22027        67.0312       41.4062                 0.503077                  1.63213        76.8906        48.9531                  0.581197                   1.9449\n",
      "     80    1.30832        71.7188       43.7656                 0.545176                  1.74744        73.1875        44.8438                  0.557845                   1.79392\n",
      "     90    1.37272        88.3125       52.5938                 0.684691                  2.12495        90.0938        53.3438                  0.700325                   2.15529\n",
      "    100    1.47489        86.4688       52.1094                 0.6714                    2.11742        87.1406        52.4844                  0.67693                    2.13108\n",
      "    110    1.58988        83.5469       51.8125                 0.646717                  2.08484        84.4219        52.1562                  0.654896                   2.09927\n",
      "    120    1.71209        86.7812       54.6562                 0.668418                  2.2169         87.4062        54.9844                  0.674839                   2.23052\n",
      "    130    1.77248        69.4844       42.1875                 0.514333                  1.62113        71.1406        43.2031                  0.529182                   1.67119\n",
      "    140    1.72906        79.25         50.3438                 0.601643                  1.98892        80.6562        51.5625                  0.618927                   2.07112\n",
      "    150    1.87319        74.5781       45.9844                 0.560397                  1.79266        75.4219        46.4375                  0.568414                   1.8196\n",
      "    160    1.71059        66.2031       40.7031                 0.494401                  1.59286        67.0156        41.4062                  0.503656                   1.63683\n",
      "    170    1.75792        82.7188       50.9688                 0.632794                  2.04732        83.4844        51.3594                  0.63982                    2.06525\n",
      "    180    1.91009        83.2031       51.3906                 0.643869                  2.07198        83.6094        51.6094                  0.647244                   2.08339\n",
      "    190    1.98991        82.9531       51.5156                 0.646                     2.09208        83.5625        51.9062                  0.651795                   2.11003\n",
      "    199    2.00646        81.2031       50.125                  0.627965                  2.02097        81.8281        50.5156                  0.634287                   2.0381\n"
     ]
    }
   ],
   "source": [
    "print(tabulate(history_training, headers=\"keys\"), flush=True)\n",
    "print(tabulate(history_validation, headers=\"keys\"), flush=True)"
   ]
  },
  {
   "cell_type": "code",
   "execution_count": 30,
   "metadata": {},
   "outputs": [
    {
     "data": {
      "text/plain": [
       "<matplotlib.legend.Legend at 0x7f6c1260bfd0>"
      ]
     },
     "execution_count": 30,
     "metadata": {},
     "output_type": "execute_result"
    },
    {
     "data": {
      "image/png": "[encoded data removed]",
      "text/plain": [
       "<Figure size 432x288 with 1 Axes>"
      ]
     },
     "metadata": {
      "needs_background": "light"
     },
     "output_type": "display_data"
    }
   ],
   "source": [
    "plt.plot(history_validation[\"epoch\"],\n",
    "         history_validation[\"greedy_cer\"], label=\"greedy\")\n",
    "plt.plot(history_validation[\"epoch\"],\n",
    "         history_validation[\"viterbi_cer\"], label=\"viterbi\")\n",
    "plt.legend()"
   ]
  },
  {
   "cell_type": "code",
   "execution_count": 31,
   "metadata": {},
   "outputs": [
    {
     "data": {
      "text/plain": [
       "<matplotlib.legend.Legend at 0x7f6c10186d10>"
      ]
     },
     "execution_count": 31,
     "metadata": {},
     "output_type": "execute_result"
    },
    {
     "data": {
      "image/png": "[encoded data removed]",
      "text/plain": [
       "<Figure size 432x288 with 1 Axes>"
      ]
     },
     "metadata": {
      "needs_background": "light"
     },
     "output_type": "display_data"
    }
   ],
   "source": [
    "plt.plot(history_validation[\"epoch\"],\n",
    "         history_validation[\"greedy_wer\"], label=\"greedy\")\n",
    "plt.plot(history_validation[\"epoch\"],\n",
    "         history_validation[\"viterbi_wer\"], label=\"viterbi\")\n",
    "plt.legend()"
   ]
  },
  {
   "cell_type": "code",
   "execution_count": 33,
   "metadata": {},
   "outputs": [
    {
     "data": {
      "text/plain": [
       "<matplotlib.legend.Legend at 0x7f6bdc1b8b90>"
      ]
     },
     "execution_count": 33,
     "metadata": {},
     "output_type": "execute_result"
    },
    {
     "data": {
      "image/png": "[encoded data removed]",
      "text/plain": [
       "<Figure size 432x288 with 1 Axes>"
      ]
     },
     "metadata": {
      "needs_background": "light"
     },
     "output_type": "display_data"
    }
   ],
   "source": [
    "plt.plot(history_validation[\"epoch\"],\n",
    "         history_validation[\"greedy_normalized_cer\"], label=\"greedy\")\n",
    "plt.plot(history_validation[\"epoch\"],\n",
    "         history_validation[\"viterbi_normalized_cer\"], label=\"viterbi\")\n",
    "plt.legend()"
   ]
  },
  {
   "cell_type": "code",
   "execution_count": 32,
   "metadata": {},
   "outputs": [
    {
     "ename": "ValueError",
     "evalue": "x and y must have same first dimension, but have shapes (21,) and (0,)",
     "output_type": "error",
     "traceback": [
      "\u001b[0;31m---------------------------------------------------------------------------\u001b[0m",
      "\u001b[0;31mValueError\u001b[0m                                Traceback (most recent call last)",
      "\u001b[0;32m<ipython-input-32-cd1cc8a15c6c>\u001b[0m in \u001b[0;36m<module>\u001b[0;34m\u001b[0m\n\u001b[1;32m      1\u001b[0m plt.plot(history_validation[\"epoch\"],\n\u001b[0;32m----> 2\u001b[0;31m          history_validation[\"greedy_cer_normalized\"], label=\"greedy\")\n\u001b[0m\u001b[1;32m      3\u001b[0m plt.plot(history_validation[\"epoch\"],\n\u001b[1;32m      4\u001b[0m          history_validation[\"viterbi_cer_normalized\"], label=\"viterbi\")\n\u001b[1;32m      5\u001b[0m \u001b[0mplt\u001b[0m\u001b[0;34m.\u001b[0m\u001b[0mlegend\u001b[0m\u001b[0;34m(\u001b[0m\u001b[0;34m)\u001b[0m\u001b[0;34m\u001b[0m\u001b[0;34m\u001b[0m\u001b[0m\n",
      "\u001b[0;32m~/anaconda3/envs/audio-built/lib/python3.7/site-packages/matplotlib/pyplot.py\u001b[0m in \u001b[0;36mplot\u001b[0;34m(scalex, scaley, data, *args, **kwargs)\u001b[0m\n\u001b[1;32m   2794\u001b[0m     return gca().plot(\n\u001b[1;32m   2795\u001b[0m         *args, scalex=scalex, scaley=scaley, **({\"data\": data} if data\n\u001b[0;32m-> 2796\u001b[0;31m         is not None else {}), **kwargs)\n\u001b[0m\u001b[1;32m   2797\u001b[0m \u001b[0;34m\u001b[0m\u001b[0m\n\u001b[1;32m   2798\u001b[0m \u001b[0;34m\u001b[0m\u001b[0m\n",
      "\u001b[0;32m~/anaconda3/envs/audio-built/lib/python3.7/site-packages/matplotlib/axes/_axes.py\u001b[0m in \u001b[0;36mplot\u001b[0;34m(self, scalex, scaley, data, *args, **kwargs)\u001b[0m\n\u001b[1;32m   1663\u001b[0m         \"\"\"\n\u001b[1;32m   1664\u001b[0m         \u001b[0mkwargs\u001b[0m \u001b[0;34m=\u001b[0m \u001b[0mcbook\u001b[0m\u001b[0;34m.\u001b[0m\u001b[0mnormalize_kwargs\u001b[0m\u001b[0;34m(\u001b[0m\u001b[0mkwargs\u001b[0m\u001b[0;34m,\u001b[0m \u001b[0mmlines\u001b[0m\u001b[0;34m.\u001b[0m\u001b[0mLine2D\u001b[0m\u001b[0;34m.\u001b[0m\u001b[0m_alias_map\u001b[0m\u001b[0;34m)\u001b[0m\u001b[0;34m\u001b[0m\u001b[0;34m\u001b[0m\u001b[0m\n\u001b[0;32m-> 1665\u001b[0;31m         \u001b[0mlines\u001b[0m \u001b[0;34m=\u001b[0m \u001b[0;34m[\u001b[0m\u001b[0;34m*\u001b[0m\u001b[0mself\u001b[0m\u001b[0;34m.\u001b[0m\u001b[0m_get_lines\u001b[0m\u001b[0;34m(\u001b[0m\u001b[0;34m*\u001b[0m\u001b[0margs\u001b[0m\u001b[0;34m,\u001b[0m \u001b[0mdata\u001b[0m\u001b[0;34m=\u001b[0m\u001b[0mdata\u001b[0m\u001b[0;34m,\u001b[0m \u001b[0;34m**\u001b[0m\u001b[0mkwargs\u001b[0m\u001b[0;34m)\u001b[0m\u001b[0;34m]\u001b[0m\u001b[0;34m\u001b[0m\u001b[0;34m\u001b[0m\u001b[0m\n\u001b[0m\u001b[1;32m   1666\u001b[0m         \u001b[0;32mfor\u001b[0m \u001b[0mline\u001b[0m \u001b[0;32min\u001b[0m \u001b[0mlines\u001b[0m\u001b[0;34m:\u001b[0m\u001b[0;34m\u001b[0m\u001b[0;34m\u001b[0m\u001b[0m\n\u001b[1;32m   1667\u001b[0m             \u001b[0mself\u001b[0m\u001b[0;34m.\u001b[0m\u001b[0madd_line\u001b[0m\u001b[0;34m(\u001b[0m\u001b[0mline\u001b[0m\u001b[0;34m)\u001b[0m\u001b[0;34m\u001b[0m\u001b[0;34m\u001b[0m\u001b[0m\n",
      "\u001b[0;32m~/anaconda3/envs/audio-built/lib/python3.7/site-packages/matplotlib/axes/_base.py\u001b[0m in \u001b[0;36m__call__\u001b[0;34m(self, *args, **kwargs)\u001b[0m\n\u001b[1;32m    223\u001b[0m                 \u001b[0mthis\u001b[0m \u001b[0;34m+=\u001b[0m \u001b[0margs\u001b[0m\u001b[0;34m[\u001b[0m\u001b[0;36m0\u001b[0m\u001b[0;34m]\u001b[0m\u001b[0;34m,\u001b[0m\u001b[0;34m\u001b[0m\u001b[0;34m\u001b[0m\u001b[0m\n\u001b[1;32m    224\u001b[0m                 \u001b[0margs\u001b[0m \u001b[0;34m=\u001b[0m \u001b[0margs\u001b[0m\u001b[0;34m[\u001b[0m\u001b[0;36m1\u001b[0m\u001b[0;34m:\u001b[0m\u001b[0;34m]\u001b[0m\u001b[0;34m\u001b[0m\u001b[0;34m\u001b[0m\u001b[0m\n\u001b[0;32m--> 225\u001b[0;31m             \u001b[0;32myield\u001b[0m \u001b[0;32mfrom\u001b[0m \u001b[0mself\u001b[0m\u001b[0;34m.\u001b[0m\u001b[0m_plot_args\u001b[0m\u001b[0;34m(\u001b[0m\u001b[0mthis\u001b[0m\u001b[0;34m,\u001b[0m \u001b[0mkwargs\u001b[0m\u001b[0;34m)\u001b[0m\u001b[0;34m\u001b[0m\u001b[0;34m\u001b[0m\u001b[0m\n\u001b[0m\u001b[1;32m    226\u001b[0m \u001b[0;34m\u001b[0m\u001b[0m\n\u001b[1;32m    227\u001b[0m     \u001b[0;32mdef\u001b[0m \u001b[0mget_next_color\u001b[0m\u001b[0;34m(\u001b[0m\u001b[0mself\u001b[0m\u001b[0;34m)\u001b[0m\u001b[0;34m:\u001b[0m\u001b[0;34m\u001b[0m\u001b[0;34m\u001b[0m\u001b[0m\n",
      "\u001b[0;32m~/anaconda3/envs/audio-built/lib/python3.7/site-packages/matplotlib/axes/_base.py\u001b[0m in \u001b[0;36m_plot_args\u001b[0;34m(self, tup, kwargs)\u001b[0m\n\u001b[1;32m    389\u001b[0m             \u001b[0mx\u001b[0m\u001b[0;34m,\u001b[0m \u001b[0my\u001b[0m \u001b[0;34m=\u001b[0m \u001b[0mindex_of\u001b[0m\u001b[0;34m(\u001b[0m\u001b[0mtup\u001b[0m\u001b[0;34m[\u001b[0m\u001b[0;34m-\u001b[0m\u001b[0;36m1\u001b[0m\u001b[0;34m]\u001b[0m\u001b[0;34m)\u001b[0m\u001b[0;34m\u001b[0m\u001b[0;34m\u001b[0m\u001b[0m\n\u001b[1;32m    390\u001b[0m \u001b[0;34m\u001b[0m\u001b[0m\n\u001b[0;32m--> 391\u001b[0;31m         \u001b[0mx\u001b[0m\u001b[0;34m,\u001b[0m \u001b[0my\u001b[0m \u001b[0;34m=\u001b[0m \u001b[0mself\u001b[0m\u001b[0;34m.\u001b[0m\u001b[0m_xy_from_xy\u001b[0m\u001b[0;34m(\u001b[0m\u001b[0mx\u001b[0m\u001b[0;34m,\u001b[0m \u001b[0my\u001b[0m\u001b[0;34m)\u001b[0m\u001b[0;34m\u001b[0m\u001b[0;34m\u001b[0m\u001b[0m\n\u001b[0m\u001b[1;32m    392\u001b[0m \u001b[0;34m\u001b[0m\u001b[0m\n\u001b[1;32m    393\u001b[0m         \u001b[0;32mif\u001b[0m \u001b[0mself\u001b[0m\u001b[0;34m.\u001b[0m\u001b[0mcommand\u001b[0m \u001b[0;34m==\u001b[0m \u001b[0;34m'plot'\u001b[0m\u001b[0;34m:\u001b[0m\u001b[0;34m\u001b[0m\u001b[0;34m\u001b[0m\u001b[0m\n",
      "\u001b[0;32m~/anaconda3/envs/audio-built/lib/python3.7/site-packages/matplotlib/axes/_base.py\u001b[0m in \u001b[0;36m_xy_from_xy\u001b[0;34m(self, x, y)\u001b[0m\n\u001b[1;32m    268\u001b[0m         \u001b[0;32mif\u001b[0m \u001b[0mx\u001b[0m\u001b[0;34m.\u001b[0m\u001b[0mshape\u001b[0m\u001b[0;34m[\u001b[0m\u001b[0;36m0\u001b[0m\u001b[0;34m]\u001b[0m \u001b[0;34m!=\u001b[0m \u001b[0my\u001b[0m\u001b[0;34m.\u001b[0m\u001b[0mshape\u001b[0m\u001b[0;34m[\u001b[0m\u001b[0;36m0\u001b[0m\u001b[0;34m]\u001b[0m\u001b[0;34m:\u001b[0m\u001b[0;34m\u001b[0m\u001b[0;34m\u001b[0m\u001b[0m\n\u001b[1;32m    269\u001b[0m             raise ValueError(\"x and y must have same first dimension, but \"\n\u001b[0;32m--> 270\u001b[0;31m                              \"have shapes {} and {}\".format(x.shape, y.shape))\n\u001b[0m\u001b[1;32m    271\u001b[0m         \u001b[0;32mif\u001b[0m \u001b[0mx\u001b[0m\u001b[0;34m.\u001b[0m\u001b[0mndim\u001b[0m \u001b[0;34m>\u001b[0m \u001b[0;36m2\u001b[0m \u001b[0;32mor\u001b[0m \u001b[0my\u001b[0m\u001b[0;34m.\u001b[0m\u001b[0mndim\u001b[0m \u001b[0;34m>\u001b[0m \u001b[0;36m2\u001b[0m\u001b[0;34m:\u001b[0m\u001b[0;34m\u001b[0m\u001b[0;34m\u001b[0m\u001b[0m\n\u001b[1;32m    272\u001b[0m             raise ValueError(\"x and y can be no greater than 2-D, but have \"\n",
      "\u001b[0;31mValueError\u001b[0m: x and y must have same first dimension, but have shapes (21,) and (0,)"
     ]
    },
    {
     "data": {
      "image/png": "[encoded data removed]",
      "text/plain": [
       "<Figure size 432x288 with 1 Axes>"
      ]
     },
     "metadata": {
      "needs_background": "light"
     },
     "output_type": "display_data"
    }
   ],
   "source": [
    "plt.plot(history_validation[\"epoch\"],\n",
    "         history_validation[\"greedy_cer_normalized\"], label=\"greedy\")\n",
    "plt.plot(history_validation[\"epoch\"],\n",
    "         history_validation[\"viterbi_cer_normalized\"], label=\"viterbi\")\n",
    "plt.legend()"
   ]
  },
  {
   "cell_type": "code",
   "execution_count": 34,
   "metadata": {},
   "outputs": [
    {
     "data": {
      "text/plain": [
       "<matplotlib.legend.Legend at 0x7f6bdc0bbb10>"
      ]
     },
     "execution_count": 34,
     "metadata": {},
     "output_type": "execute_result"
    },
    {
     "data": {
      "image/png": "[encoded data removed]",
      "text/plain": [
       "<Figure size 432x288 with 1 Axes>"
      ]
     },
     "metadata": {
      "needs_background": "light"
     },
     "output_type": "display_data"
    }
   ],
   "source": [
    "plt.plot(history_validation[\"epoch\"],\n",
    "         history_validation[\"greedy_normalized_wer\"], label=\"greedy\")\n",
    "plt.plot(history_validation[\"epoch\"],\n",
    "         history_validation[\"viterbi_normalized_wer\"], label=\"viterbi\")\n",
    "plt.legend()"
   ]
  },
  {
   "cell_type": "code",
   "execution_count": null,
   "metadata": {},
   "outputs": [],
   "source": [
    "plt.plot(history_validation[\"epoch\"],\n",
    "         history_validation[\"greedy_wer_normalized\"], label=\"greedy\")\n",
    "plt.plot(history_validation[\"epoch\"],\n",
    "         history_validation[\"viterbi_wer_normalized\"], label=\"viterbi\")\n",
    "plt.legend()"
   ]
  },
  {
   "cell_type": "code",
   "execution_count": 35,
   "metadata": {},
   "outputs": [
    {
     "data": {
      "text/plain": [
       "<matplotlib.legend.Legend at 0x7f6bdc0adfd0>"
      ]
     },
     "execution_count": 35,
     "metadata": {},
     "output_type": "execute_result"
    },
    {
     "data": {
      "image/png": "[encoded data removed]",
      "text/plain": [
       "<Figure size 432x288 with 1 Axes>"
      ]
     },
     "metadata": {
      "needs_background": "light"
     },
     "output_type": "display_data"
    }
   ],
   "source": [
    "plt.plot(history_training[\"epoch\"],\n",
    "         history_training[\"sum_loss\"], label=\"training\")\n",
    "plt.plot(history_validation[\"epoch\"],\n",
    "         history_validation[\"sum_loss\"], label=\"validation\")\n",
    "plt.legend()"
   ]
  },
  {
   "cell_type": "code",
   "execution_count": 36,
   "metadata": {},
   "outputs": [
    {
     "data": {
      "text/plain": [
       "<matplotlib.legend.Legend at 0x7f6c12598910>"
      ]
     },
     "execution_count": 36,
     "metadata": {},
     "output_type": "execute_result"
    },
    {
     "data": {
      "image/png": "[encoded data removed]",
      "text/plain": [
       "<Figure size 432x288 with 1 Axes>"
      ]
     },
     "metadata": {
      "needs_background": "light"
     },
     "output_type": "display_data"
    }
   ],
   "source": [
    "plt.plot(history_training[\"epoch\"],\n",
    "         history_training[\"sum_loss\"], label=\"training\")\n",
    "plt.plot(history_validation[\"epoch\"],\n",
    "         history_validation[\"sum_loss\"], label=\"validation\")\n",
    "plt.yscale(\"log\")\n",
    "plt.legend()"
   ]
  },
  {
   "cell_type": "code",
   "execution_count": null,
   "metadata": {},
   "outputs": [],
   "source": [
    "# print(torch.cuda.memory_summary(), flush=True)"
   ]
  },
  {
   "cell_type": "code",
   "execution_count": 37,
   "metadata": {
    "scrolled": false
   },
   "outputs": [
    {
     "name": "stdout",
     "output_type": "stream",
     "text": [
      "         983963397 function calls (947702757 primitive calls) in 89218.691 seconds\n",
      "\n",
      "   Ordered by: cumulative time\n",
      "   List reduced from 3078 to 20 due to restriction <20>\n",
      "\n",
      "   ncalls  tottime  percall  cumtime  percall filename:lineno(function)\n",
      "       35    0.001    0.000 89218.623 2549.104 base_events.py:1686(_run_once)\n",
      "   159/27    0.001    0.000 87272.003 3232.296 gen.py:716(run)\n",
      "   263/81    0.000    0.000 87272.002 1077.432 {method 'send' of 'generator' objects}\n",
      "   205/67    0.003    0.000 87271.996 1302.567 gen.py:184(wrapper)\n",
      "      171    0.000    0.000 87271.990  510.363 kernelbase.py:347(process_one)\n",
      "      101    0.002    0.000 87271.987  864.079 kernelbase.py:225(dispatch_shell)\n",
      "      433    0.001    0.000 87271.945  201.552 events.py:86(_run)\n",
      "      433    0.000    0.000 87271.944  201.552 {method 'run' of 'Context' objects}\n",
      "      279    0.000    0.000 87271.942  312.803 ioloop.py:735(_run_callback)\n",
      "133001/161    0.141    0.000 87271.935  542.062 {built-in method builtins.next}\n",
      "       22    0.000    0.000 87271.933 3966.906 ioloop.py:690(<lambda>)\n",
      "       22    0.000    0.000 87271.933 3966.906 gen.py:784(inner)\n",
      "       91    0.002    0.000 87271.880  959.032 kernelbase.py:512(execute_request)\n",
      "       45    0.001    0.000 87271.774 1939.373 ipkernel.py:262(do_execute)\n",
      "       45    0.000    0.000 87271.644 1939.370 zmqshell.py:534(run_cell)\n",
      "       45    0.000    0.000 87271.643 1939.370 interactiveshell.py:2831(run_cell)\n",
      "       45    0.000    0.000 87269.380 1939.320 interactiveshell.py:2865(_run_cell)\n",
      "       45    0.000    0.000 87269.264 1939.317 async_helpers.py:58(_pseudo_sync_runner)\n",
      "       45    0.001    0.000 87269.264 1939.317 {method 'send' of 'coroutine' objects}\n",
      "       45    0.003    0.000 87269.263 1939.317 interactiveshell.py:2920(run_cell_async)\n",
      "\n",
      "\n",
      "\n",
      "stop time: 2020-04-15 17:38:44.280930\n"
     ]
    }
   ],
   "source": [
    "# Print performance\n",
    "pr.disable()\n",
    "s = StringIO()\n",
    "ps = (\n",
    "    pstats\n",
    "    .Stats(pr, stream=s)\n",
    "    .strip_dirs()\n",
    "    .sort_stats(\"cumtime\")\n",
    "    .print_stats(20)\n",
    ")\n",
    "print(s.getvalue(), flush=True)\n",
    "print(\"stop time: {}\".format(str(datetime.now())), flush=True)"
   ]
  }
 ],
 "metadata": {
  "kernelspec": {
   "display_name": "Python 3",
   "language": "python",
   "name": "python3"
  }
 },
 "nbformat": 4,
 "nbformat_minor": 4
}
