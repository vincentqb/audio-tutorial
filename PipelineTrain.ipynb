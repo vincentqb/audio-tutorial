{
 "cells": [
  {
   "cell_type": "code",
   "execution_count": 1,
   "metadata": {},
   "outputs": [],
   "source": [
    "import collections\n",
    "import cProfile\n",
    "import hashlib\n",
    "import itertools\n",
    "import math\n",
    "import os\n",
    "import pstats\n",
    "import string\n",
    "import re\n",
    "\n",
    "from datetime import datetime\n",
    "from io import StringIO\n",
    "from tqdm.notebook import tqdm as tqdm\n",
    "\n",
    "import torch\n",
    "import torchaudio\n",
    "from torch import nn, topk\n",
    "from torch.optim import Adadelta, Adam, SGD\n",
    "from torch.optim.lr_scheduler import ExponentialLR, ReduceLROnPlateau\n",
    "from torch.utils.data import DataLoader\n",
    "from torchaudio.datasets import SPEECHCOMMANDS, LIBRISPEECH\n",
    "from torchaudio.transforms import MFCC, Resample\n",
    "\n",
    "import matplotlib\n",
    "%matplotlib inline\n",
    "from matplotlib import pyplot as plt\n",
    "\n",
    "# Empty CUDA cache\n",
    "torch.cuda.empty_cache()\n",
    "\n",
    "# Profiling performance\n",
    "pr = cProfile.Profile()\n",
    "pr.enable()"
   ]
  },
  {
   "cell_type": "code",
   "execution_count": 2,
   "metadata": {},
   "outputs": [
    {
     "name": "stdout",
     "output_type": "stream",
     "text": [
      "2 GPUs\n",
      "200313.124310\n"
     ]
    }
   ],
   "source": [
    "audio_backend = \"soundfile\"\n",
    "torchaudio.set_audio_backend(audio_backend)\n",
    "\n",
    "device = \"cuda\" if torch.cuda.is_available() else \"cpu\"\n",
    "num_devices = torch.cuda.device_count()\n",
    "# num_devices = 1\n",
    "print(num_devices, \"GPUs\")\n",
    "\n",
    "# max number of sentences per batch\n",
    "# batch_size = 2048\n",
    "# batch_size = 512\n",
    "batch_size = 256\n",
    "# batch_size = 64\n",
    "\n",
    "training_percentage = 90.\n",
    "validation_percentage = 5.\n",
    "\n",
    "data_loader_training_params = {\n",
    "    \"num_workers\": 0,\n",
    "    \"pin_memory\": True,\n",
    "    \"shuffle\": True,\n",
    "    \"drop_last\": True,\n",
    "}\n",
    "data_loader_validation_params = data_loader_training_params.copy()\n",
    "data_loader_validation_params[\"shuffle\"] = False\n",
    "\n",
    "non_blocking = True\n",
    "\n",
    "\n",
    "# text preprocessing\n",
    "\n",
    "char_null = \"-\"\n",
    "char_space = \" \"\n",
    "char_pad = \"*\"\n",
    "char_apostrophe = \"'\"\n",
    "\n",
    "labels = [char_null + char_pad + char_apostrophe + string.ascii_lowercase]\n",
    "\n",
    "# excluded_dir = [\"_background_noise_\"]\n",
    "# folder_speechcommands = './SpeechCommands/speech_commands_v0.02'\n",
    "# labels = [char_null, char_pad] + [d for d in next(os.walk(folder_speechcommands))[1] if d not in excluded_dir]\n",
    "\n",
    "\n",
    "# audio\n",
    "\n",
    "sample_rate_original = 16000\n",
    "sample_rate_new = 8000\n",
    "resample = Resample(sample_rate_original, sample_rate_new).to(device)\n",
    "# resample = None\n",
    "\n",
    "n_mfcc = 13\n",
    "melkwargs = {\n",
    "    'n_fft': 512,\n",
    "    'n_mels': 20,\n",
    "    'hop_length': 80,  # (160, 80)\n",
    "}\n",
    "mfcc = MFCC(sample_rate=sample_rate_original, n_mfcc=n_mfcc, melkwargs=melkwargs).to(device)\n",
    "# mfcc = None\n",
    "\n",
    "\n",
    "# Optimizer\n",
    "\n",
    "optimizer_params_adadelta = {\n",
    "    \"lr\": 1.0,\n",
    "    \"eps\": 1e-8,\n",
    "    \"rho\": 0.95,\n",
    "    \"weight_decay\": 1e-5,\n",
    "}\n",
    "\n",
    "optimizer_params_adam = {\n",
    "    \"lr\": .05,\n",
    "    \"eps\": 1e-8,\n",
    "    \"weight_decay\": .01,\n",
    "}\n",
    "\n",
    "optimizer_params_sgd = {\n",
    "    \"lr\": .001,\n",
    "    \"weight_decay\": .0001,\n",
    "}\n",
    "\n",
    "Optimizer = Adadelta\n",
    "optimizer_params = optimizer_params_adadelta\n",
    "\n",
    "gamma = 0.95\n",
    "\n",
    "\n",
    "# Model\n",
    "\n",
    "num_features = n_mfcc if n_mfcc else 1\n",
    "\n",
    "lstm_params = {\n",
    "    \"num_layers\": 3,\n",
    "    \"batch_first\": False,\n",
    "    \"bidirectional\": False,\n",
    "    \"dropout\": 0.,\n",
    "}\n",
    "\n",
    "clip_norm = 0.  # 10.\n",
    "\n",
    "zero_infinity = False\n",
    "\n",
    "max_epoch = 200\n",
    "mod_epoch = 10\n",
    "\n",
    "dtstamp = datetime.now().strftime(\"%y%m%d.%H%M%S\")\n",
    "print(dtstamp)"
   ]
  },
  {
   "cell_type": "markdown",
   "metadata": {},
   "source": [
    "# Text encoding"
   ]
  },
  {
   "cell_type": "code",
   "execution_count": 3,
   "metadata": {},
   "outputs": [
    {
     "name": "stdout",
     "output_type": "stream",
     "text": [
      "29\n"
     ]
    }
   ],
   "source": [
    "class Coder:\n",
    "    def __init__(self, labels):\n",
    "        labels = list(collections.OrderedDict.fromkeys(list(\"\".join(labels))))\n",
    "        self.length = len(labels)\n",
    "        enumerated = list(enumerate(labels))\n",
    "        flipped = [(sub[1], sub[0]) for sub in enumerated]\n",
    "\n",
    "        d1 = collections.OrderedDict(enumerated)\n",
    "        d2 = collections.OrderedDict(flipped)\n",
    "        self.mapping = {**d1, **d2}\n",
    "        self.mapping[char_space] = self.mapping[char_pad]\n",
    "\n",
    "    def _map(self, iterable):\n",
    "        # iterable to iterable\n",
    "        return [self.mapping[i] for i in iterable]\n",
    "\n",
    "    def encode(self, iterable):\n",
    "        if isinstance(iterable[0], list):\n",
    "            return [self.encode(i) for i in iterable]\n",
    "        else:\n",
    "            return self._map(iterable)\n",
    "\n",
    "    def decode(self, tensor):\n",
    "        if isinstance(tensor[0], list):\n",
    "            return [self.decode(t) for t in tensor]\n",
    "        else:\n",
    "            # not idempotent, since clean string\n",
    "            return \"\".join(self._map(tensor)).replace(char_null, \"\").replace(char_pad, char_space).strip()\n",
    "\n",
    "\n",
    "coder = Coder(labels)\n",
    "encode = coder.encode\n",
    "decode = coder.decode\n",
    "vocab_size = coder.length\n",
    "print(vocab_size)"
   ]
  },
  {
   "cell_type": "markdown",
   "metadata": {},
   "source": [
    "# Dataset"
   ]
  },
  {
   "cell_type": "code",
   "execution_count": 4,
   "metadata": {},
   "outputs": [],
   "source": [
    "class IterableMemoryCache:\n",
    "\n",
    "    def __init__(self, iterable):\n",
    "        self.iterable = iterable\n",
    "        self._iter = iter(iterable)\n",
    "        self._done = False\n",
    "        self._values = []\n",
    "\n",
    "    def __iter__(self):\n",
    "        if self._done:\n",
    "            return iter(self._values)\n",
    "        return itertools.chain(self._values, self._gen_iter())\n",
    "\n",
    "    def _gen_iter(self):\n",
    "        for new_values in self._iter:\n",
    "            self._values.append(new_value)\n",
    "            yield new_value\n",
    "        self._done = True\n",
    "\n",
    "    def __len__(self):\n",
    "        return len(self._iterable)\n",
    "\n",
    "\n",
    "class MapMemoryCache(torch.utils.data.Dataset):\n",
    "    \"\"\"\n",
    "    Wrap a dataset so that, whenever a new item is returned, it is saved to memory.\n",
    "    \"\"\"\n",
    "\n",
    "    def __init__(self, dataset):\n",
    "        self.dataset = dataset\n",
    "        self._cache = [None] * len(dataset)\n",
    "\n",
    "    def __getitem__(self, n):\n",
    "        if self._cache[n]:\n",
    "            return self._cache[n]\n",
    "\n",
    "        item = self.dataset[n]\n",
    "        self._cache[n] = item\n",
    "\n",
    "        return item\n",
    "\n",
    "    def __len__(self):\n",
    "        return len(self.dataset)\n",
    "\n",
    "\n",
    "class Processed(torch.utils.data.Dataset):\n",
    "\n",
    "    def __init__(self, process_datapoint, dataset):\n",
    "        self.process_datapoint = process_datapoint\n",
    "        self.dataset = dataset\n",
    "        \n",
    "    def __getitem__(self, n):\n",
    "        try:\n",
    "            item = self.dataset[n]\n",
    "            return self.process_datapoint(item)\n",
    "        except (FileNotFoundError, RuntimeError):\n",
    "            return None\n",
    "\n",
    "    def __next__(self):\n",
    "        try:\n",
    "            item = next(self.dataset)\n",
    "            return self.process_datapoint(item)\n",
    "        except (FileNotFoundError, RuntimeError):\n",
    "            return self.__next__()\n",
    "        \n",
    "    def __len__(self):\n",
    "        return len(self.dataset)"
   ]
  },
  {
   "cell_type": "code",
   "execution_count": 5,
   "metadata": {},
   "outputs": [],
   "source": [
    "# @torch.jit.script\n",
    "def process_datapoint(item):\n",
    "    transformed = item[0].to(device, non_blocking=non_blocking)\n",
    "    target = item[2].lower().replace(char_space, char_pad)\n",
    "\n",
    "    # apply mfcc, tranpose for pad_sequence\n",
    "    if resample is not None:\n",
    "        transformed = resample(transformed)\n",
    "    \n",
    "    if mfcc is not None:\n",
    "        transformed = mfcc(transformed)\n",
    "    else:\n",
    "        transformed = transformed.unsqueeze(1)\n",
    "    \n",
    "    transformed = transformed[0, ...].transpose(0, -1)\n",
    "    \n",
    "    target = encode(target)\n",
    "    target = torch.tensor(target, dtype=torch.long, device=transformed.device)\n",
    "\n",
    "    transformed = transformed.to(\"cpu\")\n",
    "    target = target.to(\"cpu\")\n",
    "    return transformed, target"
   ]
  },
  {
   "cell_type": "code",
   "execution_count": 6,
   "metadata": {},
   "outputs": [],
   "source": [
    "def datasets():\n",
    "\n",
    "    root = \"./\"\n",
    "    def create(tag):\n",
    "        data = LIBRISPEECH(root, tag, download=True)\n",
    "        data = Processed(process_datapoint, data)\n",
    "        data = MapMemoryCache(data)\n",
    "        return data\n",
    "\n",
    "    return create(\"train-clean-100\"), create(\"dev-clean\"), None\n",
    "\n",
    "\n",
    "training, validation, _ = datasets()"
   ]
  },
  {
   "cell_type": "code",
   "execution_count": 7,
   "metadata": {},
   "outputs": [],
   "source": [
    "def which_set(filename, validation_percentage, testing_percentage):\n",
    "    \"\"\"Determines which data partition the file should belong to.\n",
    "\n",
    "    We want to keep files in the same training, validation, or testing sets even\n",
    "    if new ones are added over time. This makes it less likely that testing\n",
    "    samples will accidentally be reused in training when long runs are restarted\n",
    "    for example. To keep this stability, a hash of the filename is taken and used\n",
    "    to determine which set it should belong to. This determination only depends on\n",
    "    the name and the set proportions, so it won't change as other files are added.\n",
    "\n",
    "    It's also useful to associate particular files as related (for example words\n",
    "    spoken by the same person), so anything after '_nohash_' in a filename is\n",
    "    ignored for set determination. This ensures that 'bobby_nohash_0.wav' and\n",
    "    'bobby_nohash_1.wav' are always in the same set, for example.\n",
    "\n",
    "    Args:\n",
    "        filename: File path of the data sample.\n",
    "        validation_percentage: How much of the data set to use for validation.\n",
    "        testing_percentage: How much of the data set to use for testing.\n",
    "\n",
    "    Returns:\n",
    "        String, one of 'training', 'validation', or 'testing'.\n",
    "    \"\"\"\n",
    "    \n",
    "    MAX_NUM_WAVS_PER_CLASS = 2**27 - 1  # ~134M\n",
    "\n",
    "    base_name = os.path.basename(filename)\n",
    "\n",
    "    # We want to ignore anything after '_nohash_' in the file name when\n",
    "    # deciding which set to put a wav in, so the data set creator has a way of\n",
    "    # grouping wavs that are close variations of each other.\n",
    "    hash_name = re.sub(r'_nohash_.*$', '', base_name).encode(\"utf-8\")\n",
    "    \n",
    "    # This looks a bit magical, but we need to decide whether this file should\n",
    "    # go into the training, testing, or validation sets, and we want to keep\n",
    "    # existing files in the same set even if more files are subsequently\n",
    "    # added.\n",
    "    # To do that, we need a stable way of deciding based on just the file name\n",
    "    # itself, so we do a hash of that and then use that to generate a\n",
    "    # probability value that we use to assign it.\n",
    "    hash_name_hashed = hashlib.sha1(hash_name).hexdigest()\n",
    "    percentage_hash = ((int(hash_name_hashed, 16) % (MAX_NUM_WAVS_PER_CLASS + 1)) * (100.0 / MAX_NUM_WAVS_PER_CLASS))\n",
    "    \n",
    "    if percentage_hash < validation_percentage:\n",
    "        result = 'validation'\n",
    "    elif percentage_hash < (testing_percentage + validation_percentage):\n",
    "        result = 'testing'\n",
    "    else:\n",
    "        result = 'training'\n",
    "\n",
    "    return result\n",
    "\n",
    "\n",
    "def filter_speechcommands(tag, training_percentage, data):\n",
    "    if training_percentage < 100.:\n",
    "            testing_percentage = (100. - training_percentage - validation_percentage)\n",
    "            which_set_filter = lambda x: which_set(x, validation_percentage, testing_percentage) == tag\n",
    "            data._walker = list(filter(which_set_filter, data._walker))\n",
    "    return data\n",
    "\n",
    "\n",
    "def datasets():\n",
    "\n",
    "    root = \"./\"\n",
    "    def create(tag):\n",
    "        data = SPEECHCOMMANDS(root, download=True)\n",
    "        data = filter_speechcommands(tag, training_percentage, data)\n",
    "        data = Processed(process_datapoint, data)\n",
    "        data = MapMemoryCache(data)\n",
    "        return data\n",
    "\n",
    "    return create(\"training\"), create(\"validation\"), create(\"testing\")\n",
    "\n",
    "\n",
    "# training, validation, _ = datasets()"
   ]
  },
  {
   "cell_type": "raw",
   "metadata": {},
   "source": [
    "from collections import Counter\n",
    "from collections import OrderedDict\n",
    "\n",
    "training_unprocessed = SPEECHCOMMANDS(\"./\", download=True)\n",
    "training_unprocessed = filter_speechcommands(training_percentage, training_unprocessed)\n",
    "\n",
    "counter = Counter([t[2] for t in training_unprocessed])\n",
    "counter = OrderedDict(counter.most_common())\n",
    "\n",
    "plt.bar(counter.keys(), counter.values(), align='center')\n",
    "\n",
    "if resample is not None:\n",
    "    waveform, sample_rate = training_unprocessed[0][0], training_unprocessed[0][1]\n",
    "\n",
    "    fn = \"sound.wav\"\n",
    "    torchaudio.save(fn, waveform, sample_rate_new)\n",
    "    ipd.Audio(fn)"
   ]
  },
  {
   "cell_type": "code",
   "execution_count": 8,
   "metadata": {},
   "outputs": [],
   "source": [
    "def collate_fn(batch):\n",
    "\n",
    "    tensors = [b[0] for b in batch if b]\n",
    "    tensors = torch.nn.utils.rnn.pad_sequence(tensors, batch_first=True)\n",
    "    tensors = tensors.transpose(1, -1)\n",
    "\n",
    "    targets = [b[1] for b in batch if b]\n",
    "    target_lengths = torch.tensor(\n",
    "        [target.shape[0] for target in targets], dtype=torch.long, device=tensors.device\n",
    "    )\n",
    "    targets = torch.nn.utils.rnn.pad_sequence(targets, batch_first=True)\n",
    "\n",
    "    # print(targets.shape)\n",
    "    # print(decode(targets.tolist()))\n",
    "    \n",
    "    return tensors, targets, target_lengths"
   ]
  },
  {
   "cell_type": "markdown",
   "metadata": {},
   "source": [
    "# Model\n",
    "\n",
    "[Wav2Letter](https://github.com/LearnedVector/Wav2Letter/blob/master/Google%20Speech%20Command%20Example.ipynb)"
   ]
  },
  {
   "cell_type": "code",
   "execution_count": 9,
   "metadata": {},
   "outputs": [],
   "source": [
    "def weight_init(m): \n",
    "    if isinstance(m, nn.Linear):\n",
    "        size = m.weight.size()\n",
    "        fan_out = size[0] # number of rows\n",
    "        fan_in = size[1] # number of columns\n",
    "        variance = math.sqrt(2.0/(fan_in + fan_out))\n",
    "        m.weight.data.normal_(0.0, variance)\n",
    "\n",
    "\n",
    "class PrintLayer(nn.Module):\n",
    "    def __init__(self):\n",
    "        super().__init__()\n",
    "\n",
    "    def forward(self, x):\n",
    "        print(x)\n",
    "        return x\n",
    "    \n",
    "\n",
    "class Wav2Letter(nn.Module):\n",
    "    \"\"\"Wav2Letter Speech Recognition model\n",
    "        https://arxiv.org/pdf/1609.03193.pdf\n",
    "        This specific architecture accepts mfcc or power spectrums speech signals\n",
    "\n",
    "        Args:\n",
    "            num_features (int): number of mfcc features\n",
    "            num_classes (int): number of unique grapheme class labels\n",
    "    \"\"\"\n",
    "\n",
    "    def __init__(self, num_features, num_classes):\n",
    "        super().__init__()\n",
    "\n",
    "        # Conv1d(in_channels, out_channels, kernel_size, stride)\n",
    "        self.layers = nn.Sequential(\n",
    "            nn.Conv1d(num_features, 250, 48, 2),\n",
    "            nn.ReLU(),\n",
    "            nn.Conv1d(250, 250, 7),\n",
    "            nn.ReLU(),\n",
    "            nn.Conv1d(250, 250, 7),\n",
    "            nn.ReLU(),\n",
    "            nn.Conv1d(250, 250, 7),\n",
    "            nn.ReLU(),\n",
    "            nn.Conv1d(250, 250, 7),\n",
    "            nn.ReLU(),\n",
    "            nn.Conv1d(250, 250, 7),\n",
    "            nn.ReLU(),\n",
    "            # nn.Conv1d(250, 250, 7),\n",
    "            # nn.ReLU(),\n",
    "            # nn.Conv1d(250, 250, 7),\n",
    "            # nn.ReLU(),\n",
    "            nn.Conv1d(250, 2000, 32),\n",
    "            nn.ReLU(),\n",
    "            nn.Conv1d(2000, 2000, 1),\n",
    "            nn.ReLU(),\n",
    "            nn.Conv1d(2000, num_classes, 1),\n",
    "        )\n",
    "\n",
    "    def forward(self, batch):\n",
    "        \"\"\"Forward pass through Wav2Letter network than\n",
    "            takes log probability of output\n",
    "        Args:\n",
    "            batch (int): mini batch of data\n",
    "            shape (batch, num_features, frame_len)\n",
    "        Returns:\n",
    "            Tensor with shape (batch_size, num_classes, output_len)\n",
    "        \"\"\"\n",
    "        # batch: (batch_size, num_features, seq_len)\n",
    "        y_pred = self.layers(batch)\n",
    "        # y_pred: (batch_size, num_classes, output_len)\n",
    "        y_pred = y_pred.transpose(-1, -2)\n",
    "        # y_pred: (batch_size, output_len, num_classes)\n",
    "        return nn.functional.log_softmax(y_pred, dim=-1)    "
   ]
  },
  {
   "cell_type": "code",
   "execution_count": 10,
   "metadata": {},
   "outputs": [],
   "source": [
    "class LSTMModel(nn.Module):\n",
    "\n",
    "    def __init__(self, num_features, num_classes, num_layers, bidirectional, dropout, batch_first):\n",
    "        super().__init__()\n",
    "        \n",
    "        directions = bidirectional + 1\n",
    "\n",
    "        self.layer = nn.LSTM(\n",
    "            num_features, num_classes,\n",
    "            num_layers=num_layers, bidirectional=bidirectional, dropout=dropout, batch_first=batch_first\n",
    "        )\n",
    "        # self.hidden2class = nn.Linear(directions*num_classes, num_classes)\n",
    "\n",
    "    def forward(self, batch):\n",
    "        # self.layer.flatten_parameters()\n",
    "        # print(\"forward\")\n",
    "        # batch: batch, num_features, seq_len\n",
    "        # print(batch.shape)\n",
    "        batch = batch.transpose(-1, -2).contiguous()\n",
    "        # batch: batch, seq_len, num_features\n",
    "        # print(batch.shape)\n",
    "        outputs, _ = self.layer(batch)\n",
    "        # outputs: batch, seq_len, directions*num_features\n",
    "        # outputs = self.hidden2class(outputs)\n",
    "        # outputs: batch, seq_len, num_features\n",
    "        # print(outputs.shape)\n",
    "        return nn.functional.log_softmax(outputs, dim=-1)    "
   ]
  },
  {
   "cell_type": "markdown",
   "metadata": {},
   "source": [
    "# Word Decoder"
   ]
  },
  {
   "cell_type": "code",
   "execution_count": 11,
   "metadata": {},
   "outputs": [],
   "source": [
    "def greedy_decoder(outputs):\n",
    "    \"\"\"Greedy Decoder. Returns highest probability of class labels for each timestep\n",
    "\n",
    "    Args:\n",
    "        outputs (torch.Tensor): shape (input length, batch size, number of classes (including blank))\n",
    "\n",
    "    Returns:\n",
    "        torch.Tensor: class labels per time step.\n",
    "    \"\"\"\n",
    "    _, indices = topk(outputs, k=1, dim=-1)\n",
    "    return indices[..., 0]"
   ]
  },
  {
   "cell_type": "code",
   "execution_count": 12,
   "metadata": {},
   "outputs": [],
   "source": [
    "# https://martin-thoma.com/word-error-rate-calculation/\n",
    "\n",
    "def compute_wer(r, h):\n",
    "    \"\"\"\n",
    "    Calculation of WER with Levenshtein distance.\n",
    "\n",
    "    Works only for iterables up to 254 elements (uint8).\n",
    "    O(nm) time ans space complexity.\n",
    "    \"\"\"\n",
    "    # initialisation\n",
    "    import numpy\n",
    "    d = numpy.zeros((len(r)+1)*(len(h)+1), dtype=numpy.uint8)\n",
    "    d = d.reshape((len(r)+1, len(h)+1))\n",
    "    for i in range(len(r)+1):\n",
    "        for j in range(len(h)+1):\n",
    "            if i == 0:\n",
    "                d[0][j] = j\n",
    "            elif j == 0:\n",
    "                d[i][0] = i\n",
    "\n",
    "    # computation\n",
    "    for i in range(1, len(r)+1):\n",
    "        for j in range(1, len(h)+1):\n",
    "            if r[i-1] == h[j-1]:\n",
    "                d[i][j] = d[i-1][j-1]\n",
    "            else:\n",
    "                substitution = d[i-1][j-1] + 1\n",
    "                insertion    = d[i][j-1] + 1\n",
    "                deletion     = d[i-1][j] + 1\n",
    "                d[i][j] = min(substitution, insertion, deletion)\n",
    "\n",
    "    return d[len(r)][len(h)]/len(r)"
   ]
  },
  {
   "cell_type": "markdown",
   "metadata": {},
   "source": [
    "# Train"
   ]
  },
  {
   "cell_type": "code",
   "execution_count": 13,
   "metadata": {},
   "outputs": [
    {
     "name": "stdout",
     "output_type": "stream",
     "text": [
      "111 10\n"
     ]
    }
   ],
   "source": [
    "loader_training = DataLoader(\n",
    "    training, batch_size=batch_size, collate_fn=collate_fn, **data_loader_training_params\n",
    ")\n",
    "\n",
    "loader_validation = DataLoader(\n",
    "    validation, batch_size=batch_size, collate_fn=collate_fn, **data_loader_validation_params\n",
    ")\n",
    "\n",
    "print(len(loader_training), len(loader_validation))\n",
    "\n",
    "# num_features = next(iter(loader_training))[0].shape[1]\n",
    "# print(num_features)"
   ]
  },
  {
   "cell_type": "code",
   "execution_count": 14,
   "metadata": {},
   "outputs": [],
   "source": [
    "model = Wav2Letter(num_features, vocab_size)\n",
    "# model = LSTMModel(num_features, vocab_size, **lstm_params)\n",
    "\n",
    "model = torch.jit.script(model)\n",
    "model = nn.DataParallel(model) if num_devices > 1 else model\n",
    "model = model.to(device, non_blocking=non_blocking)\n",
    "# model.apply(weight_init)\n",
    "\n",
    "optimizer = Optimizer(model.parameters(), **optimizer_params)\n",
    "# scheduler = ExponentialLR(optimizer, gamma=gamma)\n",
    "# scheduler = ReduceLROnPlateau(optimizer)\n",
    "\n",
    "criterion = torch.nn.CTCLoss(zero_infinity=zero_infinity)\n",
    "# criterion = nn.MSELoss()\n",
    "# criterion = torch.nn.NLLLoss()\n",
    "\n",
    "best_loss = 1."
   ]
  },
  {
   "cell_type": "code",
   "execution_count": 15,
   "metadata": {},
   "outputs": [],
   "source": [
    "def forward_and_loss(inputs, targets, target_lengths):\n",
    "\n",
    "    inputs = inputs.to(device, non_blocking=non_blocking)\n",
    "    targets = targets.to(device, non_blocking=non_blocking)\n",
    "    \n",
    "    # keep batch first for data parallel\n",
    "    outputs = model(inputs).transpose(0, 1)\n",
    "\n",
    "    this_batch_size = outputs.shape[1]\n",
    "    seq_len = outputs.shape[0]\n",
    "    input_lengths = torch.full((this_batch_size,), seq_len, dtype=torch.long, device=outputs.device)\n",
    "    \n",
    "    # CTC    \n",
    "    # outputs: input length, batch size, number of classes (including blank)\n",
    "    # targets: batch size, max target length\n",
    "    # input_lengths: batch size\n",
    "    # target_lengths: batch size\n",
    "\n",
    "    return criterion(outputs, targets, input_lengths, target_lengths)\n",
    "\n",
    "\n",
    "def forward_decode_wer(inputs, targets):\n",
    "\n",
    "    import statistics\n",
    "    \n",
    "    output = model(inputs)\n",
    "\n",
    "    # output = output[0, :, :].unsqueeze(0)\n",
    "    # targets = targets[0, ...].unsqueeze(0)\n",
    "\n",
    "    # output = output.transpose(0, 1)\n",
    "    output = greedy_decoder(output)\n",
    "\n",
    "    output = decode(output.tolist())\n",
    "    target = decode(targets.tolist())\n",
    "    \n",
    "    print_length = 20\n",
    "    output_print = output[0].ljust(print_length)[:print_length]\n",
    "    target_print = target[0].ljust(print_length)[:print_length]\n",
    "    print(f\"Epoch: {epoch:4}   Target: {target_print}   Output: {output_print}\")\n",
    "\n",
    "    output = [o.split(char_space) for o in output]\n",
    "    target = [o.split(char_space) for o in target]\n",
    "    \n",
    "    wers = [compute_wer(a, b) for a, b in zip(output, target)]\n",
    "    score = statistics.mean(wers)\n",
    "    # score = statistics.median(wers)\n",
    "    print(f\"Epoch: {epoch:4}   WER: {score:1.5f}\")\n",
    "\n",
    "    return score"
   ]
  },
  {
   "cell_type": "code",
   "execution_count": 16,
   "metadata": {},
   "outputs": [
    {
     "data": {
      "application/vnd.jupyter.widget-view+json": {
       "model_id": "9521bdd99cfd48c49e01a9abd3f04b42",
       "version_major": 2,
       "version_minor": 0
      },
      "text/plain": [
       "HBox(children=(FloatProgress(value=0.0, max=200.0), HTML(value='')))"
      ]
     },
     "metadata": {},
     "output_type": "display_data"
    },
    {
     "name": "stdout",
     "output_type": "stream",
     "text": [
      "Epoch:    0   Gradient: 22.12950756406052\n",
      "Epoch:    0   Target: tom says thanks and    Output:                     \n",
      "Epoch:    0   WER: 21.73828\n",
      "Epoch:    0   Train: 4.50770   Validation: 3.23086\n",
      "Epoch:   10   Gradient: 1.850393255813796\n",
      "Epoch:   10   Target: tom says thanks and    Output: a a    e a  o  e a e\n",
      "Epoch:   10   WER: 1.42350\n",
      "Epoch:   10   Train: 2.75298   Validation: 2.82418\n",
      "Epoch:   20   Gradient: 0.9580090713160649\n",
      "Epoch:   20   Target: tom says thanks and    Output: e e a e e e e e e   \n",
      "Epoch:   20   WER: 1.06373\n",
      "Epoch:   20   Train: 2.54370   Validation: 2.62464\n"
     ]
    },
    {
     "name": "stderr",
     "output_type": "stream",
     "text": [
      "IOPub message rate exceeded.\n",
      "The notebook server will temporarily stop sending output\n",
      "to the client in order to avoid crashing it.\n",
      "To change this limit, set the config variable\n",
      "`--NotebookApp.iopub_msg_rate_limit`.\n",
      "\n",
      "Current values:\n",
      "NotebookApp.iopub_msg_rate_limit=1000.0 (msgs/sec)\n",
      "NotebookApp.rate_limit_window=3.0 (secs)\n",
      "\n"
     ]
    },
    {
     "name": "stdout",
     "output_type": "stream",
     "text": [
      "Epoch:   50   Gradient: 1.274402303156268\n",
      "Epoch:   50   Target: tom says thanks and    Output: sses sthanng  and lo\n",
      "Epoch:   50   WER: 0.90337\n",
      "Epoch:   50   Train: 1.02872   Validation: 1.25077\n"
     ]
    },
    {
     "name": "stderr",
     "output_type": "stream",
     "text": [
      "IOPub message rate exceeded.\n",
      "The notebook server will temporarily stop sending output\n",
      "to the client in order to avoid crashing it.\n",
      "To change this limit, set the config variable\n",
      "`--NotebookApp.iopub_msg_rate_limit`.\n",
      "\n",
      "Current values:\n",
      "NotebookApp.iopub_msg_rate_limit=1000.0 (msgs/sec)\n",
      "NotebookApp.rate_limit_window=3.0 (secs)\n",
      "\n"
     ]
    },
    {
     "name": "stdout",
     "output_type": "stream",
     "text": [
      "Epoch:   80   Gradient: 1.8795610441365092\n",
      "Epoch:   80   Target: tom says thanks and    Output: ses tigss   and lofo\n",
      "Epoch:   80   WER: 0.94029\n",
      "Epoch:   80   Train: 0.20987   Validation: 2.07089\n"
     ]
    },
    {
     "name": "stderr",
     "output_type": "stream",
     "text": [
      "IOPub message rate exceeded.\n",
      "The notebook server will temporarily stop sending output\n",
      "to the client in order to avoid crashing it.\n",
      "To change this limit, set the config variable\n",
      "`--NotebookApp.iopub_msg_rate_limit`.\n",
      "\n",
      "Current values:\n",
      "NotebookApp.iopub_msg_rate_limit=1000.0 (msgs/sec)\n",
      "NotebookApp.rate_limit_window=3.0 (secs)\n",
      "\n"
     ]
    },
    {
     "name": "stdout",
     "output_type": "stream",
     "text": [
      "Epoch:  110   Gradient: 0.22713932764499964\n",
      "Epoch:  110   Target: tom says thanks and    Output: sses tigs   and lee \n",
      "Epoch:  110   WER: 0.93669\n",
      "Epoch:  110   Train: 0.06748   Validation: 3.81062\n"
     ]
    },
    {
     "name": "stderr",
     "output_type": "stream",
     "text": [
      "IOPub message rate exceeded.\n",
      "The notebook server will temporarily stop sending output\n",
      "to the client in order to avoid crashing it.\n",
      "To change this limit, set the config variable\n",
      "`--NotebookApp.iopub_msg_rate_limit`.\n",
      "\n",
      "Current values:\n",
      "NotebookApp.iopub_msg_rate_limit=1000.0 (msgs/sec)\n",
      "NotebookApp.rate_limit_window=3.0 (secs)\n",
      "\n"
     ]
    },
    {
     "name": "stdout",
     "output_type": "stream",
     "text": [
      "Epoch:  140   Gradient: 0.13124618539527286\n",
      "Epoch:  140   Target: tom says thanks and    Output: sses tingss   and le\n",
      "Epoch:  140   WER: 0.94153\n",
      "Epoch:  140   Train: 0.00905   Validation: 4.26888\n",
      "Epoch:  150   Gradient: 0.13650071506314118\n",
      "Epoch:  150   Target: tom says thanks and    Output: sses tings   and lok\n",
      "Epoch:  150   WER: 0.94298\n",
      "Epoch:  150   Train: 0.05833   Validation: 4.03806\n"
     ]
    },
    {
     "name": "stderr",
     "output_type": "stream",
     "text": [
      "IOPub message rate exceeded.\n",
      "The notebook server will temporarily stop sending output\n",
      "to the client in order to avoid crashing it.\n",
      "To change this limit, set the config variable\n",
      "`--NotebookApp.iopub_msg_rate_limit`.\n",
      "\n",
      "Current values:\n",
      "NotebookApp.iopub_msg_rate_limit=1000.0 (msgs/sec)\n",
      "NotebookApp.rate_limit_window=3.0 (secs)\n",
      "\n"
     ]
    },
    {
     "name": "stdout",
     "output_type": "stream",
     "text": [
      "Epoch:  170   Gradient: 0.11800196341310158\n",
      "Epoch:  170   Target: tom says thanks and    Output: sses tings   and lok\n",
      "Epoch:  170   WER: 0.94372\n",
      "Epoch:  170   Train: 0.05332   Validation: 3.98812\n",
      "Epoch:  180   Gradient: 0.13072258563060024\n",
      "Epoch:  180   Target: tom says thanks and    Output: sses things  and lok\n",
      "Epoch:  180   WER: 0.93260\n",
      "Epoch:  180   Train: 0.00808   Validation: 4.21454\n"
     ]
    },
    {
     "name": "stderr",
     "output_type": "stream",
     "text": [
      "IOPub message rate exceeded.\n",
      "The notebook server will temporarily stop sending output\n",
      "to the client in order to avoid crashing it.\n",
      "To change this limit, set the config variable\n",
      "`--NotebookApp.iopub_msg_rate_limit`.\n",
      "\n",
      "Current values:\n",
      "NotebookApp.iopub_msg_rate_limit=1000.0 (msgs/sec)\n",
      "NotebookApp.rate_limit_window=3.0 (secs)\n",
      "\n"
     ]
    }
   ],
   "source": [
    "sum_loss_training = []\n",
    "sum_loss_validation = []\n",
    "gradient_norm = []\n",
    "gradient_norm_training = []\n",
    "wer_validation = []\n",
    "\n",
    "with tqdm(total=max_epoch, unit_scale=1) as pbar:\n",
    "    for epoch in range(max_epoch):\n",
    "        model.train()\n",
    "\n",
    "        sum_loss = 0.\n",
    "        for inputs, targets, target_lengths in loader_training:\n",
    "\n",
    "            loss = forward_and_loss(inputs, targets, target_lengths)\n",
    "            sum_loss += loss.item()\n",
    "\n",
    "            optimizer.zero_grad()\n",
    "            loss.backward()\n",
    "            if clip_norm > 0:\n",
    "                total_norm = torch.nn.utils.clip_grad_norm_(model.parameters(), clip_norm)\n",
    "                gradient_norm_training.append((epoch, total_norm))\n",
    "                print(f\"Epoch: {epoch:4}   Gradient: {total_norm:4.5f}\")\n",
    "            optimizer.step()\n",
    "\n",
    "            pbar.update(1/len(loader_training))\n",
    "\n",
    "        # Average loss\n",
    "        sum_loss = sum_loss / len(loader_training)\n",
    "        sum_loss_training.append((epoch, sum_loss))\n",
    "        sum_loss_str = f\"Epoch: {epoch:4}   Train: {sum_loss:4.5f}\"\n",
    "        \n",
    "        # scheduler.step()\n",
    "        # scheduler.step(sum_loss)\n",
    "        \n",
    "        with torch.no_grad():\n",
    "\n",
    "            if not epoch % mod_epoch or epoch == max_epoch-1:\n",
    "\n",
    "                total_norm = 0.\n",
    "                for p in list(filter(lambda p: p.grad is not None, model.parameters())):\n",
    "                    total_norm += p.grad.data.norm(2).item() ** 2                    \n",
    "                total_norm = total_norm ** (1. / 2)\n",
    "                gradient_norm.append(total_norm)\n",
    "                print(f\"Epoch: {epoch:4}   Gradient: {total_norm}\")\n",
    "                \n",
    "                # Switch to evaluation mode\n",
    "                model.eval()\n",
    "        \n",
    "                sum_loss = 0.\n",
    "                for inputs, targets, target_lengths in loader_validation:\n",
    "                    sum_loss += forward_and_loss(inputs, targets, target_lengths).item()\n",
    "\n",
    "                # Average loss\n",
    "                sum_loss = sum_loss / len(loader_validation)\n",
    "                sum_loss_validation.append((epoch, sum_loss))\n",
    "                sum_loss_str += f\"   Validation: {sum_loss:.5f}\"\n",
    "\n",
    "                wer = forward_decode_wer(inputs, targets)\n",
    "                wer_validation.append((epoch, wer))\n",
    "\n",
    "                print(sum_loss_str)\n",
    "\n",
    "                if sum_loss < best_loss:\n",
    "                    # Save model\n",
    "                    torch.save(model.state_dict(), f\"./model.{dtstamp}.{epoch}.ph\")\n",
    "                    best_loss = sum_loss\n"
   ]
  },
  {
   "cell_type": "code",
   "execution_count": 17,
   "metadata": {},
   "outputs": [
    {
     "data": {
      "text/plain": [
       "[<matplotlib.lines.Line2D at 0x7f4474060f10>]"
      ]
     },
     "execution_count": 17,
     "metadata": {},
     "output_type": "execute_result"
    },
    {
     "data": {
      "image/png": "[encoded data removed]",
      "text/plain": [
       "<Figure size 432x288 with 1 Axes>"
      ]
     },
     "metadata": {
      "needs_background": "light"
     },
     "output_type": "display_data"
    }
   ],
   "source": [
    "plt.plot(*zip(*wer_validation))"
   ]
  },
  {
   "cell_type": "code",
   "execution_count": 18,
   "metadata": {},
   "outputs": [
    {
     "data": {
      "text/plain": [
       "<matplotlib.legend.Legend at 0x7f443c0b8650>"
      ]
     },
     "execution_count": 18,
     "metadata": {},
     "output_type": "execute_result"
    },
    {
     "data": {
      "image/png": "[encoded data removed]",
      "text/plain": [
       "<Figure size 432x288 with 1 Axes>"
      ]
     },
     "metadata": {
      "needs_background": "light"
     },
     "output_type": "display_data"
    }
   ],
   "source": [
    "plt.plot(*zip(*sum_loss_training), label=\"training\")\n",
    "plt.plot(*zip(*sum_loss_validation), label=\"validation\")\n",
    "\n",
    "plt.legend()"
   ]
  },
  {
   "cell_type": "code",
   "execution_count": 19,
   "metadata": {},
   "outputs": [
    {
     "data": {
      "text/plain": [
       "<matplotlib.legend.Legend at 0x7f443c062910>"
      ]
     },
     "execution_count": 19,
     "metadata": {},
     "output_type": "execute_result"
    },
    {
     "data": {
      "image/png": "[encoded data removed]",
      "text/plain": [
       "<Figure size 432x288 with 1 Axes>"
      ]
     },
     "metadata": {
      "needs_background": "light"
     },
     "output_type": "display_data"
    }
   ],
   "source": [
    "sum_loss_training = [(a, math.log(b)) for (a,b) in sum_loss_training]\n",
    "sum_loss_validation = [(a, math.log(b)) for (a,b) in sum_loss_validation]\n",
    "\n",
    "plt.plot(*zip(*sum_loss_training), label=\"training\")\n",
    "plt.plot(*zip(*sum_loss_validation), label=\"validation\")\n",
    "\n",
    "plt.legend()"
   ]
  },
  {
   "cell_type": "code",
   "execution_count": 20,
   "metadata": {},
   "outputs": [],
   "source": [
    "# print(torch.cuda.memory_summary())"
   ]
  },
  {
   "cell_type": "code",
   "execution_count": 21,
   "metadata": {},
   "outputs": [
    {
     "name": "stdout",
     "output_type": "stream",
     "text": [
      "         279921875 function calls (270836030 primitive calls) in 25595.316 seconds\n",
      "\n",
      "   Ordered by: cumulative time\n",
      "   List reduced from 2677 to 20 due to restriction <20>\n",
      "\n",
      "   ncalls  tottime  percall  cumtime  percall filename:lineno(function)\n",
      "        7    0.000    0.000 25595.313 3656.473 base_events.py:1686(_run_once)\n",
      "      115    0.000    0.000 25595.313  222.568 events.py:86(_run)\n",
      "      115    0.000    0.000 25595.312  222.568 {method 'run' of 'Context' objects}\n",
      "       88    0.000    0.000 25595.312  290.856 ioloop.py:735(_run_callback)\n",
      "     63/7    0.001    0.000 25595.312 3656.473 gen.py:716(run)\n",
      "   100/27    0.000    0.000 25595.312  947.975 {method 'send' of 'generator' objects}\n",
      "        5    0.000    0.000 25595.309 5119.062 ioloop.py:690(<lambda>)\n",
      "        5    0.000    0.000 25595.309 5119.062 gen.py:784(inner)\n",
      "    80/22    0.001    0.000 25595.308 1163.423 gen.py:184(wrapper)\n",
      "       60    0.000    0.000 25595.306  426.588 kernelbase.py:347(process_one)\n",
      "       40    0.001    0.000 25595.306  639.883 kernelbase.py:225(dispatch_shell)\n",
      "105356/60    0.098    0.000 25595.288  426.588 {built-in method builtins.next}\n",
      "       40    0.001    0.000 25595.274  639.882 kernelbase.py:512(execute_request)\n",
      "    60/26    0.000    0.000 25595.267  984.433 gen.py:700(__init__)\n",
      "       20    0.000    0.000 25595.261 1279.763 kernelbase.py:363(dispatch_queue)\n",
      "       20    0.000    0.000 25595.235 1279.762 ipkernel.py:262(do_execute)\n",
      "       20    0.000    0.000 25595.182 1279.759 zmqshell.py:534(run_cell)\n",
      "       20    0.000    0.000 25595.182 1279.759 interactiveshell.py:2831(run_cell)\n",
      "       20    0.000    0.000 25594.514 1279.726 interactiveshell.py:2865(_run_cell)\n",
      "       20    0.000    0.000 25594.467 1279.723 async_helpers.py:58(_pseudo_sync_runner)\n",
      "\n",
      "\n",
      "\n"
     ]
    }
   ],
   "source": [
    "# Save model\n",
    "torch.save(model.state_dict(), f\"./model.{dtstamp}.{epoch}.ph\")\n",
    "\n",
    "# Print performance\n",
    "pr.disable()\n",
    "s = StringIO()\n",
    "ps = pstats.Stats(pr, stream=s).strip_dirs().sort_stats(\"cumtime\").print_stats(20)\n",
    "print(s.getvalue())"
   ]
  }
 ],
 "metadata": {
  "kernelspec": {
   "display_name": "Python 3",
   "language": "python",
   "name": "python3"
  },
  "language_info": {
   "codemirror_mode": {
    "name": "ipython",
    "version": 3
   },
   "file_extension": ".py",
   "mimetype": "text/x-python",
   "name": "python",
   "nbconvert_exporter": "python",
   "pygments_lexer": "ipython3",
   "version": "3.7.6"
  }
 },
 "nbformat": 4,
 "nbformat_minor": 4
}
