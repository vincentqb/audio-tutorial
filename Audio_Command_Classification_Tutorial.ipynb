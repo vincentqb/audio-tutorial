{
  "nbformat": 4,
  "nbformat_minor": 0,
  "metadata": {
    "colab": {
      "name": "Audio Command Classification Tutorial",
      "provenance": [],
      "collapsed_sections": [],
      "include_colab_link": true
    },
    "kernelspec": {
      "name": "python3",
      "display_name": "Python 3"
    },
    "widgets": {
      "application/vnd.jupyter.widget-state+json": {
        "e21f9d8dd053433e815f6308d530f11e": {
          "model_module": "@jupyter-widgets/controls",
          "model_name": "HBoxModel",
          "state": {
            "_view_name": "HBoxView",
            "_dom_classes": [],
            "_model_name": "HBoxModel",
            "_view_module": "@jupyter-widgets/controls",
            "_model_module_version": "1.5.0",
            "_view_count": null,
            "_view_module_version": "1.5.0",
            "box_style": "",
            "layout": "IPY_MODEL_096c17e006814c91861f9d7887a809b7",
            "_model_module": "@jupyter-widgets/controls",
            "children": [
              "IPY_MODEL_ee793533a1434e949cee4cc7add9d1c4",
              "IPY_MODEL_04083d8dea0946d89fc07797286f3c97"
            ]
          }
        },
        "096c17e006814c91861f9d7887a809b7": {
          "model_module": "@jupyter-widgets/base",
          "model_name": "LayoutModel",
          "state": {
            "_view_name": "LayoutView",
            "grid_template_rows": null,
            "right": null,
            "justify_content": null,
            "_view_module": "@jupyter-widgets/base",
            "overflow": null,
            "_model_module_version": "1.2.0",
            "_view_count": null,
            "flex_flow": null,
            "width": null,
            "min_width": null,
            "border": null,
            "align_items": null,
            "bottom": null,
            "_model_module": "@jupyter-widgets/base",
            "top": null,
            "grid_column": null,
            "overflow_y": null,
            "overflow_x": null,
            "grid_auto_flow": null,
            "grid_area": null,
            "grid_template_columns": null,
            "flex": null,
            "_model_name": "LayoutModel",
            "justify_items": null,
            "grid_row": null,
            "max_height": null,
            "align_content": null,
            "visibility": null,
            "align_self": null,
            "height": null,
            "min_height": null,
            "padding": null,
            "grid_auto_rows": null,
            "grid_gap": null,
            "max_width": null,
            "order": null,
            "_view_module_version": "1.2.0",
            "grid_template_areas": null,
            "object_position": null,
            "object_fit": null,
            "grid_auto_columns": null,
            "margin": null,
            "display": null,
            "left": null
          }
        },
        "ee793533a1434e949cee4cc7add9d1c4": {
          "model_module": "@jupyter-widgets/controls",
          "model_name": "FloatProgressModel",
          "state": {
            "_view_name": "ProgressView",
            "style": "IPY_MODEL_f3daf4dd4f214a0c85bbe07dca2cdd70",
            "_dom_classes": [],
            "description": " 34%",
            "_model_name": "FloatProgressModel",
            "bar_style": "",
            "max": 1498,
            "_view_module": "@jupyter-widgets/controls",
            "_model_module_version": "1.5.0",
            "value": 514,
            "_view_count": null,
            "_view_module_version": "1.5.0",
            "orientation": "horizontal",
            "min": 0,
            "description_tooltip": null,
            "_model_module": "@jupyter-widgets/controls",
            "layout": "IPY_MODEL_e033f466f96f4ff9b7909174cd8ced11"
          }
        },
        "04083d8dea0946d89fc07797286f3c97": {
          "model_module": "@jupyter-widgets/controls",
          "model_name": "HTMLModel",
          "state": {
            "_view_name": "HTMLView",
            "style": "IPY_MODEL_d3a3b13ad1c1453c9bc42668eee7a5a6",
            "_dom_classes": [],
            "description": "",
            "_model_name": "HTMLModel",
            "placeholder": "​",
            "_view_module": "@jupyter-widgets/controls",
            "_model_module_version": "1.5.0",
            "value": " 514/1498 [19:30&lt;37:41,  2.30s/it]",
            "_view_count": null,
            "_view_module_version": "1.5.0",
            "description_tooltip": null,
            "_model_module": "@jupyter-widgets/controls",
            "layout": "IPY_MODEL_772738832cc147ae9681429f9790a3d5"
          }
        },
        "f3daf4dd4f214a0c85bbe07dca2cdd70": {
          "model_module": "@jupyter-widgets/controls",
          "model_name": "ProgressStyleModel",
          "state": {
            "_view_name": "StyleView",
            "_model_name": "ProgressStyleModel",
            "description_width": "initial",
            "_view_module": "@jupyter-widgets/base",
            "_model_module_version": "1.5.0",
            "_view_count": null,
            "_view_module_version": "1.2.0",
            "bar_color": null,
            "_model_module": "@jupyter-widgets/controls"
          }
        },
        "e033f466f96f4ff9b7909174cd8ced11": {
          "model_module": "@jupyter-widgets/base",
          "model_name": "LayoutModel",
          "state": {
            "_view_name": "LayoutView",
            "grid_template_rows": null,
            "right": null,
            "justify_content": null,
            "_view_module": "@jupyter-widgets/base",
            "overflow": null,
            "_model_module_version": "1.2.0",
            "_view_count": null,
            "flex_flow": null,
            "width": null,
            "min_width": null,
            "border": null,
            "align_items": null,
            "bottom": null,
            "_model_module": "@jupyter-widgets/base",
            "top": null,
            "grid_column": null,
            "overflow_y": null,
            "overflow_x": null,
            "grid_auto_flow": null,
            "grid_area": null,
            "grid_template_columns": null,
            "flex": null,
            "_model_name": "LayoutModel",
            "justify_items": null,
            "grid_row": null,
            "max_height": null,
            "align_content": null,
            "visibility": null,
            "align_self": null,
            "height": null,
            "min_height": null,
            "padding": null,
            "grid_auto_rows": null,
            "grid_gap": null,
            "max_width": null,
            "order": null,
            "_view_module_version": "1.2.0",
            "grid_template_areas": null,
            "object_position": null,
            "object_fit": null,
            "grid_auto_columns": null,
            "margin": null,
            "display": null,
            "left": null
          }
        },
        "d3a3b13ad1c1453c9bc42668eee7a5a6": {
          "model_module": "@jupyter-widgets/controls",
          "model_name": "DescriptionStyleModel",
          "state": {
            "_view_name": "StyleView",
            "_model_name": "DescriptionStyleModel",
            "description_width": "",
            "_view_module": "@jupyter-widgets/base",
            "_model_module_version": "1.5.0",
            "_view_count": null,
            "_view_module_version": "1.2.0",
            "_model_module": "@jupyter-widgets/controls"
          }
        },
        "772738832cc147ae9681429f9790a3d5": {
          "model_module": "@jupyter-widgets/base",
          "model_name": "LayoutModel",
          "state": {
            "_view_name": "LayoutView",
            "grid_template_rows": null,
            "right": null,
            "justify_content": null,
            "_view_module": "@jupyter-widgets/base",
            "overflow": null,
            "_model_module_version": "1.2.0",
            "_view_count": null,
            "flex_flow": null,
            "width": null,
            "min_width": null,
            "border": null,
            "align_items": null,
            "bottom": null,
            "_model_module": "@jupyter-widgets/base",
            "top": null,
            "grid_column": null,
            "overflow_y": null,
            "overflow_x": null,
            "grid_auto_flow": null,
            "grid_area": null,
            "grid_template_columns": null,
            "flex": null,
            "_model_name": "LayoutModel",
            "justify_items": null,
            "grid_row": null,
            "max_height": null,
            "align_content": null,
            "visibility": null,
            "align_self": null,
            "height": null,
            "min_height": null,
            "padding": null,
            "grid_auto_rows": null,
            "grid_gap": null,
            "max_width": null,
            "order": null,
            "_view_module_version": "1.2.0",
            "grid_template_areas": null,
            "object_position": null,
            "object_fit": null,
            "grid_auto_columns": null,
            "margin": null,
            "display": null,
            "left": null
          }
        }
      }
    }
  },
  "cells": [
    {
      "cell_type": "markdown",
      "metadata": {
        "id": "view-in-github",
        "colab_type": "text"
      },
      "source": [
        "<a href=\"https://colab.research.google.com/github/vincentqb/audio-tutorial/blob/master/Audio_Command_Classification_Tutorial.ipynb\" target=\"_parent\"><img src=\"https://colab.research.google.com/assets/colab-badge.svg\" alt=\"Open In Colab\"/></a>"
      ]
    },
    {
      "cell_type": "code",
      "metadata": {
        "id": "aSUpSz5Plzpy",
        "outputId": "e2ba7e53-902e-49ba-8fdc-d84b54599c7a",
        "colab": {
          "base_uri": "https://localhost:8080/",
          "height": 68
        }
      },
      "source": [
        "!pip install torch\n"
      ],
      "execution_count": 1,
      "outputs": [
        {
          "output_type": "stream",
          "text": [
            "Requirement already satisfied: torch in /usr/local/lib/python3.6/dist-packages (1.6.0+cu101)\n",
            "Requirement already satisfied: future in /usr/local/lib/python3.6/dist-packages (from torch) (0.16.0)\n",
            "Requirement already satisfied: numpy in /usr/local/lib/python3.6/dist-packages (from torch) (1.18.5)\n"
          ],
          "name": "stdout"
        }
      ]
    },
    {
      "cell_type": "code",
      "metadata": {
        "id": "zjD2CWFblqN9",
        "outputId": "3022b2c4-9a81-4f36-fbfe-4a242fe2962b",
        "colab": {
          "base_uri": "https://localhost:8080/",
          "height": 85
        }
      },
      "source": [
        "!pip install torchaudio"
      ],
      "execution_count": 2,
      "outputs": [
        {
          "output_type": "stream",
          "text": [
            "Requirement already satisfied: torchaudio in /usr/local/lib/python3.6/dist-packages (0.6.0)\n",
            "Requirement already satisfied: torch==1.6.0 in /usr/local/lib/python3.6/dist-packages (from torchaudio) (1.6.0+cu101)\n",
            "Requirement already satisfied: future in /usr/local/lib/python3.6/dist-packages (from torch==1.6.0->torchaudio) (0.16.0)\n",
            "Requirement already satisfied: numpy in /usr/local/lib/python3.6/dist-packages (from torch==1.6.0->torchaudio) (1.18.5)\n"
          ],
          "name": "stdout"
        }
      ]
    },
    {
      "cell_type": "markdown",
      "metadata": {
        "id": "PLNwD_n0MTXc"
      },
      "source": [
        "Audio Command Classifier with torchaudio\n",
        "========================================\n",
        "\n",
        "This tutorial will show you how to correctly format an audio dataset and\n",
        "then train/test an audio classifier network on the dataset. First, let’s\n",
        "import the common torch packages such as `torchaudio <https://github.com/pytorch/audio>`_\n",
        "and can be installed by following the\n",
        "instructions on the website."
      ]
    },
    {
      "cell_type": "code",
      "metadata": {
        "id": "4kUilLcmlpbC"
      },
      "source": [
        "import torch\n",
        "import torch.nn as nn\n",
        "import torch.nn.functional as F\n",
        "import torch.optim as optim\n",
        "from torchvision import datasets, transforms\n",
        "from torch.utils.data import Dataset\n",
        "import torchaudio\n",
        "import pandas as pd\n",
        "import numpy as np\n",
        "from tqdm.notebook import tqdm\n",
        "import matplotlib.pyplot as plt\n",
        "import IPython.display as ipd"
      ],
      "execution_count": 3,
      "outputs": []
    },
    {
      "cell_type": "markdown",
      "metadata": {
        "id": "78drcP7fNP67"
      },
      "source": [
        "Let’s check if a CUDA GPU is available and select our device. Running the network on a GPU will greatly decrease the training/testing runtime."
      ]
    },
    {
      "cell_type": "code",
      "metadata": {
        "id": "NsCX6-kWl30u",
        "outputId": "57576ea0-e554-461f-c051-ee682a7da2ef",
        "colab": {
          "base_uri": "https://localhost:8080/",
          "height": 34
        }
      },
      "source": [
        "device = torch.device(\"cuda\" if torch.cuda.is_available() else \"cpu\")\n",
        "print(device)"
      ],
      "execution_count": 4,
      "outputs": [
        {
          "output_type": "stream",
          "text": [
            "cpu\n"
          ],
          "name": "stdout"
        }
      ]
    },
    {
      "cell_type": "markdown",
      "metadata": {
        "id": "y6GAvgD-MlU7"
      },
      "source": [
        "Importing the Dataset\n",
        "---------------------\n",
        "\n",
        "We use torchaudio to download and represent the dataset. Here we use SpeechCommands, which is a datasets of 35 commands spoken by different people. The dataset ``SPEECHCOMMANDS`` is a ``torch.utils.data.Dataset`` version of the dataset.\n",
        "\n",
        "The actual loading and formatting steps happen in the access function ``__getitem__``. In ``__getitem__``, we use ``torchaudio.load()`` to convert the audio files to tensors. ``torchaudio.load()`` returns a tuple containing the\n",
        "newly created tensor along with the sampling frequency of the audio file\n",
        "(16kHz for SpeechCommands). In this dataset, all audio files are about 1 second long (and so about 16000 time frames long).\n",
        "\n",
        "Here we wrap it to split it into standard training, validation, testing subsets."
      ]
    },
    {
      "cell_type": "code",
      "metadata": {
        "id": "aGauAPh_l9AU"
      },
      "source": [
        "from torchaudio.datasets import SPEECHCOMMANDS\n",
        "import os\n",
        "\n",
        "\n",
        "class SubsetSC(SPEECHCOMMANDS):\n",
        "    def __init__(self, subset: str = None):\n",
        "        super().__init__(\"./\", download=True)\n",
        "        \n",
        "        if subset in [\"training\", \"validation\"]:\n",
        "            filepath = os.path.join(self._path, \"validation_list.txt\")\n",
        "            with open(filepath) as f:\n",
        "                validation_list = [os.path.join(self._path, l.strip()) for l in f.readlines()]\n",
        "\n",
        "        if subset in [\"training\", \"testing\"]:\n",
        "            filepath = os.path.join(self._path, \"testing_list.txt\")\n",
        "            with open(filepath) as f:\n",
        "                testing_list = [os.path.join(self._path, l.strip()) for l in f.readlines()]\n",
        "\n",
        "        if subset == \"validation\":\n",
        "            walker = validation_list\n",
        "        elif subset == \"testing\":\n",
        "            walker = testing_list\n",
        "        elif subset in [\"training\", None]:\n",
        "            walker = self._walker  # defined by SPEECHCOMMANDS parent class\n",
        "        else:\n",
        "            raise ValueError(\"When `subset` not None, it must take a value from {'training', 'validation', 'testing'}.\")\n",
        "\n",
        "        if subset == \"training\":\n",
        "            walker = filter(\n",
        "                lambda w: not (w in validation_list or w in testing_list), walker\n",
        "            )\n",
        "\n",
        "        self._walker = list(walker)\n",
        "\n",
        "train_set = SubsetSC(\"training\")\n",
        "# valid_set = SubsetSC(\"validation\")\n",
        "test_set = SubsetSC(\"testing\")\n",
        "  \n",
        "  \n",
        "waveform, sample_rate, label, speaker_id, utterance_number = train_set[0]"
      ],
      "execution_count": 5,
      "outputs": []
    },
    {
      "cell_type": "markdown",
      "metadata": {
        "id": "U04J-zxQYZm8"
      },
      "source": [
        "A data point in the SPEECHCOMMANDS dataset is a tuple made of a waveform (the audio signal), the sample rate, the utterance (label), the ID of the speaker, the number of the utterance."
      ]
    },
    {
      "cell_type": "code",
      "metadata": {
        "id": "96K3NP3hYafM",
        "outputId": "302e718e-111d-49ac-eb50-19a71a895770",
        "colab": {
          "base_uri": "https://localhost:8080/",
          "height": 299
        }
      },
      "source": [
        "print(\"Shape of waveform: {}\".format(waveform.size()))\n",
        "print(\"Sample rate of waveform: {}\".format(sample_rate))\n",
        "\n",
        "plt.figure();\n",
        "plt.plot(waveform.t().numpy());"
      ],
      "execution_count": 6,
      "outputs": [
        {
          "output_type": "stream",
          "text": [
            "Shape of waveform: torch.Size([1, 16000])\n",
            "Sample rate of waveform: 16000\n"
          ],
          "name": "stdout"
        },
        {
          "output_type": "display_data",
          "data": {
            "image/png": "[encoded data removed]",
            "text/plain": [
              "<Figure size 432x288 with 1 Axes>"
            ]
          },
          "metadata": {
            "tags": [],
            "needs_background": "light"
          }
        }
      ]
    },
    {
      "cell_type": "markdown",
      "metadata": {
        "id": "QPtaHFzgYw42"
      },
      "source": [
        "Let's find the list of labels available in the dataset."
      ]
    },
    {
      "cell_type": "code",
      "metadata": {
        "id": "-EkIB_8rmXRI",
        "outputId": "4db7cd07-7347-44b4-e5d6-2299338d07ea",
        "colab": {
          "base_uri": "https://localhost:8080/",
          "height": 612
        }
      },
      "source": [
        "labels = list(set(datapoint[2] for datapoint in train_set))\n",
        "labels"
      ],
      "execution_count": 7,
      "outputs": [
        {
          "output_type": "execute_result",
          "data": {
            "text/plain": [
              "['off',\n",
              " 'right',\n",
              " 'backward',\n",
              " 'two',\n",
              " 'three',\n",
              " 'wow',\n",
              " 'stop',\n",
              " 'on',\n",
              " 'bird',\n",
              " 'sheila',\n",
              " 'happy',\n",
              " 'forward',\n",
              " 'six',\n",
              " 'seven',\n",
              " 'bed',\n",
              " 'nine',\n",
              " 'zero',\n",
              " 'four',\n",
              " 'marvin',\n",
              " 'five',\n",
              " 'cat',\n",
              " 'follow',\n",
              " 'yes',\n",
              " 'up',\n",
              " 'dog',\n",
              " 'eight',\n",
              " 'visual',\n",
              " 'go',\n",
              " 'no',\n",
              " 'house',\n",
              " 'tree',\n",
              " 'left',\n",
              " 'one',\n",
              " 'learn',\n",
              " 'down']"
            ]
          },
          "metadata": {
            "tags": []
          },
          "execution_count": 7
        }
      ]
    },
    {
      "cell_type": "markdown",
      "metadata": {
        "id": "yX6-imv2RorF"
      },
      "source": [
        "The 35 audio classes are commands that are said by users. The first few files are people saying \"marvin\".\n"
      ]
    },
    {
      "cell_type": "code",
      "metadata": {
        "id": "iwEpUB1QRoSq",
        "outputId": "174f318a-215a-4769-88c9-17de23ad1a75",
        "colab": {
          "base_uri": "https://localhost:8080/",
          "height": 75
        }
      },
      "source": [
        "waveform_first = train_set[0][0]\n",
        "ipd.Audio(waveform_first.numpy(), rate=sample_rate)"
      ],
      "execution_count": 8,
      "outputs": [
        {
          "output_type": "execute_result",
          "data": {
            "text/html": [
              "\n",
              "                <audio controls=\"controls\" >\n",
              "                    <source src=\"data:audio/wav;base64,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\" type=\"audio/wav\" />\n",
              "                    Your browser does not support the audio element.\n",
              "                </audio>\n",
              "              "
            ],
            "text/plain": [
              "<IPython.lib.display.Audio object>"
            ]
          },
          "metadata": {
            "tags": []
          },
          "execution_count": 8
        }
      ]
    },
    {
      "cell_type": "code",
      "metadata": {
        "id": "rwQ9MaxdSQHY",
        "outputId": "2d84fce3-949f-4c63-9c96-9f15f22195f0",
        "colab": {
          "base_uri": "https://localhost:8080/",
          "height": 75
        }
      },
      "source": [
        "waveform_second = train_set[0][0]\n",
        "ipd.Audio(waveform_second.numpy(), rate=sample_rate)"
      ],
      "execution_count": 9,
      "outputs": [
        {
          "output_type": "execute_result",
          "data": {
            "text/html": [
              "\n",
              "                <audio controls=\"controls\" >\n",
              "                    <source src=\"data:audio/wav;base64,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\" type=\"audio/wav\" />\n",
              "                    Your browser does not support the audio element.\n",
              "                </audio>\n",
              "              "
            ],
            "text/plain": [
              "<IPython.lib.display.Audio object>"
            ]
          },
          "metadata": {
            "tags": []
          },
          "execution_count": 9
        }
      ]
    },
    {
      "cell_type": "markdown",
      "metadata": {
        "id": "ElPc57rUXe0j"
      },
      "source": [
        "The last file is someone saying \"visual\"."
      ]
    },
    {
      "cell_type": "code",
      "metadata": {
        "id": "50Nutjd3XSiA",
        "outputId": "9158de20-d22c-4387-830c-13ce27a36944",
        "colab": {
          "base_uri": "https://localhost:8080/",
          "height": 75
        }
      },
      "source": [
        "waveform_last = train_set[-1][0]\n",
        "ipd.Audio(waveform_last.numpy(), rate=sample_rate)"
      ],
      "execution_count": 10,
      "outputs": [
        {
          "output_type": "execute_result",
          "data": {
            "text/html": [
              "\n",
              "                <audio controls=\"controls\" >\n",
              "                    <source src=\"data:audio/wav;base64,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\" type=\"audio/wav\" />\n",
              "                    Your browser does not support the audio element.\n",
              "                </audio>\n",
              "              "
            ],
            "text/plain": [
              "<IPython.lib.display.Audio object>"
            ]
          },
          "metadata": {
            "tags": []
          },
          "execution_count": 10
        }
      ]
    },
    {
      "cell_type": "markdown",
      "metadata": {
        "id": "R8Sa67zgOGSR"
      },
      "source": [
        "Formatting the Data\n",
        "-------------------\n",
        "\n",
        "The dataset uses a single channel for audio. We do not need to down mix the audio channels (which we could do for instance by either taking the mean along the channel dimension, or simply keeping only one of the channels)."
      ]
    },
    {
      "cell_type": "markdown",
      "metadata": {
        "id": "8RwSAVTqPy9Y"
      },
      "source": [
        "We downsample the audio for faster processing without losing too much of the classification power.\n",
        "\n"
      ]
    },
    {
      "cell_type": "code",
      "metadata": {
        "id": "bPIgOTcgPqMJ",
        "outputId": "60a9784a-adfa-4685-a10a-06c89808a6e2",
        "colab": {
          "base_uri": "https://localhost:8080/",
          "height": 75
        }
      },
      "source": [
        "new_sample_rate = 8000\n",
        "transform = torchaudio.transforms.Resample(orig_freq=sample_rate, new_freq=new_sample_rate)\n",
        "transformed = transform(waveform)\n",
        "\n",
        "ipd.Audio(transformed.numpy(), rate=new_sample_rate)"
      ],
      "execution_count": 11,
      "outputs": [
        {
          "output_type": "execute_result",
          "data": {
            "text/html": [
              "\n",
              "                <audio controls=\"controls\" >\n",
              "                    <source src=\"data:audio/wav;base64,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\" type=\"audio/wav\" />\n",
              "                    Your browser does not support the audio element.\n",
              "                </audio>\n",
              "              "
            ],
            "text/plain": [
              "<IPython.lib.display.Audio object>"
            ]
          },
          "metadata": {
            "tags": []
          },
          "execution_count": 11
        }
      ]
    },
    {
      "cell_type": "markdown",
      "metadata": {
        "id": "ufJ0flvYM_AL"
      },
      "source": [
        "To encode each word, we simply return the position of the command in the list above."
      ]
    },
    {
      "cell_type": "code",
      "metadata": {
        "id": "Xn57Thq-m3WZ",
        "outputId": "90b8331a-751a-4637-e4ae-0ef34b70c5b6",
        "colab": {
          "base_uri": "https://localhost:8080/",
          "height": 34
        }
      },
      "source": [
        "def encode(word):\n",
        "  return torch.tensor(labels.index(word))\n",
        "\n",
        "encode(\"yes\")"
      ],
      "execution_count": 12,
      "outputs": [
        {
          "output_type": "execute_result",
          "data": {
            "text/plain": [
              "tensor(22)"
            ]
          },
          "metadata": {
            "tags": []
          },
          "execution_count": 12
        }
      ]
    },
    {
      "cell_type": "markdown",
      "metadata": {
        "id": "MBTyNxiZT5al"
      },
      "source": [
        "We now define a collate function that assembles a list of audio recordings and a list of utterances into two batched tensors. In this function, we also apply the resampling, and the encoding. The collate function is used in the pytroch data loader that allow us to iterate over a dataset by batches."
      ]
    },
    {
      "cell_type": "code",
      "metadata": {
        "id": "FG3iNgrOo15s"
      },
      "source": [
        "def pad_sequence(batch):\n",
        "    # Make all tensor in a batch the same length by padding with zeros\n",
        "    batch = [item.t() for item in batch]\n",
        "    batch = torch.nn.utils.rnn.pad_sequence(batch, batch_first=True, padding_value=0.)\n",
        "    return batch.permute(0, 2, 1)\n",
        "\n",
        "\n",
        "def collate_fn(batch):\n",
        "\n",
        "    # A data tuple has the form:\n",
        "    # waveform, sample_rate, label, speaker_id, utterance_number\n",
        "    # and so we are only interested in item 0 and 2\n",
        "\n",
        "    # Apply transforms to waveforms\n",
        "    tensors = [transform(b[0]) for b in batch]\n",
        "    tensors = pad_sequence(tensors)\n",
        "        \n",
        "    # Apply transform to target utterance\n",
        "    targets = [encode(b[2]) for b in batch]\n",
        "    targets = torch.stack(targets)\n",
        "        \n",
        "    return tensors, targets"
      ],
      "execution_count": 13,
      "outputs": []
    },
    {
      "cell_type": "code",
      "metadata": {
        "id": "LUfrJGKzno1d"
      },
      "source": [
        "kwargs = {'num_workers': 1, 'pin_memory': True} if device == 'cuda' else {} #needed for using datasets on gpu\n",
        "\n",
        "train_loader = torch.utils.data.DataLoader(train_set, batch_size = 128, shuffle = True, collate_fn=collate_fn, **kwargs)\n",
        "test_loader = torch.utils.data.DataLoader(test_set, batch_size = 128, shuffle = False, collate_fn=collate_fn, **kwargs)"
      ],
      "execution_count": 14,
      "outputs": []
    },
    {
      "cell_type": "markdown",
      "metadata": {
        "id": "sewENy7VPDts"
      },
      "source": [
        "Define the Network\n",
        "------------------\n",
        "\n",
        "For this tutorial we will use a convolutional neural network to process\n",
        "the raw audio data. Usually more advanced transforms are applied to the\n",
        "audio data, however CNNs can be used to accurately process the raw data.\n",
        "The specific architecture is modeled after the M5 network architecture\n",
        "described in https://arxiv.org/pdf/1610.00087.pdf. An important aspect\n",
        "of models processing raw audio data is the receptive field of their\n",
        "first layer’s filters. Our model’s first filter is length 80 so when\n",
        "processing audio sampled at 8kHz the receptive field is around 10ms.\n",
        "This size is similar to speech processing applications that often use\n",
        "receptive fields ranging from 20ms to 40ms.\n",
        "\n",
        "\n"
      ]
    },
    {
      "cell_type": "code",
      "metadata": {
        "id": "4ZAtnHzDn2zj",
        "outputId": "e8e55ef5-72c6-4e21-d33c-cc5161772381",
        "colab": {
          "base_uri": "https://localhost:8080/",
          "height": 272
        }
      },
      "source": [
        "class Net(nn.Module):\n",
        "    def __init__(self, n_output=10):\n",
        "        super(Net, self).__init__()\n",
        "        self.conv1 = nn.Conv1d(1, 128, 80, 4)\n",
        "        self.bn1 = nn.BatchNorm1d(128)\n",
        "        self.pool1 = nn.MaxPool1d(4)\n",
        "        self.conv2 = nn.Conv1d(128, 128, 3)\n",
        "        self.bn2 = nn.BatchNorm1d(128)\n",
        "        self.pool2 = nn.MaxPool1d(4)\n",
        "        self.conv3 = nn.Conv1d(128, 256, 3)\n",
        "        self.bn3 = nn.BatchNorm1d(256)\n",
        "        self.pool3 = nn.MaxPool1d(4)\n",
        "        self.conv4 = nn.Conv1d(256, 512, 3)\n",
        "        self.bn4 = nn.BatchNorm1d(512)\n",
        "        self.pool4 = nn.MaxPool1d(4)\n",
        "        self.fc1 = nn.Linear(512, n_output)\n",
        "\n",
        "    def forward(self, x):\n",
        "        x = self.conv1(x)\n",
        "        x = F.relu(self.bn1(x))\n",
        "        x = self.pool1(x)\n",
        "        x = self.conv2(x)\n",
        "        x = F.relu(self.bn2(x))\n",
        "        x = self.pool2(x)\n",
        "        x = self.conv3(x)\n",
        "        x = F.relu(self.bn3(x))\n",
        "        x = self.pool3(x)\n",
        "        x = self.conv4(x)\n",
        "        x = F.relu(self.bn4(x))\n",
        "        x = self.pool4(x)\n",
        "        x = F.avg_pool1d(x, x.shape[-1])  # input should be 512x14 so this outputs a 512x1\n",
        "        x = x.permute(0, 2, 1)  # change the 512x1 to 1x512\n",
        "        x = self.fc1(x)\n",
        "        return F.log_softmax(x, dim = 2)\n",
        "\n",
        "model = Net(n_output=len(labels))\n",
        "model.to(device)\n",
        "print(model)"
      ],
      "execution_count": 15,
      "outputs": [
        {
          "output_type": "stream",
          "text": [
            "Net(\n",
            "  (conv1): Conv1d(1, 128, kernel_size=(80,), stride=(4,))\n",
            "  (bn1): BatchNorm1d(128, eps=1e-05, momentum=0.1, affine=True, track_running_stats=True)\n",
            "  (pool1): MaxPool1d(kernel_size=4, stride=4, padding=0, dilation=1, ceil_mode=False)\n",
            "  (conv2): Conv1d(128, 128, kernel_size=(3,), stride=(1,))\n",
            "  (bn2): BatchNorm1d(128, eps=1e-05, momentum=0.1, affine=True, track_running_stats=True)\n",
            "  (pool2): MaxPool1d(kernel_size=4, stride=4, padding=0, dilation=1, ceil_mode=False)\n",
            "  (conv3): Conv1d(128, 256, kernel_size=(3,), stride=(1,))\n",
            "  (bn3): BatchNorm1d(256, eps=1e-05, momentum=0.1, affine=True, track_running_stats=True)\n",
            "  (pool3): MaxPool1d(kernel_size=4, stride=4, padding=0, dilation=1, ceil_mode=False)\n",
            "  (conv4): Conv1d(256, 512, kernel_size=(3,), stride=(1,))\n",
            "  (bn4): BatchNorm1d(512, eps=1e-05, momentum=0.1, affine=True, track_running_stats=True)\n",
            "  (pool4): MaxPool1d(kernel_size=4, stride=4, padding=0, dilation=1, ceil_mode=False)\n",
            "  (fc1): Linear(in_features=512, out_features=35, bias=True)\n",
            ")\n"
          ],
          "name": "stdout"
        }
      ]
    },
    {
      "cell_type": "code",
      "metadata": {
        "id": "0wK2ug4Wytrd",
        "outputId": "d752855c-ee97-485b-c681-728a1ba28c79",
        "colab": {
          "base_uri": "https://localhost:8080/",
          "height": 34
        }
      },
      "source": [
        "def count_parameters(model):\n",
        "    return sum(p.numel() for p in model.parameters() if p.requires_grad)\n",
        "\n",
        "n = count_parameters(model)\n",
        "print(\"Number of parameters: %s\" % n)"
      ],
      "execution_count": 16,
      "outputs": [
        {
          "output_type": "stream",
          "text": [
            "Number of parameters: 571939\n"
          ],
          "name": "stdout"
        }
      ]
    },
    {
      "cell_type": "markdown",
      "metadata": {
        "id": "WKeubGQzWAmD"
      },
      "source": [
        "We will use the same optimization technique used in the paper, an Adam\n",
        "optimizer with weight decay set to 0.0001. At first, we will train with\n",
        "a learning rate of 0.01, but we will use a ``scheduler`` to decrease it\n",
        "to 0.001 during training."
      ]
    },
    {
      "cell_type": "code",
      "metadata": {
        "id": "mlRblOTSn69S"
      },
      "source": [
        "optimizer = optim.Adam(model.parameters(), lr=0.01, weight_decay=0.0001)\n",
        "scheduler = optim.lr_scheduler.StepLR(optimizer, step_size=20, gamma=0.1)"
      ],
      "execution_count": 17,
      "outputs": []
    },
    {
      "cell_type": "markdown",
      "metadata": {
        "id": "YciHbXjzWFgI"
      },
      "source": [
        "Training and Testing the Network\n",
        "--------------------------------\n",
        "\n",
        "Now let’s define a training function that will feed our training data\n",
        "into the model and perform the backward pass and optimization steps.\n",
        "\n",
        "\n",
        "Finally, we can train and test the network. We will train the network\n",
        "for ten epochs then reduce the learn rate and train for ten more epochs.\n",
        "The network will be tested after each epoch to see how the accuracy\n",
        "varies during the training."
      ]
    },
    {
      "cell_type": "code",
      "metadata": {
        "id": "bZaySPTqn8rt"
      },
      "source": [
        "def train(model, epoch, log_interval):\n",
        "    model.train()\n",
        "    for batch_idx, (data, target) in enumerate(train_loader):\n",
        "        \n",
        "        data = data.to(device)\n",
        "        target = target.to(device)\n",
        "        \n",
        "        output = model(data)\n",
        "        output = output.permute(1, 0, 2)  # original output dimensions are batch x 1 x n_output\n",
        "        loss = F.nll_loss(output[0], target)  # the loss functions expects a batch x n_output input\n",
        "        \n",
        "        optimizer.zero_grad()\n",
        "        loss.backward()\n",
        "        optimizer.step()\n",
        "        \n",
        "        if batch_idx % log_interval == 0:  # print training stats\n",
        "            print(f'Train Epoch: {epoch} [{batch_idx * len(data)}/{len(train_loader.dataset)} ({100. * batch_idx / len(train_loader):.0f}%)]\\tLoss: {loss:.6f}')\n",
        "            \n",
        "        if 'pbar' in globals():\n",
        "            pbar.update()"
      ],
      "execution_count": 18,
      "outputs": []
    },
    {
      "cell_type": "markdown",
      "metadata": {
        "id": "6KlzLx2nWRdy"
      },
      "source": [
        " Now that we have a training function, we need to make one for testing\n",
        " the networks accuracy. We will set the model to ``eval()`` mode and then\n",
        " run inference on the test dataset. Calling ``eval()`` sets the training\n",
        " variable in all modules in the network to false. Certain layers like\n",
        " batch normalization and dropout layers behave differently during\n",
        " training so this step is crucial for getting correct results."
      ]
    },
    {
      "cell_type": "code",
      "metadata": {
        "id": "I6CwQPcrn_RR"
      },
      "source": [
        "def test(model, epoch):\n",
        "    model.eval()  \n",
        "    correct = 0\n",
        "    for data, target in test_loader:\n",
        "        data = data.to(device)\n",
        "        target = target.to(device)\n",
        "        \n",
        "        output = model(data)\n",
        "        output = output.permute(1, 0, 2)\n",
        "        pred = output.max(2)[1]  # index of the max log-probability\n",
        "        correct += pred.eq(target).cpu().sum().item()\n",
        "        if 'pbar' in globals():\n",
        "          pbar.update()\n",
        "    \n",
        "    print(f'\\nTest set: Accuracy: {correct}/{len(test_loader.dataset)} ({100. * correct / len(test_loader.dataset):.0f}%)\\n')"
      ],
      "execution_count": 19,
      "outputs": []
    },
    {
      "cell_type": "markdown",
      "metadata": {
        "id": "gSwMg0huWake"
      },
      "source": [
        " Finally, we can train and test the network. We will train the network\n",
        " for ten epochs then reduce the learn rate and train for ten more epochs.\n",
        " The network will be tested after each epoch to see how the accuracy\n",
        " varies during the training."
      ]
    },
    {
      "cell_type": "code",
      "metadata": {
        "id": "-MlCN0XXeGeY",
        "outputId": "5eef1f7f-52ce-425a-d4b4-66dc3f7c34b7",
        "colab": {
          "base_uri": "https://localhost:8080/",
          "height": 491,
          "referenced_widgets": [
            "e21f9d8dd053433e815f6308d530f11e",
            "096c17e006814c91861f9d7887a809b7",
            "ee793533a1434e949cee4cc7add9d1c4",
            "04083d8dea0946d89fc07797286f3c97",
            "f3daf4dd4f214a0c85bbe07dca2cdd70",
            "e033f466f96f4ff9b7909174cd8ced11",
            "d3a3b13ad1c1453c9bc42668eee7a5a6",
            "772738832cc147ae9681429f9790a3d5"
          ]
        }
      },
      "source": [
        "log_interval = 20\n",
        "n_epoch = 2\n",
        "\n",
        "with tqdm(total=n_epoch * (len(train_loader) + len(test_loader))) as pbar:\n",
        "    for epoch in range(1, n_epoch+1):\n",
        "        train(model, epoch, log_interval)\n",
        "        test(model, epoch)\n",
        "        scheduler.step()"
      ],
      "execution_count": null,
      "outputs": [
        {
          "output_type": "display_data",
          "data": {
            "application/vnd.jupyter.widget-view+json": {
              "model_id": "e21f9d8dd053433e815f6308d530f11e",
              "version_minor": 0,
              "version_major": 2
            },
            "text/plain": [
              "HBox(children=(FloatProgress(value=0.0, max=1498.0), HTML(value='')))"
            ]
          },
          "metadata": {
            "tags": []
          }
        },
        {
          "output_type": "stream",
          "text": [
            "Train Epoch: 1 [0/84843 (0%)]\tLoss: 3.556347\n",
            "Train Epoch: 1 [2560/84843 (3%)]\tLoss: 3.186630\n",
            "Train Epoch: 1 [5120/84843 (6%)]\tLoss: 3.030628\n",
            "Train Epoch: 1 [7680/84843 (9%)]\tLoss: 2.927871\n",
            "Train Epoch: 1 [10240/84843 (12%)]\tLoss: 2.450978\n",
            "Train Epoch: 1 [12800/84843 (15%)]\tLoss: 2.294995\n",
            "Train Epoch: 1 [15360/84843 (18%)]\tLoss: 2.242920\n",
            "Train Epoch: 1 [17920/84843 (21%)]\tLoss: 2.452632\n",
            "Train Epoch: 1 [20480/84843 (24%)]\tLoss: 2.051516\n",
            "Train Epoch: 1 [23040/84843 (27%)]\tLoss: 1.877660\n",
            "Train Epoch: 1 [25600/84843 (30%)]\tLoss: 2.133268\n",
            "Train Epoch: 1 [28160/84843 (33%)]\tLoss: 1.977037\n",
            "Train Epoch: 1 [30720/84843 (36%)]\tLoss: 1.862828\n",
            "Train Epoch: 1 [33280/84843 (39%)]\tLoss: 1.471881\n",
            "Train Epoch: 1 [35840/84843 (42%)]\tLoss: 1.659306\n",
            "Train Epoch: 1 [38400/84843 (45%)]\tLoss: 1.564600\n",
            "Train Epoch: 1 [40960/84843 (48%)]\tLoss: 1.228462\n",
            "Train Epoch: 1 [43520/84843 (51%)]\tLoss: 1.348768\n",
            "Train Epoch: 1 [46080/84843 (54%)]\tLoss: 1.377202\n",
            "Train Epoch: 1 [48640/84843 (57%)]\tLoss: 1.456595\n",
            "Train Epoch: 1 [51200/84843 (60%)]\tLoss: 1.162850\n",
            "Train Epoch: 1 [53760/84843 (63%)]\tLoss: 1.305331\n",
            "Train Epoch: 1 [56320/84843 (66%)]\tLoss: 1.159709\n",
            "Train Epoch: 1 [58880/84843 (69%)]\tLoss: 1.117762\n",
            "Train Epoch: 1 [61440/84843 (72%)]\tLoss: 0.961046\n",
            "Train Epoch: 1 [64000/84843 (75%)]\tLoss: 1.084300\n"
          ],
          "name": "stdout"
        }
      ]
    },
    {
      "cell_type": "markdown",
      "metadata": {
        "id": "-GpRjpVkWhha"
      },
      "source": [
        "Conclusion\n",
        "----------\n",
        "\n",
        "After one epoch, the network should be more than 70% accurate by.\n",
        "\n",
        "There are also other data preprocessing methods, such as finding the mel frequency cepstral coefficients (MFCC), that can reduce the size of the dataset. This transform is also available in torchaudio as ``torchaudio.transforms.MFCC``.\n",
        "\n",
        "In this tutorial, we used torchaudio to load a dataset and resample the signal. We have then defined a neural network that we trained to recognize a given command."
      ]
    }
  ]
}