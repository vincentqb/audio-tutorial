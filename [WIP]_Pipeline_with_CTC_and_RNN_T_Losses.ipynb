{
  "nbformat": 4,
  "nbformat_minor": 0,
  "metadata": {
    "accelerator": "GPU",
    "colab": {
      "name": "[WIP] Pipeline with CTC and RNN-T Losses.ipynb",
      "provenance": [],
      "collapsed_sections": []
    },
    "kernelspec": {
      "display_name": "Python 3",
      "language": "python",
      "name": "python3"
    },
    "language_info": {
      "codemirror_mode": {
        "name": "ipython",
        "version": 3
      },
      "file_extension": ".py",
      "mimetype": "text/x-python",
      "name": "python",
      "nbconvert_exporter": "python",
      "pygments_lexer": "ipython3",
      "version": "3.6.8"
    },
    "widgets": {
      "application/vnd.jupyter.widget-state+json": {
        "a9e1ce96d01444eea0ff98ee0c064d33": {
          "model_module": "@jupyter-widgets/controls",
          "model_name": "HBoxModel",
          "state": {
            "_view_name": "HBoxView",
            "_dom_classes": [],
            "_model_name": "HBoxModel",
            "_view_module": "@jupyter-widgets/controls",
            "_model_module_version": "1.5.0",
            "_view_count": null,
            "_view_module_version": "1.5.0",
            "box_style": "",
            "layout": "IPY_MODEL_3d6b489e3419449b90fee63867190c24",
            "_model_module": "@jupyter-widgets/controls",
            "children": [
              "IPY_MODEL_33bd32ed294a41a1b5d62be17cbffd5c",
              "IPY_MODEL_aba4b77e247f4aa6866781662afb54c9"
            ]
          }
        },
        "3d6b489e3419449b90fee63867190c24": {
          "model_module": "@jupyter-widgets/base",
          "model_name": "LayoutModel",
          "state": {
            "_view_name": "LayoutView",
            "grid_template_rows": null,
            "right": null,
            "justify_content": null,
            "_view_module": "@jupyter-widgets/base",
            "overflow": null,
            "_model_module_version": "1.2.0",
            "_view_count": null,
            "flex_flow": null,
            "width": null,
            "min_width": null,
            "border": null,
            "align_items": null,
            "bottom": null,
            "_model_module": "@jupyter-widgets/base",
            "top": null,
            "grid_column": null,
            "overflow_y": null,
            "overflow_x": null,
            "grid_auto_flow": null,
            "grid_area": null,
            "grid_template_columns": null,
            "flex": null,
            "_model_name": "LayoutModel",
            "justify_items": null,
            "grid_row": null,
            "max_height": null,
            "align_content": null,
            "visibility": null,
            "align_self": null,
            "height": null,
            "min_height": null,
            "padding": null,
            "grid_auto_rows": null,
            "grid_gap": null,
            "max_width": null,
            "order": null,
            "_view_module_version": "1.2.0",
            "grid_template_areas": null,
            "object_position": null,
            "object_fit": null,
            "grid_auto_columns": null,
            "margin": null,
            "display": null,
            "left": null
          }
        },
        "33bd32ed294a41a1b5d62be17cbffd5c": {
          "model_module": "@jupyter-widgets/controls",
          "model_name": "FloatProgressModel",
          "state": {
            "_view_name": "ProgressView",
            "style": "IPY_MODEL_96473a9b381340978fe1c22f4398aa56",
            "_dom_classes": [],
            "description": "100%",
            "_model_name": "FloatProgressModel",
            "bar_style": "success",
            "max": 2428923189,
            "_view_module": "@jupyter-widgets/controls",
            "_model_module_version": "1.5.0",
            "value": 2428923189,
            "_view_count": null,
            "_view_module_version": "1.5.0",
            "orientation": "horizontal",
            "min": 0,
            "description_tooltip": null,
            "_model_module": "@jupyter-widgets/controls",
            "layout": "IPY_MODEL_8872b4d903ef46b1a1f86827fd44b808"
          }
        },
        "aba4b77e247f4aa6866781662afb54c9": {
          "model_module": "@jupyter-widgets/controls",
          "model_name": "HTMLModel",
          "state": {
            "_view_name": "HTMLView",
            "style": "IPY_MODEL_773794be8bb74627b9ac8211071b279d",
            "_dom_classes": [],
            "description": "",
            "_model_name": "HTMLModel",
            "placeholder": "​",
            "_view_module": "@jupyter-widgets/controls",
            "_model_module_version": "1.5.0",
            "value": " 2.26G/2.26G [00:47&lt;00:00, 50.6MB/s]",
            "_view_count": null,
            "_view_module_version": "1.5.0",
            "description_tooltip": null,
            "_model_module": "@jupyter-widgets/controls",
            "layout": "IPY_MODEL_a5eac6c6102a455788baceef24b0be30"
          }
        },
        "96473a9b381340978fe1c22f4398aa56": {
          "model_module": "@jupyter-widgets/controls",
          "model_name": "ProgressStyleModel",
          "state": {
            "_view_name": "StyleView",
            "_model_name": "ProgressStyleModel",
            "description_width": "initial",
            "_view_module": "@jupyter-widgets/base",
            "_model_module_version": "1.5.0",
            "_view_count": null,
            "_view_module_version": "1.2.0",
            "bar_color": null,
            "_model_module": "@jupyter-widgets/controls"
          }
        },
        "8872b4d903ef46b1a1f86827fd44b808": {
          "model_module": "@jupyter-widgets/base",
          "model_name": "LayoutModel",
          "state": {
            "_view_name": "LayoutView",
            "grid_template_rows": null,
            "right": null,
            "justify_content": null,
            "_view_module": "@jupyter-widgets/base",
            "overflow": null,
            "_model_module_version": "1.2.0",
            "_view_count": null,
            "flex_flow": null,
            "width": null,
            "min_width": null,
            "border": null,
            "align_items": null,
            "bottom": null,
            "_model_module": "@jupyter-widgets/base",
            "top": null,
            "grid_column": null,
            "overflow_y": null,
            "overflow_x": null,
            "grid_auto_flow": null,
            "grid_area": null,
            "grid_template_columns": null,
            "flex": null,
            "_model_name": "LayoutModel",
            "justify_items": null,
            "grid_row": null,
            "max_height": null,
            "align_content": null,
            "visibility": null,
            "align_self": null,
            "height": null,
            "min_height": null,
            "padding": null,
            "grid_auto_rows": null,
            "grid_gap": null,
            "max_width": null,
            "order": null,
            "_view_module_version": "1.2.0",
            "grid_template_areas": null,
            "object_position": null,
            "object_fit": null,
            "grid_auto_columns": null,
            "margin": null,
            "display": null,
            "left": null
          }
        },
        "773794be8bb74627b9ac8211071b279d": {
          "model_module": "@jupyter-widgets/controls",
          "model_name": "DescriptionStyleModel",
          "state": {
            "_view_name": "StyleView",
            "_model_name": "DescriptionStyleModel",
            "description_width": "",
            "_view_module": "@jupyter-widgets/base",
            "_model_module_version": "1.5.0",
            "_view_count": null,
            "_view_module_version": "1.2.0",
            "_model_module": "@jupyter-widgets/controls"
          }
        },
        "a5eac6c6102a455788baceef24b0be30": {
          "model_module": "@jupyter-widgets/base",
          "model_name": "LayoutModel",
          "state": {
            "_view_name": "LayoutView",
            "grid_template_rows": null,
            "right": null,
            "justify_content": null,
            "_view_module": "@jupyter-widgets/base",
            "overflow": null,
            "_model_module_version": "1.2.0",
            "_view_count": null,
            "flex_flow": null,
            "width": null,
            "min_width": null,
            "border": null,
            "align_items": null,
            "bottom": null,
            "_model_module": "@jupyter-widgets/base",
            "top": null,
            "grid_column": null,
            "overflow_y": null,
            "overflow_x": null,
            "grid_auto_flow": null,
            "grid_area": null,
            "grid_template_columns": null,
            "flex": null,
            "_model_name": "LayoutModel",
            "justify_items": null,
            "grid_row": null,
            "max_height": null,
            "align_content": null,
            "visibility": null,
            "align_self": null,
            "height": null,
            "min_height": null,
            "padding": null,
            "grid_auto_rows": null,
            "grid_gap": null,
            "max_width": null,
            "order": null,
            "_view_module_version": "1.2.0",
            "grid_template_areas": null,
            "object_position": null,
            "object_fit": null,
            "grid_auto_columns": null,
            "margin": null,
            "display": null,
            "left": null
          }
        }
      }
    }
  },
  "cells": [
    {
      "cell_type": "code",
      "metadata": {
        "id": "yYJByTxeZFAV"
      },
      "source": [
        "%matplotlib inline"
      ],
      "execution_count": 3,
      "outputs": []
    },
    {
      "cell_type": "markdown",
      "metadata": {
        "id": "HHodDynXZFAZ"
      },
      "source": [
        "\n",
        "Moving from CTC to RNN Transducer Loss with torchaudio\n",
        "------------------------------------------------------\n",
        "\n",
        "This tutorial will discuss how to work with CTC and the RNN Transducer loss in torchaudio.\n",
        "\n",
        "Colab has GPU option available. In the menu tabs, select “Runtime” then\n",
        "“Change runtime type”. In the pop-up that follows, you can choose GPU.\n",
        "After the change, your runtime should automatically restart (which means\n",
        "information from executed cells disappear).\n",
        "\n",
        "First, let’s import the common torch packages such as\n",
        "`torchaudio <https://github.com/pytorch/audio>`__ that can be installed\n",
        "by following the instructions on the website.\n",
        "\n",
        "\n"
      ]
    },
    {
      "cell_type": "code",
      "metadata": {
        "colab": {
          "base_uri": "https://localhost:8080/"
        },
        "id": "X9jU9XJCIlzO",
        "outputId": "bc98263b-49ff-41bd-87a8-4f9e239e5111"
      },
      "source": [
        "!pip install --pre torch==1.9.0.dev20210416+cpu torchaudio==0.9.0.dev20210416 -f https://download.pytorch.org/whl/nightly/cpu/torch_nightly.html"
      ],
      "execution_count": 4,
      "outputs": [
        {
          "output_type": "stream",
          "text": [
            "Looking in links: https://download.pytorch.org/whl/nightly/cpu/torch_nightly.html\n",
            "Collecting torch==1.9.0.dev20210416+cpu\n",
            "\u001b[?25l  Downloading https://download.pytorch.org/whl/nightly/cpu/torch-1.9.0.dev20210416%2Bcpu-cp37-cp37m-linux_x86_64.whl (178.1MB)\n",
            "\u001b[K     |████████████████████████████████| 178.1MB 55kB/s \n",
            "\u001b[?25hCollecting torchaudio==0.9.0.dev20210416\n",
            "\u001b[?25l  Downloading https://download.pytorch.org/whl/nightly/torchaudio-0.9.0.dev20210416-cp37-cp37m-linux_x86_64.whl (1.9MB)\n",
            "\u001b[K     |████████████████████████████████| 1.9MB 55.8MB/s \n",
            "\u001b[?25hRequirement already satisfied: typing-extensions in /usr/local/lib/python3.7/dist-packages (from torch==1.9.0.dev20210416+cpu) (3.7.4.3)\n",
            "\u001b[31mERROR: torchvision 0.9.1+cu101 has requirement torch==1.8.1, but you'll have torch 1.9.0.dev20210416+cpu which is incompatible.\u001b[0m\n",
            "\u001b[31mERROR: torchtext 0.9.1 has requirement torch==1.8.1, but you'll have torch 1.9.0.dev20210416+cpu which is incompatible.\u001b[0m\n",
            "Installing collected packages: torch, torchaudio\n",
            "  Found existing installation: torch 1.8.1+cu101\n",
            "    Uninstalling torch-1.8.1+cu101:\n",
            "      Successfully uninstalled torch-1.8.1+cu101\n",
            "Successfully installed torch-1.9.0.dev20210416+cpu torchaudio-0.9.0.dev20210416\n"
          ],
          "name": "stdout"
        }
      ]
    },
    {
      "cell_type": "code",
      "metadata": {
        "id": "FPr-MZ9VLcta"
      },
      "source": [
        "\"\"\"\n",
        "!pip install torch==1.7.0+cu101 -f https://download.pytorch.org/whl/torch_stable.html\n",
        "\n",
        "# Reload packages available in google colab\n",
        "import site\n",
        "site.main()\n",
        "\n",
        "# Compile from source\n",
        "!rm -rf audio/\n",
        "!git clone --recurse-submodules --single-branch https://github.com/pytorch/audio.git\n",
        "!BUILD_TRANSDUCER=1 BUILD_SOX=1 pip install -v audio/\n",
        "\n",
        "site.main()\n",
        "\"\"\";"
      ],
      "execution_count": 5,
      "outputs": []
    },
    {
      "cell_type": "code",
      "metadata": {
        "id": "o79W0pQOJgod"
      },
      "source": [
        "\"\"\"\n",
        "import os\n",
        "import torch\n",
        "\n",
        "# Update environment variable before running `python setup.py install`\n",
        "# https://github.com/HawkAaron/warp-transducer/issues/15\n",
        "\n",
        "if torch.cuda.is_available():\n",
        "\n",
        "    print(\"cuda available\")\n",
        "\n",
        "    CUDA_HOME = \"/usr/local/cuda\"\n",
        "\n",
        "    os.environ['CUDA_HOME'] = CUDA_HOME\n",
        "    os.environ['CUDA_TOOLKIT_ROOT_DIR'] = CUDA_HOME\n",
        "\n",
        "    os.environ['LIBRARY_PATH'] = \":\".join([\n",
        "        f\"{CUDA_HOME}/lib64\",\n",
        "        os.environ.get(\"LIBRARY_PATH\", \"\"),\n",
        "    ])\n",
        "\n",
        "    os.environ['LD_LIBRARY_PATH'] = \":\".join([\n",
        "        f\"{CUDA_HOME}/lib64\",\n",
        "        f\"{CUDA_HOME}/extras/CUPTI/lib64\",\n",
        "        os.environ.get(\"LD_LIBRARY_PATH\", \"\"),\n",
        "    ])\n",
        "\n",
        "    os.environ['CFLAGS'] = \" \".join([\n",
        "       f\"-I{CUDA_HOME}/include\",\n",
        "       os.environ.get(\"CFLAGS\", \"\"),\n",
        "    ])\n",
        "\n",
        "!pwd\n",
        "%cd /content/\n",
        "\n",
        "![ ! -d 'warp-transducer' ] && git clone https://github.com/HawkAaron/warp-transducer\n",
        "%cd warp-transducer\n",
        "\n",
        "!mkdir -p build\n",
        "%cd build\n",
        "!rm -f CMakeCache.txt\n",
        "!cmake ..\n",
        "!make\n",
        "\n",
        "%cd ../pytorch_binding\n",
        "\n",
        "!touch files.txt\n",
        "!xargs rm -rf < files.txt\n",
        "!python setup.py clean\n",
        "!python setup.py install --record files.txt --old-and-unmanageable\n",
        "\n",
        "%cd /content/\n",
        "!pwd\n",
        "\n",
        "# Reload packages available in google colab\n",
        "site.main()\n",
        "\n",
        "from warprnnt_pytorch import RNNTLoss, rnnt_loss\n",
        "\n",
        "!pip install torch==1.7.0+cu101 torchvision==0.8.1+cu101 torchaudio==0.7.0 -f https://download.pytorch.org/whl/torch_stable.html\n",
        "\n",
        "\"\"\";"
      ],
      "execution_count": 6,
      "outputs": []
    },
    {
      "cell_type": "code",
      "metadata": {
        "id": "hezaOGu8Itl7"
      },
      "source": [
        "from torchaudio.prototype.transducer import RNNTLoss, rnnt_loss"
      ],
      "execution_count": 7,
      "outputs": []
    },
    {
      "cell_type": "code",
      "metadata": {
        "id": "SE8O1B5nZFAa",
        "colab": {
          "base_uri": "https://localhost:8080/"
        },
        "outputId": "a26fbd12-8f05-4025-9ad3-706ce947ccf7"
      },
      "source": [
        "# Uncomment the following line to run in Google Colab\n",
        "\n",
        "# CPU:\n",
        "# !pip install torch==1.7.0+cpu torchvision==0.8.1+cpu torchaudio==0.7.0 -f https://download.pytorch.org/whl/torch_stable.html\n",
        "\n",
        "# GPU:\n",
        "# !pip install torch==1.7.0+cu101 torchvision==0.8.1+cu101 torchaudio==0.7.0 -f https://download.pytorch.org/whl/torch_stable.html\n",
        "\n",
        "# For interactive demo at the end:\n",
        "!pip install pydub\n",
        "\n",
        "import math\n",
        "import string\n",
        "\n",
        "import torch\n",
        "import torch.nn as nn\n",
        "import torch.nn.functional as F\n",
        "import torch.optim as optim\n",
        "import torchaudio\n",
        "\n",
        "import matplotlib.pyplot as plt\n",
        "import IPython.display as ipd\n",
        "from tqdm.notebook import tqdm\n",
        "\n",
        "from torchaudio.models.wav2letter import Wav2Letter"
      ],
      "execution_count": 8,
      "outputs": [
        {
          "output_type": "stream",
          "text": [
            "Collecting pydub\n",
            "  Downloading https://files.pythonhosted.org/packages/a6/53/d78dc063216e62fc55f6b2eebb447f6a4b0a59f55c8406376f76bf959b08/pydub-0.25.1-py2.py3-none-any.whl\n",
            "Installing collected packages: pydub\n",
            "Successfully installed pydub-0.25.1\n"
          ],
          "name": "stdout"
        }
      ]
    },
    {
      "cell_type": "markdown",
      "metadata": {
        "id": "MeCv4zU0ZFAa"
      },
      "source": [
        "Let’s check if a CUDA GPU is available and select our device. Running\n",
        "the network on a GPU will greatly decrease the training/testing runtime.\n",
        "\n",
        "\n"
      ]
    },
    {
      "cell_type": "code",
      "metadata": {
        "id": "dEf-sM_yZFAb",
        "colab": {
          "base_uri": "https://localhost:8080/"
        },
        "outputId": "a6a34d23-a103-476a-a51a-f84d926dcf77"
      },
      "source": [
        "device = torch.device(\"cuda\" if torch.cuda.is_available() else \"cpu\")\n",
        "print(device)"
      ],
      "execution_count": 9,
      "outputs": [
        {
          "output_type": "stream",
          "text": [
            "cpu\n"
          ],
          "name": "stdout"
        }
      ]
    },
    {
      "cell_type": "markdown",
      "metadata": {
        "id": "3l-eA_MoZFAb"
      },
      "source": [
        "Importing the Dataset\n",
        "---------------------\n",
        "\n",
        "To load the data, we follow the `Speech Command Recognition <https://pytorch.org/tutorials/intermediate/speech_command_recognition_with_torchaudio.html>`__ tutorial.\n",
        "\n"
      ]
    },
    {
      "cell_type": "code",
      "metadata": {
        "colab": {
          "base_uri": "https://localhost:8080/",
          "height": 120,
          "referenced_widgets": [
            "a9e1ce96d01444eea0ff98ee0c064d33",
            "3d6b489e3419449b90fee63867190c24",
            "33bd32ed294a41a1b5d62be17cbffd5c",
            "aba4b77e247f4aa6866781662afb54c9",
            "96473a9b381340978fe1c22f4398aa56",
            "8872b4d903ef46b1a1f86827fd44b808",
            "773794be8bb74627b9ac8211071b279d",
            "a5eac6c6102a455788baceef24b0be30"
          ]
        },
        "id": "mnDfrLxSZFAb",
        "outputId": "97a03fab-a828-4848-cfe7-3c5af39b3679"
      },
      "source": [
        "from torchaudio.datasets import SPEECHCOMMANDS\n",
        "import os\n",
        "\n",
        "\n",
        "class SubsetSC(SPEECHCOMMANDS):\n",
        "    def __init__(self, subset: str = None):\n",
        "        super().__init__(\"./\", download=True)\n",
        "\n",
        "        def load_list(filename):\n",
        "            filepath = os.path.join(self._path, filename)\n",
        "            with open(filepath) as fileobj:\n",
        "                return [os.path.join(self._path, line.strip()) for line in fileobj]\n",
        "\n",
        "        if subset == \"validation\":\n",
        "            self._walker = load_list(\"validation_list.txt\")\n",
        "        elif subset == \"testing\":\n",
        "            self._walker = load_list(\"testing_list.txt\")\n",
        "        elif subset == \"training\":\n",
        "            excludes = load_list(\"validation_list.txt\") + load_list(\"testing_list.txt\")\n",
        "            excludes = set(excludes)\n",
        "            self._walker = [w for w in self._walker if w not in excludes]\n",
        "\n",
        "\n",
        "# Create training and testing split of the data. We do not use validation in this tutorial.\n",
        "train_set = SubsetSC(\"training\")\n",
        "\n",
        "print(\"Length: \", len(train_set))\n",
        "\n",
        "# A data point in the SPEECHCOMMANDS dataset is a tuple made of a waveform (the audio signal), the sample rate, the utterance (label), the ID of the speaker, the number of the utterance.\n",
        "waveform, sample_rate, label, speaker_id, utterance_number = train_set[0]\n",
        "\n",
        "# Let’s find the list of labels available in the dataset.\n",
        "labels = sorted(list(set(datapoint[2] for datapoint in train_set)))\n",
        "print(labels)"
      ],
      "execution_count": 10,
      "outputs": [
        {
          "output_type": "display_data",
          "data": {
            "application/vnd.jupyter.widget-view+json": {
              "model_id": "a9e1ce96d01444eea0ff98ee0c064d33",
              "version_minor": 0,
              "version_major": 2
            },
            "text/plain": [
              "HBox(children=(FloatProgress(value=0.0, max=2428923189.0), HTML(value='')))"
            ]
          },
          "metadata": {
            "tags": []
          }
        },
        {
          "output_type": "stream",
          "text": [
            "\n",
            "Length:  105829\n",
            "['backward', 'bed', 'bird', 'cat', 'dog', 'down', 'eight', 'five', 'follow', 'forward', 'four', 'go', 'happy', 'house', 'learn', 'left', 'marvin', 'nine', 'no', 'off', 'on', 'one', 'right', 'seven', 'sheila', 'six', 'stop', 'three', 'tree', 'two', 'up', 'visual', 'wow', 'yes', 'zero']\n"
          ],
          "name": "stdout"
        }
      ]
    },
    {
      "cell_type": "code",
      "metadata": {
        "colab": {
          "base_uri": "https://localhost:8080/",
          "height": 69
        },
        "id": "upIpYszL_bg6",
        "outputId": "778d0799-fbb0-42c2-b74f-9f96702abeef"
      },
      "source": [
        "\"\"\"\n",
        "# Create training and testing split of the data. We do not use validation in this tutorial.\n",
        "train_set = torchaudio.datasets.LIBRISPEECH(\"./\", \"train-clean-100\", download=True)\n",
        "\n",
        "print(\"Length: \", len(train_set))\n",
        "\n",
        "# A data point in the LIBRISPEECH dataset is a tuple made of:\n",
        "waveform, sample_rate, utterance, speaker_id, chapter_id, utterance_id = train_set[0]\n",
        "\"\"\""
      ],
      "execution_count": 11,
      "outputs": [
        {
          "output_type": "execute_result",
          "data": {
            "application/vnd.google.colaboratory.intrinsic+json": {
              "type": "string"
            },
            "text/plain": [
              "'\\n# Create training and testing split of the data. We do not use validation in this tutorial.\\ntrain_set = torchaudio.datasets.LIBRISPEECH(\"./\", \"train-clean-100\", download=True)\\n\\nprint(\"Length: \", len(train_set))\\n\\n# A data point in the LIBRISPEECH dataset is a tuple made of:\\nwaveform, sample_rate, utterance, speaker_id, chapter_id, utterance_id = train_set[0]\\n'"
            ]
          },
          "metadata": {
            "tags": []
          },
          "execution_count": 11
        }
      ]
    },
    {
      "cell_type": "markdown",
      "metadata": {
        "id": "r7oaq2_VZFAe"
      },
      "source": [
        "We are encoding each word character-by-character. We add a special blank character that we represent by an asterisk."
      ]
    },
    {
      "cell_type": "code",
      "metadata": {
        "colab": {
          "base_uri": "https://localhost:8080/"
        },
        "id": "_OxHHzNCZFAe",
        "outputId": "bb59328a-5094-421d-a26a-5e0cf9f45977"
      },
      "source": [
        "# We need to define a blank character to be used by the loss function. We'll represent it by an asterisk here.\n",
        "char_blank = \"*\"\n",
        "chars = sorted(set(char_blank + \"\".join(string.ascii_lowercase)))\n",
        "\n",
        "\n",
        "def label_to_indices(word):\n",
        "    # Convert word into indices\n",
        "    return torch.tensor([chars.index(w) for w in word], dtype=torch.int)\n",
        "\n",
        "def indices_to_label(indices):\n",
        "    # Return the word corresponding to indices\n",
        "    # This is a near inverse of label_to_indices\n",
        "    return \"\".join(chars[ind] for ind in indices).replace(char_blank, \"\")\n",
        "    \n",
        "\n",
        "word_start = \"yes\"\n",
        "indices = label_to_indices(word_start)\n",
        "word_recovered = indices_to_label(indices)\n",
        "\n",
        "print(word_start, \"-->\", indices, \"-->\", word_recovered)"
      ],
      "execution_count": 12,
      "outputs": [
        {
          "output_type": "stream",
          "text": [
            "yes --> tensor([25,  5, 19], dtype=torch.int32) --> yes\n"
          ],
          "name": "stdout"
        }
      ]
    },
    {
      "cell_type": "markdown",
      "metadata": {
        "id": "Ul595AI4ZFAd"
      },
      "source": [
        "Let's take a look at a waveform in the time domain, and then move the waveform to the frequency domain by computing its mel spectrogram. It is the spectrogram that will be used in the models here."
      ]
    },
    {
      "cell_type": "code",
      "metadata": {
        "colab": {
          "base_uri": "https://localhost:8080/",
          "height": 265
        },
        "id": "NZGGCYN1D806",
        "outputId": "23819f32-86f1-4f99-cb7f-1fe1734fdd73"
      },
      "source": [
        "plt.plot(waveform.t().numpy());"
      ],
      "execution_count": 13,
      "outputs": [
        {
          "output_type": "display_data",
          "data": {
            "image/png": "[encoded data removed]",
            "text/plain": [
              "<Figure size 432x288 with 1 Axes>"
            ]
          },
          "metadata": {
            "tags": [],
            "needs_background": "light"
          }
        }
      ]
    },
    {
      "cell_type": "code",
      "metadata": {
        "colab": {
          "base_uri": "https://localhost:8080/",
          "height": 285
        },
        "id": "TcWiU0x_ZFAd",
        "outputId": "6817a972-64ce-473a-d33e-0c97a13d4231"
      },
      "source": [
        "transform = torchaudio.transforms.MelSpectrogram(sample_rate=sample_rate, n_fft=400, win_length=None, hop_length=None, f_min=0.0, f_max=None, pad=0, n_mels=64, normalized=False)\n",
        "\n",
        "transformed = transform(waveform)\n",
        "print(transformed.shape)\n",
        "\n",
        "plt.imshow(transformed.log2()[0,:,:].numpy(), cmap='gray');"
      ],
      "execution_count": 14,
      "outputs": [
        {
          "output_type": "stream",
          "text": [
            "torch.Size([1, 64, 81])\n"
          ],
          "name": "stdout"
        },
        {
          "output_type": "display_data",
          "data": {
            "image/png": "[encoded data removed]",
            "text/plain": [
              "<Figure size 432x288 with 1 Axes>"
            ]
          },
          "metadata": {
            "tags": [],
            "needs_background": "light"
          }
        }
      ]
    },
    {
      "cell_type": "markdown",
      "metadata": {
        "id": "tWaOdqYqZFAe"
      },
      "source": [
        "# Data Loader\n",
        "\n",
        "In the collate function, we also apply the resampling, and the text\n",
        "encoding. The data loader uses the collate function to form the batches.\n"
      ]
    },
    {
      "cell_type": "code",
      "metadata": {
        "id": "S2B_A44g-eYg"
      },
      "source": [
        "batch_size = 64"
      ],
      "execution_count": 15,
      "outputs": []
    },
    {
      "cell_type": "code",
      "metadata": {
        "id": "YpivMCgwZFAe"
      },
      "source": [
        "def pad_sequence(batch):\n",
        "    \n",
        "    # Move last to first\n",
        "    dims = list(range(len(batch[0].shape)))\n",
        "    dims.insert(0, dims.pop(-1))\n",
        "    batch = [item.permute(*dims) for item in batch]\n",
        "    \n",
        "    # Make all tensor in a batch the same length by padding with zeros\n",
        "    batch = torch.nn.utils.rnn.pad_sequence(batch, batch_first=True, padding_value=0.)\n",
        "    \n",
        "    # Move second to last\n",
        "    dims = list(range(len(batch.shape)))\n",
        "    dims.append(dims.pop(1))\n",
        "    batch = batch.permute(*dims)\n",
        "\n",
        "    return batch\n",
        "\n",
        "\n",
        "def collate_fn(batch):\n",
        "\n",
        "    # preprend tensor with blank character for RNN-T\n",
        "    # prepend = char_blank\n",
        "    prepend = \"\"\n",
        "    # or pad in model\n",
        "\n",
        "    # A data tuple has the form:\n",
        "    # waveform, sample_rate, label, speaker_id, utterance_number\n",
        "\n",
        "    tensors, targets_tensor, targets_original, tensors_length, targets_length = [], [], [], [], []\n",
        "\n",
        "    # Gather in lists, and encode labels as indices\n",
        "    for waveform, _, label, *_ in batch:\n",
        "        \n",
        "        waveform = transform(waveform)\n",
        "        tensors += [waveform]\n",
        "        tensors_length += torch.tensor([waveform.shape[-1]], dtype=torch.int)\n",
        "        \n",
        "        targets_tensor += [label_to_indices(prepend + label)]\n",
        "        targets_original += [label]\n",
        "        targets_length += torch.tensor([len(label)], dtype=torch.int)\n",
        "\n",
        "    # Group the list of tensors into a batched tensor\n",
        "    tensors = pad_sequence(tensors)\n",
        "    targets_tensor = pad_sequence(targets_tensor)\n",
        "    tensors_length = torch.stack(tensors_length)\n",
        "    targets_length = torch.stack(targets_length)\n",
        "\n",
        "    return tensors, targets_tensor, targets_original, tensors_length, targets_length\n",
        "\n",
        "\n",
        "if device == \"cuda\":\n",
        "    num_workers = 1\n",
        "    pin_memory = True\n",
        "else:\n",
        "    num_workers = 0\n",
        "    pin_memory = False\n",
        "\n",
        "train_loader = torch.utils.data.DataLoader(\n",
        "    train_set,\n",
        "    batch_size=batch_size,\n",
        "    shuffle=False,\n",
        "    collate_fn=collate_fn,\n",
        "    num_workers=num_workers,\n",
        "    pin_memory=pin_memory,\n",
        ")"
      ],
      "execution_count": 16,
      "outputs": []
    },
    {
      "cell_type": "markdown",
      "metadata": {
        "id": "TVjCCA2dZFAf"
      },
      "source": [
        "The CTC Setting\n",
        "---------------\n",
        "\n",
        "Suppose we have a model that takes an input spectrogram and returns a sequence of log-probabilities for each character at each time step."
      ]
    },
    {
      "cell_type": "code",
      "metadata": {
        "colab": {
          "base_uri": "https://localhost:8080/"
        },
        "id": "OZEwpfpuTQpt",
        "outputId": "b51daf26-e71e-472a-a546-e9375bf05125"
      },
      "source": [
        "class CTCModel(torch.nn.Module):\n",
        "    def __init__(self, n_audio_features=transformed.shape[1], n_hidden=512, n_chars=len(chars)):\n",
        "        super().__init__()\n",
        "        self.rnn = torch.nn.RNN(input_size=n_audio_features, hidden_size=n_hidden//2, bidirectional=True)\n",
        "        self.linear_first = torch.nn.Linear((n_hidden//2) * 2, n_hidden//4)\n",
        "        self.linear_last = torch.nn.Linear(n_hidden//4, n_chars)\n",
        "        \n",
        "    def forward(self, x, y):\n",
        "        # Apply model to x. Pass y.\n",
        "        # Return both the output of the model and the target y.\n",
        "\n",
        "        x = x.squeeze().permute(0, 2, 1)\n",
        "        x, _ = self.rnn(x)\n",
        "        x = self.linear_first(x)\n",
        "        x = self.linear_last(x)\n",
        "        return x, y\n",
        "\n",
        "\n",
        "ctc_model = CTCModel()\n",
        "# print([str(t.device) for t in ctc_model.parameters()])\n",
        "ctc_model.to(device)\n",
        "# print([str(t.device) for t in ctc_model.parameters()])\n",
        "print(ctc_model)\n",
        "\n",
        "\n",
        "def count_parameters(model):\n",
        "    return sum(p.numel() for p in model.parameters() if p.requires_grad)\n",
        "\n",
        "\n",
        "print(f\"Number of parameters: {count_parameters(ctc_model):,}\")"
      ],
      "execution_count": 17,
      "outputs": [
        {
          "output_type": "stream",
          "text": [
            "CTCModel(\n",
            "  (rnn): RNN(64, 256, bidirectional=True)\n",
            "  (linear_first): Linear(in_features=512, out_features=128, bias=True)\n",
            "  (linear_last): Linear(in_features=128, out_features=27, bias=True)\n",
            ")\n",
            "Number of parameters: 234,011\n"
          ],
          "name": "stdout"
        }
      ]
    },
    {
      "cell_type": "markdown",
      "metadata": {
        "id": "QElXwdgxS6eZ"
      },
      "source": [
        "In such a setup, we may run into an alignment issue between the input and the output sequences, where some sounds are longer than others, and so some characters might be repeated across many time steps. For instance, a possible alignment for the word `tree` is `ttr**eee*ee`. Indeed, starting with the alignment `ttr**eee*ee`, we first remove all the repeated characters to get `tr*e*e` and then remove the blank characters to get the word this corresponds to: `tree`. There are many such alignments for a given word, e.g. `ttr**eee*ee`, `trrrreee****e`, or `tre*e`. Note that `tree` is not an alignment of the word `tree` since the repeated `e` would collapse into a single `e`.\n",
        "\n",
        "The CTC loss (Connectionist Temporal Classification, Graves et al., 2006) overcomes the alignment issue by summing over all alignments between the input and the output. More precisely, the CTC conditional probability marginalizes over the set of alignments that are no longer than the input sequence where it computes the probability for a single alignment step-by-step.\n",
        "\n",
        "Here is an example showing how to use the CTC loss in PyTorch with a corresponding model. The loss function defined below takes as input a tensor of size\n",
        "```\n",
        "(batch size) x (input length) x (number of classes including blank)\n",
        "```"
      ]
    },
    {
      "cell_type": "code",
      "metadata": {
        "id": "_ghftxM2E2rK"
      },
      "source": [
        "def ctc_criterion(outputs, targets, output_lengths, target_lengths):\n",
        "        \"\"\"\n",
        "        Apply the log softmax, and the CTC loss.\n",
        "\n",
        "        Input:\n",
        "        outputs: tensor of size (batch size, input length, number of classes including blank) containing output from network\n",
        "        targets: tensor of size (batch size, max target length) containing the targets with zero padded\n",
        "        output_lengths: tensor of size (batch size) containing the length of each output sequence\n",
        "        target_lengths: tensor of size (batch size) containing the length of each target\n",
        "        \"\"\"\n",
        "        \n",
        "        # Apply log_softmax as part of criterion as done for rnnt_loss\n",
        "        outputs = nn.functional.log_softmax(outputs, dim=-1)\n",
        "\n",
        "        # Transpose into format consumed by PyTorch\n",
        "        outputs = outputs.permute(1, 0, 2)\n",
        "\n",
        "        # CTC\n",
        "        # outputs: input length, batch size, number of classes (including blank)\n",
        "        # targets: batch size, max target length\n",
        "        # input_lengths: batch size\n",
        "        # target_lengths: batch size\n",
        "        return torch.nn.functional.ctc_loss(\n",
        "            outputs,\n",
        "            targets,\n",
        "            output_lengths,\n",
        "            target_lengths,\n",
        "            blank=0,\n",
        "            reduction='mean',\n",
        "            zero_infinity=False\n",
        "        )"
      ],
      "execution_count": 18,
      "outputs": []
    },
    {
      "cell_type": "markdown",
      "metadata": {
        "id": "NLwFj99rTD2O"
      },
      "source": [
        "Let's compute the error with an untrained model."
      ]
    },
    {
      "cell_type": "code",
      "metadata": {
        "colab": {
          "base_uri": "https://localhost:8080/"
        },
        "id": "B9uPd3q-Ascq",
        "outputId": "cabfeca8-22cb-400e-f888-279d693d71af"
      },
      "source": [
        "data, target, _, data_length, target_length = next(iter(train_loader))\n",
        "\n",
        "print(data.shape, target.shape, data_length.shape, target_length.shape)\n",
        "\n",
        "data = data.to(device)\n",
        "target = target.to(device)\n",
        "\n",
        "data, target = ctc_model(data, target)\n",
        "\n",
        "loss = ctc_criterion(\n",
        "    data,\n",
        "    target,\n",
        "    data_length,\n",
        "    target_length,\n",
        ")\n",
        "\n",
        "# This number will be large given that we have not trained the model :)\n",
        "print(loss.item())"
      ],
      "execution_count": 19,
      "outputs": [
        {
          "output_type": "stream",
          "text": [
            "torch.Size([64, 1, 64, 81]) torch.Size([64, 8]) torch.Size([64]) torch.Size([64])\n",
            "27.63673210144043\n"
          ],
          "name": "stdout"
        }
      ]
    },
    {
      "cell_type": "markdown",
      "metadata": {
        "id": "tmipjqekTOI7"
      },
      "source": [
        "And let's see what word the model assigns to the data point."
      ]
    },
    {
      "cell_type": "code",
      "metadata": {
        "colab": {
          "base_uri": "https://localhost:8080/"
        },
        "id": "pCHcBHGvHdu2",
        "outputId": "fcd1af3c-9115-4e73-a42b-3a4006e12072"
      },
      "source": [
        "# Replace by https://gist.github.com/awni/56369a90d03953e370f3964c826ed4b0\n",
        "\n",
        "def ctc_decode(tensor):\n",
        "    # greedy decoder for CTC\n",
        "\n",
        "    # find most likely label index for each element in the batch\n",
        "    tensor = tensor.argmax(dim=-1)\n",
        "    return torch.unique_consecutive(tensor, dim=-1)\n",
        "\n",
        "\n",
        "target = indices_to_label(target[0])\n",
        "\n",
        "indices = data[0, ...]\n",
        "decoded = ctc_decode(indices)\n",
        "word_recovered = indices_to_label(decoded)\n",
        "\n",
        "# The result will be far from the target since we have not trained the model :)\n",
        "print(target, \"-->\", decoded, \"-->\", word_recovered)"
      ],
      "execution_count": 20,
      "outputs": [
        {
          "output_type": "stream",
          "text": [
            "backward --> tensor([ 0,  6,  0,  6, 19,  6,  0,  6,  0,  2,  0, 15,  6,  0,  6,  0, 17,  3,\n",
            "         8,  3,  5,  3, 11,  5, 23, 17,  6, 17,  6,  0,  6,  0]) --> ffsffboffqchceckewqfqff\n"
          ],
          "name": "stdout"
        }
      ]
    },
    {
      "cell_type": "markdown",
      "metadata": {
        "id": "N463e54dSSvV"
      },
      "source": [
        "The RNN Transducer Setting\n",
        "--------------------------\n",
        "\n",
        "As mentioned before, the CTC loss defines a distribution over all alignments with all output sequences no longer than the input sequence. However, as well as precluding tasks (e.g. text-to-speech) where the output sequence is longer than the input sequence, CTC does not model the interdependencies between the outputs.\n",
        "\n",
        "The RNN Transducer loss (`Graves 2012 <https://arxiv.org/pdf/1211.3711.pdf>`__) extends the CTC loss by defining a distribution over output sequences of all lengths, and by jointly modelling both input-output and output-output dependencies.\n",
        "\n",
        "To do this, an RNN Transducer model combines a transcription model taking the input spectrogram (as done for the CTC case) and a prediction model taking the target sequence. The prediction network attempts to model each element of the target sequence given the previous ones, starting with a blank prediction. "
      ]
    },
    {
      "cell_type": "code",
      "metadata": {
        "colab": {
          "base_uri": "https://localhost:8080/"
        },
        "id": "LOPUPjYV1dZM",
        "outputId": "729b91f8-225e-47e8-b756-cde606e5e497"
      },
      "source": [
        "class RNNTBlock(torch.nn.Module):\n",
        "    def __init__(self, input_size, hidden_size, output_size, bidirectional):\n",
        "        super().__init__()\n",
        "        self.rnn = torch.nn.GRU(input_size=input_size, hidden_size=hidden_size, bidirectional=bidirectional)\n",
        "        if bidirectional:\n",
        "          hidden_size *= 2\n",
        "        self.linear = torch.nn.Linear(hidden_size, output_size)\n",
        "\n",
        "    def forward(self, x, hidden=None):\n",
        "        x, hidden = self.rnn(x, hidden)\n",
        "        x = self.linear(x)\n",
        "        return x, hidden\n",
        "\n",
        "class RNNTModel(torch.nn.Module):\n",
        "    # https://arxiv.org/pdf/1211.3711.pdf\n",
        "    # https://github.com/HawkAaron/RNN-Transducer/blob/graves2013/model2012.py\n",
        "    # https://github.com/lorenlugosch/transducer-tutorial/blob/main/transducer_tutorial_example.ipynb\n",
        "    # https://arxiv.org/pdf/1811.06621.pdf\n",
        "\n",
        "    def __init__(self, n_audio_features=transformed.shape[1], n_chars=len(chars)):\n",
        "        super().__init__()\n",
        "\n",
        "        hidden_size = 2048\n",
        "        self.transcription_model = RNNTBlock(n_audio_features, hidden_size, n_chars, bidirectional=True)\n",
        "        self.prediction_model = RNNTBlock(1, hidden_size, n_chars, bidirectional=False)\n",
        "\n",
        "    def forward(self, x, y):\n",
        "        # Apply model to x. Preprend blank character to y.\n",
        "        # Return both the output of the model and the target y.\n",
        "\n",
        "        x = x.squeeze().permute(0, 2, 1)\n",
        "        x, _ = self.transcription_model(x)\n",
        "        \n",
        "        # print(\"first\", y.shape)\n",
        "        # y_pad = y.clone()\n",
        "        # y = y_pad = torch.nn.functional.pad(y, (1,0,0,0), mode='constant', value=0)\n",
        "        # print(\"second\", y.shape)\n",
        "        \n",
        "        y = y.unsqueeze(-1).to(torch.float32)\n",
        "        # print(\"third\", y.shape)\n",
        "        y, _ = self.prediction_model(y)\n",
        "        # print(\"fourth\", y.shape)\n",
        "\n",
        "        x = x.unsqueeze(2)\n",
        "        y = y.unsqueeze(1)\n",
        "\n",
        "        # Fewer exponential by doing exp(x)*exp(y) instead of exp(x+y)\n",
        "        # x = torch.exp(x)\n",
        "        # y = torch.exp(y)\n",
        "        # out = x * y\n",
        "        # out = torch.nn.functional.log_softmax(x + y, dim=-1)\n",
        "        # NOTE log_softmax done as part of loss\n",
        "\n",
        "        return x + y # , y_pad\n",
        "\n",
        "        # blank as last token hardcoded? (or more efficient)\n",
        "        # emdedding layer to transcription?\n",
        "\n",
        "        # too simple, try:\n",
        "        # activation(x + y)\n",
        "        # linear\n",
        "        # (fused in loss) log_softmax\n",
        "\n",
        "        # 9 million is too small --> 37 million worked okay --> 80 million\n",
        "        # 100k samples at least would be better\n",
        "\n",
        "\n",
        "rnnt_model = RNNTModel().to(device)\n",
        "print(rnnt_model)\n",
        "print(f\"Number of parameters: {count_parameters(rnnt_model):,}\")"
      ],
      "execution_count": 21,
      "outputs": [
        {
          "output_type": "stream",
          "text": [
            "RNNTModel(\n",
            "  (transcription_model): RNNTBlock(\n",
            "    (rnn): GRU(64, 2048, bidirectional=True)\n",
            "    (linear): Linear(in_features=4096, out_features=27, bias=True)\n",
            "  )\n",
            "  (prediction_model): RNNTBlock(\n",
            "    (rnn): GRU(1, 2048)\n",
            "    (linear): Linear(in_features=2048, out_features=27, bias=True)\n",
            "  )\n",
            ")\n",
            "Number of parameters: 38,744,118\n"
          ],
          "name": "stdout"
        }
      ]
    },
    {
      "cell_type": "markdown",
      "metadata": {
        "id": "ctUcSbkZT0Qg"
      },
      "source": [
        "Here is an example showing how to use the RNN Transducer loss in PyTorch with a corresponding model. The loss function defined below takes as input a tensor of size\n",
        "```\n",
        "(batch size) x (input length) x (target length) x (number of classes including blank)\n",
        "```\n",
        "Note the difference in expected shape when compared to the previous case with CTC. The tensor given to the RNN-T loss also carries information about what has been outputed."
      ]
    },
    {
      "cell_type": "code",
      "metadata": {
        "id": "TWIgDQtobx__"
      },
      "source": [
        "def rnnt_criterion(outputs, targets, output_lengths, target_lengths):\n",
        "    \"\"\"\n",
        "    Apply the log softmax, and the RNN-T loss.\n",
        "\n",
        "    Input:\n",
        "    outputs: tensor of size (batch size, input length, output length, number of classes including blank) containing output from network\n",
        "    targets: tensor of size (batch size, max target length) containing the targets with zero padded\n",
        "    output_lengths: tensor of size (batch size) containing the length of each output sequence\n",
        "    target_lengths: tensor of size (batch size) containing the length of each target\n",
        "    \"\"\"\n",
        "\n",
        "    # acts: Tensor of (batch x seqLength x labelLength x outputDim) containing output from network\n",
        "    # labels: 2 dimensional Tensor containing all the targets of the batch with zero padded\n",
        "    # act_lens: Tensor of size (batch) containing size of each output sequence from the network\n",
        "    # label_lens: Tensor of (batch) containing label length of each example\n",
        "    return rnnt_loss(outputs, targets, output_lengths, target_lengths)"
      ],
      "execution_count": 22,
      "outputs": []
    },
    {
      "cell_type": "markdown",
      "metadata": {
        "id": "zQcJcn0UUBim"
      },
      "source": [
        "Let's compute the error with an untrained model."
      ]
    },
    {
      "cell_type": "code",
      "metadata": {
        "colab": {
          "base_uri": "https://localhost:8080/"
        },
        "id": "KoHFgfpYArSU",
        "outputId": "4124f5b9-c0cc-43b9-a8ff-f8688855f20e"
      },
      "source": [
        "data, target, _, data_length, target_length = next(iter(train_loader))\n",
        "print(data.shape, target.shape, data_length.shape, target_length.shape)\n",
        "\n",
        "data = data.to(device)\n",
        "target = target.to(device)\n",
        "\n",
        "# start with zero\n",
        "target = torch.nn.functional.pad(target, (1,0,0,0), mode='constant', value=0)\n",
        "print(\"target shape\", target.shape)\n",
        "data = rnnt_model(data, target)\n",
        "print(\"output\", data.shape, target.shape, data_length.shape, target_length.shape)\n",
        "\n",
        "loss = rnnt_criterion(\n",
        "    data,\n",
        "    target,\n",
        "    data_length,\n",
        "    target_length,\n",
        ")\n",
        "\n",
        "# This number will be large given that we have not trained the model :)\n",
        "print(loss.item())"
      ],
      "execution_count": 23,
      "outputs": [
        {
          "output_type": "stream",
          "text": [
            "torch.Size([64, 1, 64, 81]) torch.Size([64, 8]) torch.Size([64]) torch.Size([64])\n",
            "target shape torch.Size([64, 9])\n",
            "output torch.Size([64, 81, 9, 27]) torch.Size([64, 9]) torch.Size([64]) torch.Size([64])\n",
            "276.99346923828125\n"
          ],
          "name": "stdout"
        }
      ]
    },
    {
      "cell_type": "code",
      "metadata": {
        "colab": {
          "base_uri": "https://localhost:8080/"
        },
        "id": "ZPD9E54tCILq",
        "outputId": "cf7424c3-42e0-4ed1-ebd5-2ffe612f5390"
      },
      "source": [
        "data, target, _, data_length, target_length = next(iter(train_loader))\n",
        "print(data.shape, target.shape, data_length.shape, target_length.shape)\n",
        "\n",
        "data = data.to(device)\n",
        "\n",
        "data = data.squeeze().permute(0, 2, 1)\n",
        "data, _ = rnnt_model.transcription_model(data)\n",
        "print(data.shape)\n",
        "\n",
        "print(\"target\", target.shape)\n",
        "target = target.to(device)\n",
        "target = torch.nn.functional.pad(target, (1,0,0,0), mode='constant', value=0)\n",
        "print(\"target\", target.shape)\n",
        "target = target.unsqueeze(-1).to(torch.float32)\n",
        "print(\"target\", target.shape)\n",
        "target, _ = rnnt_model.prediction_model(target)\n",
        "print(target.shape)"
      ],
      "execution_count": 24,
      "outputs": [
        {
          "output_type": "stream",
          "text": [
            "torch.Size([64, 1, 64, 81]) torch.Size([64, 8]) torch.Size([64]) torch.Size([64])\n",
            "torch.Size([64, 81, 27])\n",
            "target torch.Size([64, 8])\n",
            "target torch.Size([64, 9])\n",
            "target torch.Size([64, 9, 1])\n",
            "torch.Size([64, 9, 27])\n"
          ],
          "name": "stdout"
        }
      ]
    },
    {
      "cell_type": "markdown",
      "metadata": {
        "id": "C_QGVzMiUFtW"
      },
      "source": [
        "And let's see what word the model assigns to the data point."
      ]
    },
    {
      "cell_type": "code",
      "metadata": {
        "colab": {
          "base_uri": "https://localhost:8080/",
          "height": 494
        },
        "id": "2xpenS3oFWb5",
        "outputId": "2ce1d276-a4b1-4e01-eae6-84ba342bf6aa"
      },
      "source": [
        "def log_sum_exp(a, b):\n",
        "    \"\"\"\n",
        "    Stable log sum exp.\n",
        "    \"\"\"\n",
        "    return max(a, b) + math.log1p(math.exp(-abs(a-b)))\n",
        "\n",
        "# STATIC RNNT DECODER\n",
        "def rnnt_decode(log_probs, beam_size=1000, blank=0):\n",
        "    \"\"\"\n",
        "    Decode best prefix in the RNN Transducer. This decoder is static, it does\n",
        "    not update the next step distribution based on the previous prediction. As\n",
        "    such it looks for hypotheses which are length U.\n",
        "\n",
        "    https://github.com/awni/transducer/blob/master/decoders.py\n",
        "    \"\"\"\n",
        "    T, U, V = log_probs.shape\n",
        "    beam = [((), 0)];\n",
        "    for i in range(T + U - 2):\n",
        "        new_beam = {}\n",
        "        for hyp, score in beam:\n",
        "            u = len(hyp)\n",
        "            t = i - u\n",
        "            for v in range(V):\n",
        "                if v == blank:\n",
        "                    if t < T - 1:\n",
        "                        new_hyp = hyp\n",
        "                        new_score = score + log_probs[t, u, v]\n",
        "                elif u < U - 1:\n",
        "                    new_hyp = hyp + (v,)\n",
        "                    new_score = score + log_probs[t, u, v]\n",
        "                else:\n",
        "                    continue\n",
        "\n",
        "                old_score = new_beam.get(new_hyp, None)\n",
        "                if old_score is not None:\n",
        "                    new_beam[new_hyp] = log_sum_exp(old_score, new_score)\n",
        "                else:\n",
        "                    new_beam[new_hyp] = new_score\n",
        "\n",
        "        new_beam = sorted(new_beam.items(), key=lambda x: x[1], reverse=True)\n",
        "        beam = new_beam[:beam_size]\n",
        "\n",
        "    hyp, score = beam[0]\n",
        "    # best_score = score + log_probs[-1, -1, blank]\n",
        "    return hyp\n",
        "\n",
        "\n",
        "word = indices_to_label(target[0])\n",
        "\n",
        "indices = data[0, ...]\n",
        "decoded = rnnt_decode(indices)\n",
        "word_recovered = indices_to_label(decoded)\n",
        "\n",
        "# The result will be far from the target since we have not trained the model :)\n",
        "print(word, \"-->\", decoded, \"-->\", word_recovered)"
      ],
      "execution_count": 25,
      "outputs": [
        {
          "output_type": "error",
          "ename": "TypeError",
          "evalue": "ignored",
          "traceback": [
            "\u001b[0;31m---------------------------------------------------------------------------\u001b[0m",
            "\u001b[0;31mTypeError\u001b[0m                                 Traceback (most recent call last)",
            "\u001b[0;32m<ipython-input-25-0e8c599513a4>\u001b[0m in \u001b[0;36m<module>\u001b[0;34m()\u001b[0m\n\u001b[1;32m     46\u001b[0m \u001b[0;34m\u001b[0m\u001b[0m\n\u001b[1;32m     47\u001b[0m \u001b[0;34m\u001b[0m\u001b[0m\n\u001b[0;32m---> 48\u001b[0;31m \u001b[0mword\u001b[0m \u001b[0;34m=\u001b[0m \u001b[0mindices_to_label\u001b[0m\u001b[0;34m(\u001b[0m\u001b[0mtarget\u001b[0m\u001b[0;34m[\u001b[0m\u001b[0;36m0\u001b[0m\u001b[0;34m]\u001b[0m\u001b[0;34m)\u001b[0m\u001b[0;34m\u001b[0m\u001b[0;34m\u001b[0m\u001b[0m\n\u001b[0m\u001b[1;32m     49\u001b[0m \u001b[0;34m\u001b[0m\u001b[0m\n\u001b[1;32m     50\u001b[0m \u001b[0mindices\u001b[0m \u001b[0;34m=\u001b[0m \u001b[0mdata\u001b[0m\u001b[0;34m[\u001b[0m\u001b[0;36m0\u001b[0m\u001b[0;34m,\u001b[0m \u001b[0;34m...\u001b[0m\u001b[0;34m]\u001b[0m\u001b[0;34m\u001b[0m\u001b[0;34m\u001b[0m\u001b[0m\n",
            "\u001b[0;32m<ipython-input-12-7558d981404f>\u001b[0m in \u001b[0;36mindices_to_label\u001b[0;34m(indices)\u001b[0m\n\u001b[1;32m     11\u001b[0m     \u001b[0;31m# Return the word corresponding to indices\u001b[0m\u001b[0;34m\u001b[0m\u001b[0;34m\u001b[0m\u001b[0;34m\u001b[0m\u001b[0m\n\u001b[1;32m     12\u001b[0m     \u001b[0;31m# This is a near inverse of label_to_indices\u001b[0m\u001b[0;34m\u001b[0m\u001b[0;34m\u001b[0m\u001b[0;34m\u001b[0m\u001b[0m\n\u001b[0;32m---> 13\u001b[0;31m     \u001b[0;32mreturn\u001b[0m \u001b[0;34m\"\"\u001b[0m\u001b[0;34m.\u001b[0m\u001b[0mjoin\u001b[0m\u001b[0;34m(\u001b[0m\u001b[0mchars\u001b[0m\u001b[0;34m[\u001b[0m\u001b[0mind\u001b[0m\u001b[0;34m]\u001b[0m \u001b[0;32mfor\u001b[0m \u001b[0mind\u001b[0m \u001b[0;32min\u001b[0m \u001b[0mindices\u001b[0m\u001b[0;34m)\u001b[0m\u001b[0;34m.\u001b[0m\u001b[0mreplace\u001b[0m\u001b[0;34m(\u001b[0m\u001b[0mchar_blank\u001b[0m\u001b[0;34m,\u001b[0m \u001b[0;34m\"\"\u001b[0m\u001b[0;34m)\u001b[0m\u001b[0;34m\u001b[0m\u001b[0;34m\u001b[0m\u001b[0m\n\u001b[0m\u001b[1;32m     14\u001b[0m \u001b[0;34m\u001b[0m\u001b[0m\n\u001b[1;32m     15\u001b[0m \u001b[0;34m\u001b[0m\u001b[0m\n",
            "\u001b[0;32m<ipython-input-12-7558d981404f>\u001b[0m in \u001b[0;36m<genexpr>\u001b[0;34m(.0)\u001b[0m\n\u001b[1;32m     11\u001b[0m     \u001b[0;31m# Return the word corresponding to indices\u001b[0m\u001b[0;34m\u001b[0m\u001b[0;34m\u001b[0m\u001b[0;34m\u001b[0m\u001b[0m\n\u001b[1;32m     12\u001b[0m     \u001b[0;31m# This is a near inverse of label_to_indices\u001b[0m\u001b[0;34m\u001b[0m\u001b[0;34m\u001b[0m\u001b[0;34m\u001b[0m\u001b[0m\n\u001b[0;32m---> 13\u001b[0;31m     \u001b[0;32mreturn\u001b[0m \u001b[0;34m\"\"\u001b[0m\u001b[0;34m.\u001b[0m\u001b[0mjoin\u001b[0m\u001b[0;34m(\u001b[0m\u001b[0mchars\u001b[0m\u001b[0;34m[\u001b[0m\u001b[0mind\u001b[0m\u001b[0;34m]\u001b[0m \u001b[0;32mfor\u001b[0m \u001b[0mind\u001b[0m \u001b[0;32min\u001b[0m \u001b[0mindices\u001b[0m\u001b[0;34m)\u001b[0m\u001b[0;34m.\u001b[0m\u001b[0mreplace\u001b[0m\u001b[0;34m(\u001b[0m\u001b[0mchar_blank\u001b[0m\u001b[0;34m,\u001b[0m \u001b[0;34m\"\"\u001b[0m\u001b[0;34m)\u001b[0m\u001b[0;34m\u001b[0m\u001b[0;34m\u001b[0m\u001b[0m\n\u001b[0m\u001b[1;32m     14\u001b[0m \u001b[0;34m\u001b[0m\u001b[0m\n\u001b[1;32m     15\u001b[0m \u001b[0;34m\u001b[0m\u001b[0m\n",
            "\u001b[0;31mTypeError\u001b[0m: only integer tensors of a single element can be converted to an index"
          ]
        }
      ]
    },
    {
      "cell_type": "code",
      "metadata": {
        "colab": {
          "base_uri": "https://localhost:8080/",
          "height": 307
        },
        "id": "TzbuvyxIVV2e",
        "outputId": "439dfbd5-a57f-4278-e82b-16b8fe7ab5c5"
      },
      "source": [
        "indices_to_label(target[0])"
      ],
      "execution_count": 30,
      "outputs": [
        {
          "output_type": "error",
          "ename": "TypeError",
          "evalue": "ignored",
          "traceback": [
            "\u001b[0;31m---------------------------------------------------------------------------\u001b[0m",
            "\u001b[0;31mTypeError\u001b[0m                                 Traceback (most recent call last)",
            "\u001b[0;32m<ipython-input-30-83fc7ad7b559>\u001b[0m in \u001b[0;36m<module>\u001b[0;34m()\u001b[0m\n\u001b[0;32m----> 1\u001b[0;31m \u001b[0mindices_to_label\u001b[0m\u001b[0;34m(\u001b[0m\u001b[0mtarget\u001b[0m\u001b[0;34m[\u001b[0m\u001b[0;36m0\u001b[0m\u001b[0;34m]\u001b[0m\u001b[0;34m)\u001b[0m\u001b[0;34m\u001b[0m\u001b[0;34m\u001b[0m\u001b[0m\n\u001b[0m",
            "\u001b[0;32m<ipython-input-12-7558d981404f>\u001b[0m in \u001b[0;36mindices_to_label\u001b[0;34m(indices)\u001b[0m\n\u001b[1;32m     11\u001b[0m     \u001b[0;31m# Return the word corresponding to indices\u001b[0m\u001b[0;34m\u001b[0m\u001b[0;34m\u001b[0m\u001b[0;34m\u001b[0m\u001b[0m\n\u001b[1;32m     12\u001b[0m     \u001b[0;31m# This is a near inverse of label_to_indices\u001b[0m\u001b[0;34m\u001b[0m\u001b[0;34m\u001b[0m\u001b[0;34m\u001b[0m\u001b[0m\n\u001b[0;32m---> 13\u001b[0;31m     \u001b[0;32mreturn\u001b[0m \u001b[0;34m\"\"\u001b[0m\u001b[0;34m.\u001b[0m\u001b[0mjoin\u001b[0m\u001b[0;34m(\u001b[0m\u001b[0mchars\u001b[0m\u001b[0;34m[\u001b[0m\u001b[0mind\u001b[0m\u001b[0;34m]\u001b[0m \u001b[0;32mfor\u001b[0m \u001b[0mind\u001b[0m \u001b[0;32min\u001b[0m \u001b[0mindices\u001b[0m\u001b[0;34m)\u001b[0m\u001b[0;34m.\u001b[0m\u001b[0mreplace\u001b[0m\u001b[0;34m(\u001b[0m\u001b[0mchar_blank\u001b[0m\u001b[0;34m,\u001b[0m \u001b[0;34m\"\"\u001b[0m\u001b[0;34m)\u001b[0m\u001b[0;34m\u001b[0m\u001b[0;34m\u001b[0m\u001b[0m\n\u001b[0m\u001b[1;32m     14\u001b[0m \u001b[0;34m\u001b[0m\u001b[0m\n\u001b[1;32m     15\u001b[0m \u001b[0;34m\u001b[0m\u001b[0m\n",
            "\u001b[0;32m<ipython-input-12-7558d981404f>\u001b[0m in \u001b[0;36m<genexpr>\u001b[0;34m(.0)\u001b[0m\n\u001b[1;32m     11\u001b[0m     \u001b[0;31m# Return the word corresponding to indices\u001b[0m\u001b[0;34m\u001b[0m\u001b[0;34m\u001b[0m\u001b[0;34m\u001b[0m\u001b[0m\n\u001b[1;32m     12\u001b[0m     \u001b[0;31m# This is a near inverse of label_to_indices\u001b[0m\u001b[0;34m\u001b[0m\u001b[0;34m\u001b[0m\u001b[0;34m\u001b[0m\u001b[0m\n\u001b[0;32m---> 13\u001b[0;31m     \u001b[0;32mreturn\u001b[0m \u001b[0;34m\"\"\u001b[0m\u001b[0;34m.\u001b[0m\u001b[0mjoin\u001b[0m\u001b[0;34m(\u001b[0m\u001b[0mchars\u001b[0m\u001b[0;34m[\u001b[0m\u001b[0mind\u001b[0m\u001b[0;34m]\u001b[0m \u001b[0;32mfor\u001b[0m \u001b[0mind\u001b[0m \u001b[0;32min\u001b[0m \u001b[0mindices\u001b[0m\u001b[0;34m)\u001b[0m\u001b[0;34m.\u001b[0m\u001b[0mreplace\u001b[0m\u001b[0;34m(\u001b[0m\u001b[0mchar_blank\u001b[0m\u001b[0;34m,\u001b[0m \u001b[0;34m\"\"\u001b[0m\u001b[0;34m)\u001b[0m\u001b[0;34m\u001b[0m\u001b[0;34m\u001b[0m\u001b[0m\n\u001b[0m\u001b[1;32m     14\u001b[0m \u001b[0;34m\u001b[0m\u001b[0m\n\u001b[1;32m     15\u001b[0m \u001b[0;34m\u001b[0m\u001b[0m\n",
            "\u001b[0;31mTypeError\u001b[0m: only integer tensors of a single element can be converted to an index"
          ]
        }
      ]
    },
    {
      "cell_type": "markdown",
      "metadata": {
        "id": "uTEJwty6ZFAf"
      },
      "source": [
        "# Training\n",
        "\n",
        "We will use the same optimization technique used in the paper, an Adam\n",
        "optimizer with weight decay set to 0.0001. At first, we will train with\n",
        "a learning rate of 0.01, but we will use a ``scheduler`` to decrease it\n",
        "to 0.001 during training after 20 epochs.\n",
        "\n",
        "\n"
      ]
    },
    {
      "cell_type": "code",
      "metadata": {
        "id": "qYUQ-t7GJsAi"
      },
      "source": [
        "# model, criterion = ctc_model, ctc_criterion\n",
        "model, criterion = rnnt_model, rnnt_criterion"
      ],
      "execution_count": null,
      "outputs": []
    },
    {
      "cell_type": "code",
      "metadata": {
        "id": "wENZfNmLZFAg"
      },
      "source": [
        "# optimizer = optim.Adam(model.parameters(), lr=0.01, weight_decay=0.0001)\n",
        "\n",
        "\"\"\"\n",
        "optim.Adadelta(\n",
        "    model.parameters(),\n",
        "    lr=0.6,\n",
        "    weight_decay=1e-5,\n",
        "    eps=1e-8,\n",
        "    rho=0.95,\n",
        ")\n",
        "\"\"\"\n",
        "\n",
        "# https://github.com/silversparro/wav2letter.pytorch/blob/master/train.py\n",
        "optimizer = optim.SGD(\n",
        "    model.parameters(),\n",
        "    # lr=0.6,\n",
        "    # lr=0.3,\n",
        "    # lr=0.1,\n",
        "    lr=0.0001,\n",
        "    # lr=1e-5,\n",
        "    # weight_decay=1e-5,\n",
        "    momentum=0.90,\n",
        "    nesterov=True,\n",
        ")\n",
        "\n",
        "# scheduler = optim.lr_scheduler.ExponentialLR(optimizer, 0.995)\n",
        "# scheduler = optim.lr_scheduler.CyclicLR(optimizer, base_lr=.06, max_lr=.6, step_size_up=100)\n",
        "# scheduler = optim.lr_scheduler.StepLR(optimizer, step_size=20*300, gamma=0.1)  # reduce the learning after 20 epochs by a factor of 10\n",
        "# scheduler = torch.optim.swa_utils.SWALR(optimizer, anneal_strategy=\"linear\", anneal_epochs=5, swa_lr=0.05)\n",
        "# scheduler = optim.lr_scheduler.CosineAnnealingLR(optimizer, T_max=50)"
      ],
      "execution_count": null,
      "outputs": []
    },
    {
      "cell_type": "markdown",
      "metadata": {
        "id": "knfmycU8ZFAg"
      },
      "source": [
        "Now let’s define a training function that will feed our training data\n",
        "into the model and perform the backward pass and optimization steps. For\n",
        "training, the loss we will use is the negative log-likelihood. The\n",
        "network will then be tested after each epoch to see how the accuracy\n",
        "varies during the training.\n",
        "\n",
        "\n"
      ]
    },
    {
      "cell_type": "code",
      "metadata": {
        "id": "KadJFlH0ZFAg"
      },
      "source": [
        "negative_batches = []\n",
        "def train(model, epoch, log_interval):\n",
        "    model.train()\n",
        "    # for batch_idx, (data, target, _, data_length, target_length) in enumerate(train_loader):\n",
        "    while True:\n",
        "        batch_idx, (data, target, _, data_length, target_length) = next(iter(enumerate(train_loader)))\n",
        "\n",
        "        data = data.to(device)\n",
        "        target = target.to(device)\n",
        "\n",
        "        target = torch.nn.functional.pad(target, (1,0,0,0), mode='constant', value=0)\n",
        "        data = model(data, target)\n",
        "\n",
        "        loss = criterion(\n",
        "            data,\n",
        "            target,\n",
        "            data_length,\n",
        "            target_length,\n",
        "        )\n",
        "        \n",
        "        optimizer.zero_grad()\n",
        "        loss.backward()\n",
        "        optimizer.step()\n",
        "        \n",
        "        lrs.append(optimizer.param_groups[0][\"lr\"])\n",
        "        \n",
        "        # https://stackoverflow.com/questions/53405934/how-to-print-the-actual-learning-rate-in-adadelta-in-pytorch\n",
        "        # acc_deltas = [optimizer.state[i][\"acc_delta\"] for i in optimizer.state.keys() if \"acc_delta\" in optimizer.state[i].keys()]\n",
        "        # print(acc_deltas)\n",
        "        \n",
        "        # scheduler.step()\n",
        "\n",
        "        # print training stats\n",
        "        if batch_idx % log_interval == 0:\n",
        "            print(f\"Train Epoch: {epoch} [{batch_idx * len(data)}/{len(train_loader.dataset)} ({100. * batch_idx / len(train_loader):.0f}%)]\\tLoss: {loss.item():.6f}\")\n",
        "\n",
        "        # update progress bar\n",
        "        pbar.update(pbar_update)\n",
        "        # record loss\n",
        "        losses.append(loss.item())\n",
        "\n",
        "        if loss < 0:\n",
        "          print(batch_idx)\n",
        "          negative_batches.append(batch_idx)"
      ],
      "execution_count": null,
      "outputs": []
    },
    {
      "cell_type": "markdown",
      "metadata": {
        "id": "pTl5mTrpZFAg"
      },
      "source": [
        "Now that we have a training function, we need to make one for testing\n",
        "the networks accuracy. We will set the model to ``eval()`` mode and then\n",
        "run inference on the test dataset. Calling ``eval()`` sets the training\n",
        "variable in all modules in the network to false. Certain layers like\n",
        "batch normalization and dropout layers behave differently during\n",
        "training so this step is crucial for getting correct results.\n",
        "\n",
        "\n"
      ]
    },
    {
      "cell_type": "markdown",
      "metadata": {
        "id": "r0hzu2KYZFAh"
      },
      "source": [
        "Finally, we can train and test the network. We will train the network\n",
        "for ten epochs then reduce the learn rate and train for ten more epochs.\n",
        "The network will be tested after each epoch to see how the accuracy\n",
        "varies during the training.\n",
        "\n",
        "\n"
      ]
    },
    {
      "cell_type": "code",
      "metadata": {
        "id": "tOdMrT9oZFAh"
      },
      "source": [
        "log_interval = 20\n",
        "n_epoch = 100\n",
        "\n",
        "pbar_update = 1 / len(train_loader)\n",
        "losses, lrs = [], []\n",
        "\n",
        "torch.autograd.set_detect_anomaly(False)                                                                                                                                \n",
        "\n",
        "# The transform needs to live on the same device as the model and the data.\n",
        "# transform = transform.to(device)\n",
        "with tqdm(total=n_epoch) as pbar:\n",
        "    for epoch in range(1, n_epoch + 1):\n",
        "        train(model, epoch, log_interval)\n",
        "        # scheduler.step()"
      ],
      "execution_count": null,
      "outputs": []
    },
    {
      "cell_type": "code",
      "metadata": {
        "id": "3PS-8aez7qb4"
      },
      "source": [
        "# Let's plot the training loss versus the number of iteration.\n",
        "plt.plot(losses)\n",
        "plt.yscale(\"log\")\n",
        "plt.title(\"training loss\");"
      ],
      "execution_count": null,
      "outputs": []
    },
    {
      "cell_type": "code",
      "metadata": {
        "id": "VyOQE0vKsemw"
      },
      "source": [
        "# Let's plot the training loss versus the number of iteration.\n",
        "plt.plot(lrs)\n",
        "plt.title(\"learning rate\");"
      ],
      "execution_count": null,
      "outputs": []
    },
    {
      "cell_type": "markdown",
      "metadata": {
        "id": "0wyTP-3K_GXS"
      },
      "source": [
        "Conclusion\n",
        "----------\n",
        "\n",
        "In this tutorial, we have used torchaudio to compare the CTC and the RNN Transducer losses with simple models to compare them."
      ]
    },
    {
      "cell_type": "code",
      "metadata": {
        "id": "TPrO5zEh2k4F"
      },
      "source": [
        ""
      ],
      "execution_count": null,
      "outputs": []
    },
    {
      "cell_type": "markdown",
      "metadata": {
        "id": "GzUAfWIg2lia"
      },
      "source": [
        "# WIP"
      ]
    },
    {
      "cell_type": "code",
      "metadata": {
        "id": "D0mPw80caaww"
      },
      "source": [
        "# ZT RNNT DECODER, EXPERIMENT\n",
        "\n",
        "\n",
        "def model_encoder(x):\n",
        "    x = x.squeeze().permute(0, 2, 1)\n",
        "    x, _ = rnnt_model.transcription_model(x)\n",
        "    x = x.unsqueeze(2)\n",
        "    # Fewer exponential by doing it on x and y instead of x + y\n",
        "    # x = torch.exp(x)\n",
        "    return x\n",
        "  \n",
        "\n",
        "def model_decoder(y, hidden=None):\n",
        "    # y = torch.nn.functional.pad(y, (1,0,0,0), mode='constant', value=0)\n",
        "        \n",
        "    y = y.unsqueeze(-1).to(torch.float32)\n",
        "    \n",
        "    if hidden is None:\n",
        "        y, hidden = rnnt_model.prediction_model(y)\n",
        "    else:\n",
        "        y, hidden = rnnt_model.prediction_model(y, hidden)\n",
        "\n",
        "    y = y.unsqueeze(1)\n",
        "\n",
        "    # Fewer exponential by doing it on x and y instead of x + y\n",
        "    # y = torch.exp(y)\n",
        "\n",
        "    return y, hidden\n",
        "\n",
        "\n",
        "def model_joint(x, y):\n",
        "    return x + y\n",
        "\n",
        "\n",
        "# def rnnt_decode_zt(model, inputs, input_lengths):\n",
        "def rnnt_decode_zt(inputs):\n",
        "    # https://github.com/ZhengkunTian/rnn-transducer/blob/master/rnnt/search.py\n",
        "\n",
        "    # assert inputs.dim() == 3\n",
        "    # f = [batch_size, time_step, feature_dim]\n",
        "    # f, _ = model.encoder(inputs, input_lengths)\n",
        "    # print(\"begin\", inputs.shape)\n",
        "    f = model_encoder(inputs)\n",
        "\n",
        "    zero_token = torch.LongTensor([[0]], device=inputs.device)\n",
        "    # print(\"zero_token shape\", zero_token.shape)\n",
        "\n",
        "    results = []\n",
        "    batch_size = inputs.size(0)\n",
        "\n",
        "    # def decode(inputs, inputs):\n",
        "    def decode(inputs):\n",
        "        lengths = len(inputs)\n",
        "\n",
        "        log_prob = 0\n",
        "        token_list = []\n",
        "        gu, hidden = model_decoder(zero_token)\n",
        "        # print(\"start gu shape\", gu.shape)\n",
        "        \n",
        "        for t in range(lengths):\n",
        "            # print(\"begin loop\", inputs[t].shape, gu[0].shape)\n",
        "            h = model_joint(inputs[t], gu)\n",
        "            # print(\"after model_joint\", h.shape)\n",
        "            # h = model_joint(inputs[t].view(-1), gu.view(-1))\n",
        "            # out = F.log_softmax(h, dim=0)\n",
        "            out = F.log_softmax(h, dim=-1)\n",
        "            # print(out.shape)\n",
        "            prob, pred = torch.max(out, dim=-1)\n",
        "            # print(prob.shape, pred.shape)\n",
        "            pred = int(pred.item())\n",
        "            log_prob += prob.item()\n",
        "            if pred != 0:\n",
        "                token_list.append(pred)\n",
        "                token = torch.LongTensor([[pred]])\n",
        "                if zero_token.is_cuda:\n",
        "                    token = token.cuda()\n",
        "                gu, hidden = model_decoder(token, hidden=hidden)\n",
        "\n",
        "        return token_list\n",
        "\n",
        "    for i in range(batch_size):\n",
        "        # decoded_seq = decode(f[i], input_lengths[i])\n",
        "        decoded_seq = decode(f[i])\n",
        "        results.append(decoded_seq)\n",
        "\n",
        "    return results\n",
        "\n",
        "\n",
        "inputs, outputs, words, input_length, output_length = next(iter(train_loader))\n",
        "\n",
        "# word = indices_to_label(outputs[0])\n",
        "# indices = data[0, ...].unsqueeze(0)\n",
        "\n",
        "# print(\"inputs shape\", inputs.shape)\n",
        "decoded = rnnt_decode_zt(inputs)\n",
        "word_recovered = [indices_to_label(d) for d in decoded]\n",
        "\n",
        "# The result will be far from the target since we have not trained the model :)\n",
        "print(words[0], \"-->\", decoded[0], \"-->\", word_recovered[0])"
      ],
      "execution_count": null,
      "outputs": []
    },
    {
      "cell_type": "code",
      "metadata": {
        "id": "CDSgBB782ouG"
      },
      "source": [
        "\"\"\"\n",
        "# GREEDY RNN-T DECODER, WIP\n",
        "import math\n",
        "\n",
        "\n",
        "def rnnt_decode(data):\n",
        "    # Experimental greedy RNN-T decoder\n",
        "\n",
        "    i, j = 0, 0\n",
        "    output = []\n",
        "\n",
        "    top, ind = torch.max(data[:,i,j,:], dim=-1)\n",
        "    output.append(ind)\n",
        "\n",
        "    done = False\n",
        "    while not done:\n",
        "        if i+1 < data.shape[1]:\n",
        "            top_i, ind_i = torch.max(data[:,i+1,j,:], dim=-1)\n",
        "        else:\n",
        "            top_i = - math.inf\n",
        "        if j+1 < data.shape[2]:\n",
        "            top_j, ind_j = torch.max(data[:,i,j+1,:], dim=-1)\n",
        "        else:\n",
        "            top_j = - math.inf\n",
        "    \n",
        "        if top_i < -1 and top_j < -1:\n",
        "            break\n",
        "    \n",
        "        if top_i < top_j:\n",
        "            output.append(ind_j)\n",
        "            j += 1\n",
        "        else:\n",
        "            output.append(ind_i)\n",
        "            i += 1\n",
        "    return torch.cat(output)\n",
        "\n",
        "\n",
        "decoded = rnnt_decode(data)\n",
        "word_recovered = indices_to_label(decoded)\n",
        "\n",
        "# The result will be far from the target since we have not trained the model :)\n",
        "print(f'\"{target}\" -->\\n{decoded}\\n--> \"{word_recovered}\"')\n",
        "\"\"\";"
      ],
      "execution_count": null,
      "outputs": []
    }
  ]
}