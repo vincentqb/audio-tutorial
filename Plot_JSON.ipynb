{
 "cells": [
  {
   "cell_type": "code",
   "execution_count": 128,
   "metadata": {},
   "outputs": [],
   "source": [
    "import pandas as pd\n",
    "import json"
   ]
  },
  {
   "cell_type": "raw",
   "metadata": {},
   "source": [
    "Namespace(\n",
    "    batch_size=128,\n",
    "    checkpoint='/checkpoint/vincentqb/checkpoint/checkpoint-27818024-128-.6-.99-13-.8-0.-adadelta-exponential.pth.tar',\n",
    "    clip_grad=0.0, dataset='librispeech', decoder='greedy', distributed=False, epochs=200, eps=1e-08,\n",
    "    gamma=0.99, jit=False, learning_rate=0.6, momentum=0.8, n_bins=13,\n",
    "    optimizer='adadelta', print_freq=10, progress_bar=False, rho=0.95, scheduler='exponential',\n",
    "    seed=0, start_epoch=0, weight_decay=1e-05, workers=0, world_size=8\n",
    ")"
   ]
  },
  {
   "cell_type": "code",
   "execution_count": 129,
   "metadata": {},
   "outputs": [
    {
     "data": {
      "text/html": [
       "<div>\n",
       "<style scoped>\n",
       "    .dataframe tbody tr th:only-of-type {\n",
       "        vertical-align: middle;\n",
       "    }\n",
       "\n",
       "    .dataframe tbody tr th {\n",
       "        vertical-align: top;\n",
       "    }\n",
       "\n",
       "    .dataframe thead th {\n",
       "        text-align: right;\n",
       "    }\n",
       "</style>\n",
       "<table border=\"1\" class=\"dataframe\">\n",
       "  <thead>\n",
       "    <tr style=\"text-align: right;\">\n",
       "      <th></th>\n",
       "      <th>group</th>\n",
       "      <th>loss</th>\n",
       "      <th>n</th>\n",
       "      <th>lr</th>\n",
       "      <th>cer</th>\n",
       "      <th>wer</th>\n",
       "      <th>cer over dataset length</th>\n",
       "      <th>wer over dataset length</th>\n",
       "      <th>cer over target length</th>\n",
       "      <th>wer over target length</th>\n",
       "      <th>target length</th>\n",
       "      <th>dataset length</th>\n",
       "    </tr>\n",
       "  </thead>\n",
       "  <tbody>\n",
       "    <tr>\n",
       "      <th>0</th>\n",
       "      <td>train_iteration</td>\n",
       "      <td>19.149326</td>\n",
       "      <td>0</td>\n",
       "      <td>NaN</td>\n",
       "      <td>NaN</td>\n",
       "      <td>NaN</td>\n",
       "      <td>NaN</td>\n",
       "      <td>NaN</td>\n",
       "      <td>NaN</td>\n",
       "      <td>NaN</td>\n",
       "      <td>NaN</td>\n",
       "      <td>NaN</td>\n",
       "    </tr>\n",
       "    <tr>\n",
       "      <th>1</th>\n",
       "      <td>train_iteration</td>\n",
       "      <td>18.041286</td>\n",
       "      <td>0</td>\n",
       "      <td>NaN</td>\n",
       "      <td>NaN</td>\n",
       "      <td>NaN</td>\n",
       "      <td>NaN</td>\n",
       "      <td>NaN</td>\n",
       "      <td>NaN</td>\n",
       "      <td>NaN</td>\n",
       "      <td>NaN</td>\n",
       "      <td>NaN</td>\n",
       "    </tr>\n",
       "    <tr>\n",
       "      <th>2</th>\n",
       "      <td>train_iteration</td>\n",
       "      <td>5.141327</td>\n",
       "      <td>0</td>\n",
       "      <td>NaN</td>\n",
       "      <td>NaN</td>\n",
       "      <td>NaN</td>\n",
       "      <td>NaN</td>\n",
       "      <td>NaN</td>\n",
       "      <td>NaN</td>\n",
       "      <td>NaN</td>\n",
       "      <td>NaN</td>\n",
       "      <td>NaN</td>\n",
       "    </tr>\n",
       "    <tr>\n",
       "      <th>3</th>\n",
       "      <td>train_iteration</td>\n",
       "      <td>30.528746</td>\n",
       "      <td>0</td>\n",
       "      <td>NaN</td>\n",
       "      <td>NaN</td>\n",
       "      <td>NaN</td>\n",
       "      <td>NaN</td>\n",
       "      <td>NaN</td>\n",
       "      <td>NaN</td>\n",
       "      <td>NaN</td>\n",
       "      <td>NaN</td>\n",
       "      <td>NaN</td>\n",
       "    </tr>\n",
       "    <tr>\n",
       "      <th>4</th>\n",
       "      <td>train_iteration</td>\n",
       "      <td>14.558473</td>\n",
       "      <td>0</td>\n",
       "      <td>NaN</td>\n",
       "      <td>NaN</td>\n",
       "      <td>NaN</td>\n",
       "      <td>NaN</td>\n",
       "      <td>NaN</td>\n",
       "      <td>NaN</td>\n",
       "      <td>NaN</td>\n",
       "      <td>NaN</td>\n",
       "      <td>NaN</td>\n",
       "    </tr>\n",
       "    <tr>\n",
       "      <th>...</th>\n",
       "      <td>...</td>\n",
       "      <td>...</td>\n",
       "      <td>...</td>\n",
       "      <td>...</td>\n",
       "      <td>...</td>\n",
       "      <td>...</td>\n",
       "      <td>...</td>\n",
       "      <td>...</td>\n",
       "      <td>...</td>\n",
       "      <td>...</td>\n",
       "      <td>...</td>\n",
       "      <td>...</td>\n",
       "    </tr>\n",
       "    <tr>\n",
       "      <th>44616</th>\n",
       "      <td>train_iteration</td>\n",
       "      <td>0.027564</td>\n",
       "      <td>0</td>\n",
       "      <td>NaN</td>\n",
       "      <td>NaN</td>\n",
       "      <td>NaN</td>\n",
       "      <td>NaN</td>\n",
       "      <td>NaN</td>\n",
       "      <td>NaN</td>\n",
       "      <td>NaN</td>\n",
       "      <td>NaN</td>\n",
       "      <td>NaN</td>\n",
       "    </tr>\n",
       "    <tr>\n",
       "      <th>44617</th>\n",
       "      <td>train_iteration</td>\n",
       "      <td>0.032508</td>\n",
       "      <td>0</td>\n",
       "      <td>NaN</td>\n",
       "      <td>NaN</td>\n",
       "      <td>NaN</td>\n",
       "      <td>NaN</td>\n",
       "      <td>NaN</td>\n",
       "      <td>NaN</td>\n",
       "      <td>NaN</td>\n",
       "      <td>NaN</td>\n",
       "      <td>NaN</td>\n",
       "    </tr>\n",
       "    <tr>\n",
       "      <th>44618</th>\n",
       "      <td>train_iteration</td>\n",
       "      <td>0.033625</td>\n",
       "      <td>0</td>\n",
       "      <td>NaN</td>\n",
       "      <td>NaN</td>\n",
       "      <td>NaN</td>\n",
       "      <td>NaN</td>\n",
       "      <td>NaN</td>\n",
       "      <td>NaN</td>\n",
       "      <td>NaN</td>\n",
       "      <td>NaN</td>\n",
       "      <td>NaN</td>\n",
       "    </tr>\n",
       "    <tr>\n",
       "      <th>44619</th>\n",
       "      <td>train_epoch</td>\n",
       "      <td>0.023257</td>\n",
       "      <td>0</td>\n",
       "      <td>[0.08119980294421923]</td>\n",
       "      <td>NaN</td>\n",
       "      <td>NaN</td>\n",
       "      <td>NaN</td>\n",
       "      <td>NaN</td>\n",
       "      <td>NaN</td>\n",
       "      <td>NaN</td>\n",
       "      <td>NaN</td>\n",
       "      <td>NaN</td>\n",
       "    </tr>\n",
       "    <tr>\n",
       "      <th>44620</th>\n",
       "      <td>validation</td>\n",
       "      <td>4.449527</td>\n",
       "      <td>0</td>\n",
       "      <td>NaN</td>\n",
       "      <td>94023.0</td>\n",
       "      <td>39818.0</td>\n",
       "      <td>34.978795</td>\n",
       "      <td>14.813244</td>\n",
       "      <td>0.334693</td>\n",
       "      <td>14.813244</td>\n",
       "      <td>2688.0</td>\n",
       "      <td>2688.0</td>\n",
       "    </tr>\n",
       "  </tbody>\n",
       "</table>\n",
       "<p>44621 rows × 12 columns</p>\n",
       "</div>"
      ],
      "text/plain": [
       "                 group       loss  n                     lr      cer      wer  \\\n",
       "0      train_iteration  19.149326  0                    NaN      NaN      NaN   \n",
       "1      train_iteration  18.041286  0                    NaN      NaN      NaN   \n",
       "2      train_iteration   5.141327  0                    NaN      NaN      NaN   \n",
       "3      train_iteration  30.528746  0                    NaN      NaN      NaN   \n",
       "4      train_iteration  14.558473  0                    NaN      NaN      NaN   \n",
       "...                ...        ... ..                    ...      ...      ...   \n",
       "44616  train_iteration   0.027564  0                    NaN      NaN      NaN   \n",
       "44617  train_iteration   0.032508  0                    NaN      NaN      NaN   \n",
       "44618  train_iteration   0.033625  0                    NaN      NaN      NaN   \n",
       "44619      train_epoch   0.023257  0  [0.08119980294421923]      NaN      NaN   \n",
       "44620       validation   4.449527  0                    NaN  94023.0  39818.0   \n",
       "\n",
       "       cer over dataset length  wer over dataset length  \\\n",
       "0                          NaN                      NaN   \n",
       "1                          NaN                      NaN   \n",
       "2                          NaN                      NaN   \n",
       "3                          NaN                      NaN   \n",
       "4                          NaN                      NaN   \n",
       "...                        ...                      ...   \n",
       "44616                      NaN                      NaN   \n",
       "44617                      NaN                      NaN   \n",
       "44618                      NaN                      NaN   \n",
       "44619                      NaN                      NaN   \n",
       "44620                34.978795                14.813244   \n",
       "\n",
       "       cer over target length  wer over target length  target length  \\\n",
       "0                         NaN                     NaN            NaN   \n",
       "1                         NaN                     NaN            NaN   \n",
       "2                         NaN                     NaN            NaN   \n",
       "3                         NaN                     NaN            NaN   \n",
       "4                         NaN                     NaN            NaN   \n",
       "...                       ...                     ...            ...   \n",
       "44616                     NaN                     NaN            NaN   \n",
       "44617                     NaN                     NaN            NaN   \n",
       "44618                     NaN                     NaN            NaN   \n",
       "44619                     NaN                     NaN            NaN   \n",
       "44620                0.334693               14.813244         2688.0   \n",
       "\n",
       "       dataset length  \n",
       "0                 NaN  \n",
       "1                 NaN  \n",
       "2                 NaN  \n",
       "3                 NaN  \n",
       "4                 NaN  \n",
       "...               ...  \n",
       "44616             NaN  \n",
       "44617             NaN  \n",
       "44618             NaN  \n",
       "44619             NaN  \n",
       "44620          2688.0  \n",
       "\n",
       "[44621 rows x 12 columns]"
      ]
     },
     "execution_count": 129,
     "metadata": {},
     "output_type": "execute_result"
    }
   ],
   "source": [
    "# Namespace(batch_size=128, checkpoint='/checkpoint/vincentqb/checkpoint/checkpoint-27818024-128-.6-.99-13-.8-0.-adadelta-exponential.pth.tar', clip_grad=0.0, dataset='librispeech', decoder='greedy', distributed=False, epochs=200, eps=1e-08, gamma=0.99, jit=False, learning_rate=0.6, momentum=0.8, n_bins=13, optimizer='adadelta', print_freq=10, progress_bar=False, rho=0.95, scheduler='exponential', seed=0, start_epoch=0, weight_decay=1e-05, workers=0, world_size=8)\n",
    "filename = \"/checkpoint/vincentqb/jobs/audio-27817666-1.out\"\n",
    "\n",
    "with open(filename, \"r\") as f:\n",
    "    data = f.read()\n",
    "    \n",
    "data = data.replace(\"0: {\", \"{\").replace(\"'\", '\"')\n",
    "data = [json.loads(l) for l in data.splitlines()]\n",
    "data = pd.DataFrame(data)\n",
    "\n",
    "data"
   ]
  },
  {
   "cell_type": "code",
   "execution_count": 130,
   "metadata": {},
   "outputs": [
    {
     "data": {
      "text/plain": [
       "2688.0"
      ]
     },
     "execution_count": 130,
     "metadata": {},
     "output_type": "execute_result"
    }
   ],
   "source": [
    "# This is the number of iterations for one epoch\n",
    "data[\"dataset length\"].max()"
   ]
  },
  {
   "cell_type": "code",
   "execution_count": 131,
   "metadata": {},
   "outputs": [
    {
     "data": {
      "text/plain": [
       "<matplotlib.axes._subplots.AxesSubplot at 0x7f1f6ef8f590>"
      ]
     },
     "execution_count": 131,
     "metadata": {},
     "output_type": "execute_result"
    },
    {
     "data": {
      "image/png": "[encoded data removed]",
      "text/plain": [
       "<Figure size 432x288 with 1 Axes>"
      ]
     },
     "metadata": {
      "needs_background": "light"
     },
     "output_type": "display_data"
    }
   ],
   "source": [
    "data.loc[data[\"group\"] == \"train_iteration\", \"loss\"].plot(logy=True)\n",
    "data.loc[data[\"group\"] == \"validation\", \"loss\"].plot(logy=True)"
   ]
  },
  {
   "cell_type": "code",
   "execution_count": 132,
   "metadata": {},
   "outputs": [
    {
     "data": {
      "text/plain": [
       "<matplotlib.axes._subplots.AxesSubplot at 0x7f1f6f0f7790>"
      ]
     },
     "execution_count": 132,
     "metadata": {},
     "output_type": "execute_result"
    },
    {
     "data": {
      "image/png": "[encoded data removed]",
      "text/plain": [
       "<Figure size 432x288 with 1 Axes>"
      ]
     },
     "metadata": {
      "needs_background": "light"
     },
     "output_type": "display_data"
    }
   ],
   "source": [
    "data.loc[data[\"group\"] == \"validation\", [\"cer over dataset length\", \"wer over dataset length\"]].plot()"
   ]
  },
  {
   "cell_type": "code",
   "execution_count": 133,
   "metadata": {},
   "outputs": [
    {
     "data": {
      "text/plain": [
       "<matplotlib.axes._subplots.AxesSubplot at 0x7f1f6ee74a90>"
      ]
     },
     "execution_count": 133,
     "metadata": {},
     "output_type": "execute_result"
    },
    {
     "data": {
      "image/png": "[encoded data removed]",
      "text/plain": [
       "<Figure size 432x288 with 1 Axes>"
      ]
     },
     "metadata": {
      "needs_background": "light"
     },
     "output_type": "display_data"
    }
   ],
   "source": [
    "data.loc[data[\"group\"] == \"validation\", [\"cer over target length\", \"wer over target length\"]].plot()"
   ]
  }
 ],
 "metadata": {
  "kernelspec": {
   "display_name": "Python 3",
   "language": "python",
   "name": "python3"
  },
  "language_info": {
   "codemirror_mode": {
    "name": "ipython",
    "version": 3
   },
   "file_extension": ".py",
   "mimetype": "text/x-python",
   "name": "python",
   "nbconvert_exporter": "python",
   "pygments_lexer": "ipython3",
   "version": "3.7.6"
  }
 },
 "nbformat": 4,
 "nbformat_minor": 4
}
