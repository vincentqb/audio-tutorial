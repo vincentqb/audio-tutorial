{
 "cells": [
  {
   "cell_type": "code",
   "execution_count": null,
   "metadata": {},
   "outputs": [],
   "source": [
    "class _StridedBuffer:\n",
    "    \n",
    "    def __init__(self, generator, stride, length):\n",
    "        self._generator = generator\n",
    "        self._stride = stride\n",
    "        self._length = length\n",
    "        self._buffer = [None] * stride\n",
    "        self._mod = 0\n",
    "    \n",
    "    def __iter__(self):\n",
    "        return self\n",
    "    \n",
    "    def __next__(self):\n",
    "        while (not self._buffer[0]) or len(self._buffer[0]) < self._length:\n",
    "            item = next(self._generator)\n",
    "            if self._buffer[self._mod]:\n",
    "                self._buffer[self._mod].append(item)\n",
    "            else:\n",
    "                self._buffer[self._mod] = [item]\n",
    "            self._mod = (self._mod + 1) % self._stride\n",
    "        item = self._buffer.pop(0)\n",
    "        self._buffer.append([])\n",
    "        return item"
   ]
  },
  {
   "cell_type": "code",
   "execution_count": 70,
   "metadata": {},
   "outputs": [
    {
     "name": "stdout",
     "output_type": "stream",
     "text": [
      "[0, 2, 4, 6]\n",
      "[1, 3, 5, 8]\n"
     ]
    }
   ],
   "source": [
    "dataset = iter(list(range(10)))\n",
    "\n",
    "for d in StridedBuffer(dataset, 2, 4):\n",
    "    print(d)"
   ]
  }
 ],
 "metadata": {
  "kernelspec": {
   "display_name": "Python 3",
   "language": "python",
   "name": "python3"
  },
  "language_info": {
   "codemirror_mode": {
    "name": "ipython",
    "version": 3
   },
   "file_extension": ".py",
   "mimetype": "text/x-python",
   "name": "python",
   "nbconvert_exporter": "python",
   "pygments_lexer": "ipython3",
   "version": "3.7.6"
  }
 },
 "nbformat": 4,
 "nbformat_minor": 4
}
