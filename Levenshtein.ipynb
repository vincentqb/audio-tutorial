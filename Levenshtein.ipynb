{
 "cells": [
  {
   "cell_type": "code",
   "execution_count": 31,
   "metadata": {},
   "outputs": [],
   "source": [
    "import torch\n",
    "from typing import Optional"
   ]
  },
  {
   "cell_type": "code",
   "execution_count": 32,
   "metadata": {},
   "outputs": [],
   "source": [
    "def levenshtein_distance_list(r, h):\n",
    "\n",
    "    # initialisation\n",
    "    d = [[0] * (len(h)+1)] * (len(r)+1)\n",
    "\n",
    "    # computation\n",
    "    for i in range(1, len(r)+1):\n",
    "        for j in range(1, len(h)+1):\n",
    "\n",
    "            if r[i-1] == h[j-1]:\n",
    "                d[i].append(d[i-1][j-1])\n",
    "            else:\n",
    "                substitution = d[i-1][j-1] + 1\n",
    "                insertion = d[i][j-1] + 1\n",
    "                deletion = d[i-1][j] + 1\n",
    "                d[i].append(min(substitution, insertion, deletion))\n",
    "\n",
    "    return d[len(r)][len(h)]"
   ]
  },
  {
   "cell_type": "code",
   "execution_count": 33,
   "metadata": {},
   "outputs": [],
   "source": [
    "# https://martin-thoma.com/word-error-rate-calculation/\n",
    "\n",
    "\n",
    "def levenshtein_distance(r: str, h: str, device: Optional[str] = None):\n",
    "\n",
    "    # initialisation\n",
    "    d = torch.zeros((2, len(h)+1), dtype=torch.long)  # , device=device)\n",
    "    dold = 0\n",
    "    dnew = 1\n",
    "\n",
    "    # computation\n",
    "    for i in range(1, len(r)+1):\n",
    "        d[dnew, 0] = 0\n",
    "        for j in range(1, len(h)+1):\n",
    "\n",
    "            if r[i-1] == h[j-1]:\n",
    "                d[dnew, j] = d[dnew-1, j-1]\n",
    "            else:\n",
    "                substitution = d[dnew-1, j-1] + 1\n",
    "                insertion = d[dnew, j-1] + 1\n",
    "                deletion = d[dnew-1, j] + 1\n",
    "                d[dnew, j] = min(substitution, insertion, deletion)\n",
    "\n",
    "        dnew, dold = dold, dnew\n",
    "\n",
    "    dist = d[dnew, -1].item()\n",
    "\n",
    "    return dist"
   ]
  },
  {
   "cell_type": "code",
   "execution_count": 34,
   "metadata": {},
   "outputs": [],
   "source": [
    "# https://martin-thoma.com/word-error-rate-calculation/\n",
    "\n",
    "\n",
    "def levenshtein_distance_torch(r: str, h: str, device: Optional[str] = None):\n",
    "\n",
    "    # initialisation\n",
    "    d = torch.zeros((2, len(h)+1), dtype=torch.long)  # , device=device)\n",
    "    dold = 0\n",
    "    dnew = 1\n",
    "\n",
    "    # computation\n",
    "    for i in range(1, len(r)+1):\n",
    "        d[dnew, 0] = 0\n",
    "        for j in range(1, len(h)+1):\n",
    "            # print(r[i-1], h[j-1])\n",
    "            if r[i-1] == h[j-1]:\n",
    "                d[dnew, j] = d[dnew-1, j-1]\n",
    "            else:\n",
    "                substitution = d[dnew-1, j-1] + 1\n",
    "                insertion = d[dnew, j-1] + 1\n",
    "                deletion = d[dnew-1, j] + 1\n",
    "                d[dnew, j] = min(substitution, insertion, deletion)\n",
    "\n",
    "        dnew, dold = dold, dnew\n",
    "\n",
    "    dist = d[dnew, -1].item()\n",
    "\n",
    "    return dist"
   ]
  },
  {
   "cell_type": "code",
   "execution_count": 35,
   "metadata": {},
   "outputs": [],
   "source": [
    "# https://martin-thoma.com/word-error-rate-calculation/\n",
    "def levenshtein_distance_list_2(r: str, h: str):\n",
    "\n",
    "    # initialisation\n",
    "    dold = list(range(len(h)+1))\n",
    "    dnew = list(0 for _ in range(len(h)+1))\n",
    "\n",
    "    # computation\n",
    "    for i in range(1, len(r)+1):\n",
    "        dnew[0] = i\n",
    "        for j in range(1, len(h)+1):\n",
    "            if r[i-1] == h[j-1]:\n",
    "                dnew[j] = dold[j-1]\n",
    "            else:\n",
    "                substitution = dold[j-1] + 1\n",
    "                insertion = dnew[j-1] + 1\n",
    "                deletion = dold[j] + 1\n",
    "                dnew[j] = min(substitution, insertion, deletion)\n",
    "\n",
    "        dnew, dold = dold, dnew\n",
    "\n",
    "    return dold[-1]"
   ]
  },
  {
   "cell_type": "code",
   "execution_count": 36,
   "metadata": {},
   "outputs": [],
   "source": [
    "def levenshtein_distance_list_3(r, h):\n",
    "\n",
    "    # initialisation\n",
    "    d = [[0] * (len(h)+1)] * 2\n",
    "\n",
    "    # computation\n",
    "    for i in range(1, len(r)+1):\n",
    "        for j in range(1, len(h)+1):\n",
    "\n",
    "            if r[i-1 % 2] == h[j-1]:\n",
    "                d[i].append(d[i-1%2][j-1])\n",
    "            else:\n",
    "                substitution = d[i-1%2][j-1] + 1\n",
    "                insertion = d[i%2][j-1] + 1\n",
    "                deletion = d[i-1%2][j] + 1\n",
    "                d[i].append(min(substitution, insertion, deletion))\n",
    "\n",
    "    # print(d)\n",
    "    return d[len(r)][len(h)]"
   ]
  },
  {
   "cell_type": "code",
   "execution_count": 37,
   "metadata": {},
   "outputs": [],
   "source": [
    "def levenshtein_distance_numpy(r, h):\n",
    "    # initialisation\n",
    "    import numpy\n",
    "\n",
    "    d = numpy.zeros((len(r) + 1) * (len(h) + 1), dtype=numpy.uint8)\n",
    "    d = d.reshape((len(r) + 1, len(h) + 1))\n",
    "    for i in range(len(r) + 1):\n",
    "        for j in range(len(h) + 1):\n",
    "            if i == 0:\n",
    "                d[0][j] = j\n",
    "            elif j == 0:\n",
    "                d[i][0] = i\n",
    "\n",
    "    # computation\n",
    "    for i in range(1, len(r) + 1):\n",
    "        for j in range(1, len(h) + 1):\n",
    "            if r[i - 1] == h[j - 1]:\n",
    "                d[i][j] = d[i - 1][j - 1]\n",
    "            else:\n",
    "                substitution = d[i - 1][j - 1] + 1\n",
    "                insertion = d[i][j - 1] + 1\n",
    "                deletion = d[i - 1][j] + 1\n",
    "                d[i][j] = min(substitution, insertion, deletion)\n",
    "\n",
    "    return d[len(r)][len(h)]"
   ]
  },
  {
   "cell_type": "code",
   "execution_count": 38,
   "metadata": {},
   "outputs": [
    {
     "data": {
      "text/plain": [
       "False"
      ]
     },
     "execution_count": 38,
     "metadata": {},
     "output_type": "execute_result"
    }
   ],
   "source": [
    "r = \"ab\"\n",
    "h = \"cc\"\n",
    "levenshtein_distance(r, h) == 2"
   ]
  },
  {
   "cell_type": "code",
   "execution_count": 40,
   "metadata": {},
   "outputs": [
    {
     "name": "stdout",
     "output_type": "stream",
     "text": [
      "2.7 ms ± 3.1 µs per loop (mean ± std. dev. of 7 runs, 100 loops each)\n",
      "2.69 ms ± 2.8 µs per loop (mean ± std. dev. of 7 runs, 100 loops each)\n",
      "1.45 ms ± 1.54 µs per loop (mean ± std. dev. of 7 runs, 1000 loops each)\n",
      "42.1 µs ± 65.7 ns per loop (mean ± std. dev. of 7 runs, 10000 loops each)\n",
      "35.2 µs ± 29 ns per loop (mean ± std. dev. of 7 runs, 10000 loops each)\n"
     ]
    }
   ],
   "source": [
    "r = \"abcdddee\"\n",
    "h = \"abcddde\"\n",
    "\n",
    "%timeit levenshtein_distance(r, h)\n",
    "%timeit levenshtein_distance_torch(r, h)\n",
    "jitted = torch.jit.script(levenshtein_distance)\n",
    "%timeit jitted(r, h)\n",
    "%timeit levenshtein_distance_list(r, h)\n",
    "%timeit levenshtein_distance_list_2(r, h)\n",
    "# %timeit levenshtein_distance_list_3(r, h)\n",
    "\n",
    "# jitted = torch.jit.script(levenshtein_distance_list)\n",
    "# %timeit jitted(r, h)\n",
    "\n",
    "# %timeit levenshtein_distance_array(r, h)\n",
    "# jitted = torch.jit.script(levenshtein_distance_array)\n",
    "# %timeit jitted(r, h)"
   ]
  }
 ],
 "metadata": {
  "kernelspec": {
   "display_name": "Python 3",
   "language": "python",
   "name": "python3"
  },
  "language_info": {
   "codemirror_mode": {
    "name": "ipython",
    "version": 3
   },
   "file_extension": ".py",
   "mimetype": "text/x-python",
   "name": "python",
   "nbconvert_exporter": "python",
   "pygments_lexer": "ipython3",
   "version": "3.7.6"
  }
 },
 "nbformat": 4,
 "nbformat_minor": 4
}
